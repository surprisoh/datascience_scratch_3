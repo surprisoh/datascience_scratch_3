{
 "cells": [
  {
   "cell_type": "markdown",
   "metadata": {},
   "source": [
    "# 3. 흐름 제어"
   ]
  },
  {
   "cell_type": "markdown",
   "metadata": {},
   "source": [
    "## (1) if\n",
    "- 기본 구조\n",
    "----------\n",
    "```\n",
    "if 조건문 1:\n",
    "    수행할 문장1\n",
    "    수행할 문장2\n",
    "    ...\n",
    "    \n",
    "elif 조건문 2:\n",
    "    수행할 문장3\n",
    "    수행할 문장4\n",
    "    \n",
    "else:\n",
    "    수행할 문장A\n",
    "    수행할 문장B\n",
    "        \n",
    "```        "
   ]
  },
  {
   "cell_type": "code",
   "execution_count": 1,
   "metadata": {
    "ExecuteTime": {
     "end_time": "2018-08-10T13:36:53.081650Z",
     "start_time": "2018-08-10T13:36:53.070077Z"
    }
   },
   "outputs": [
    {
     "data": {
      "text/plain": [
       "'과학'"
      ]
     },
     "execution_count": 1,
     "metadata": {},
     "output_type": "execute_result"
    }
   ],
   "source": [
    "if 1 > 2:\n",
    "    message = '러닛'\n",
    "elif 1 > 3:\n",
    "    message = '데이터'\n",
    "else:\n",
    "    message = '과학'\n",
    "\n",
    "message"
   ]
  },
  {
   "cell_type": "code",
   "execution_count": 2,
   "metadata": {
    "ExecuteTime": {
     "end_time": "2018-08-10T13:36:53.608505Z",
     "start_time": "2018-08-10T13:36:53.602242Z"
    }
   },
   "outputs": [
    {
     "data": {
      "text/plain": [
       "'even'"
      ]
     },
     "execution_count": 2,
     "metadata": {},
     "output_type": "execute_result"
    }
   ],
   "source": [
    "# 세 단계의 if문을 한 줄로 표현할 수도 있다.\n",
    "parity = 'even' if 2 % 2 == 0 else 'odd'\n",
    "parity"
   ]
  },
  {
   "cell_type": "markdown",
   "metadata": {},
   "source": [
    "## (2) while\n",
    "- 반복해서 문장을 수행해야 할 경우 while문을 사용한다.\n",
    "\n",
    "-------------\n",
    "```\n",
    "while <조건문>:\n",
    "    <수행할 문장1>\n",
    "    <수행할 문장2>\n",
    "    <수행할 문장3>\n",
    "    ```\n",
    "----------    \n",
    "- 조건문이 거짓이 될때까지 수행한다."
   ]
  },
  {
   "cell_type": "code",
   "execution_count": 3,
   "metadata": {
    "ExecuteTime": {
     "end_time": "2018-08-10T13:36:55.630944Z",
     "start_time": "2018-08-10T13:36:55.623166Z"
    }
   },
   "outputs": [
    {
     "name": "stdout",
     "output_type": "stream",
     "text": [
      "나무를 1번 찍었습니다.\n",
      "나무를 2번 찍었습니다.\n",
      "나무를 3번 찍었습니다.\n",
      "나무를 4번 찍었습니다.\n",
      "나무를 5번 찍었습니다.\n",
      "나무를 6번 찍었습니다.\n",
      "나무를 7번 찍었습니다.\n",
      "나무를 8번 찍었습니다.\n",
      "나무를 9번 찍었습니다.\n",
      "나무를 10번 찍었습니다.\n",
      "나무 넘어갑니다.\n"
     ]
    }
   ],
   "source": [
    "treeHit = 0\n",
    "while treeHit < 10:\n",
    "    treeHit = treeHit +1\n",
    "    print(\"나무를 %d번 찍었습니다.\" % treeHit)\n",
    "    if treeHit == 10:\n",
    "        print(\"나무 넘어갑니다.\")"
   ]
  },
  {
   "cell_type": "code",
   "execution_count": 4,
   "metadata": {
    "ExecuteTime": {
     "end_time": "2018-08-10T13:37:43.275603Z",
     "start_time": "2018-08-10T13:37:43.264942Z"
    }
   },
   "outputs": [
    {
     "name": "stdout",
     "output_type": "stream",
     "text": [
      "나무를 1번 찍었습니다.\n",
      "나무를 2번 찍었습니다.\n",
      "나무를 3번 찍었습니다.\n",
      "나무를 4번 찍었습니다.\n",
      "나무를 5번 찍었습니다.\n",
      "나무를 6번 찍었습니다.\n",
      "나무를 7번 찍었습니다.\n",
      "나무를 8번 찍었습니다.\n",
      "나무를 9번 찍었습니다.\n",
      "나무 넘어갑니다.\n"
     ]
    }
   ],
   "source": [
    "## 위 과정을 if로 표현\n",
    "\n",
    "treeHit = 0\n",
    "if treeHit == 0:\n",
    "    treeHit = treeHit +1\n",
    "    print(\"나무를 %d번 찍었습니다.\" % treeHit)\n",
    "\n",
    "    if treeHit == 1:\n",
    "        treeHit = treeHit +1\n",
    "        print(\"나무를 %d번 찍었습니다.\" % treeHit)\n",
    "\n",
    "        if treeHit == 2:\n",
    "            treeHit = treeHit +1\n",
    "            print(\"나무를 %d번 찍었습니다.\" % treeHit)\n",
    "\n",
    "            if treeHit == 3:\n",
    "                treeHit = treeHit +1\n",
    "                print(\"나무를 %d번 찍었습니다.\" % treeHit)\n",
    "\n",
    "                if treeHit == 4:\n",
    "                    treeHit = treeHit +1\n",
    "                    print(\"나무를 %d번 찍었습니다.\" % treeHit)\n",
    "\n",
    "                    if treeHit == 5:\n",
    "                        treeHit = treeHit +1\n",
    "                        print(\"나무를 %d번 찍었습니다.\" % treeHit)\n",
    "\n",
    "                        if treeHit == 6:\n",
    "                            treeHit = treeHit +1\n",
    "                            print(\"나무를 %d번 찍었습니다.\" % treeHit)\n",
    "\n",
    "                            if treeHit == 7:\n",
    "                                treeHit = treeHit +1\n",
    "                                print(\"나무를 %d번 찍었습니다.\" % treeHit)\n",
    "\n",
    "                                if treeHit == 8:\n",
    "                                    treeHit = treeHit +1\n",
    "                                    print(\"나무를 %d번 찍었습니다.\" % treeHit)\n",
    "\n",
    "                                    if treeHit == 9:\n",
    "                                        print(\"나무 넘어갑니다.\")"
   ]
  },
  {
   "cell_type": "markdown",
   "metadata": {},
   "source": [
    "## (3) for loop\n",
    "\n",
    "\n",
    "\n",
    "```\n",
    "for 변수 in 리스트(또는 튜플, 문자열):\n",
    "    수행할 문장1\n",
    "    수행할 문장2\n",
    "    ...\n",
    "    ```\n",
    "--------\n",
    "- 리스트나 튜플, 문자열의 첫 번째 요소부터 마지막 요소까지 차례로 변수에 대입되어 \"수행할 문장1\", \"수행할 문장2\" 등이 수행된다."
   ]
  },
  {
   "cell_type": "code",
   "execution_count": 5,
   "metadata": {
    "ExecuteTime": {
     "end_time": "2018-08-10T13:37:44.404597Z",
     "start_time": "2018-08-10T13:37:44.398797Z"
    }
   },
   "outputs": [
    {
     "name": "stdout",
     "output_type": "stream",
     "text": [
      "0\n",
      "1\n",
      "2\n",
      "3\n",
      "4\n",
      "5\n",
      "6\n",
      "7\n",
      "8\n",
      "9\n"
     ]
    }
   ],
   "source": [
    "for i in range(10):\n",
    "    print(i)"
   ]
  },
  {
   "cell_type": "code",
   "execution_count": 6,
   "metadata": {
    "ExecuteTime": {
     "end_time": "2018-08-10T13:37:44.848190Z",
     "start_time": "2018-08-10T13:37:44.837158Z"
    }
   },
   "outputs": [
    {
     "name": "stdout",
     "output_type": "stream",
     "text": [
      "나무를 1번 찍었습니다.\n",
      "나무를 2번 찍었습니다.\n",
      "나무를 3번 찍었습니다.\n",
      "나무를 4번 찍었습니다.\n",
      "나무를 5번 찍었습니다.\n",
      "나무를 6번 찍었습니다.\n",
      "나무를 7번 찍었습니다.\n",
      "나무를 8번 찍었습니다.\n",
      "나무를 9번 찍었습니다.\n",
      "나무를 10번 찍었습니다.\n",
      "나무 넘어갑니다.\n"
     ]
    }
   ],
   "source": [
    "treeHit = 0\n",
    "for i in range(100):\n",
    "    if treeHit < 10:\n",
    "        treeHit = treeHit +1\n",
    "        print(\"나무를 %d번 찍었습니다.\" % treeHit)\n",
    "#     elif treeHit == 10:\n",
    "#         print(\"나무 넘어갑니다.\")\n",
    "#         break\n",
    "    else:\n",
    "        print(\"나무 넘어갑니다.\")\n",
    "        break"
   ]
  },
  {
   "cell_type": "markdown",
   "metadata": {},
   "source": [
    "# 4. 함수\n",
    "- 함수란, 0개 혹은 그 이상의 인자를 받아 결과를 출력하는 규칙이다.\n",
    "- 매번 똑같은 내용을 반복하며 작성하는 것을 피하기 위해 사용한다."
   ]
  },
  {
   "cell_type": "markdown",
   "metadata": {},
   "source": [
    "## (1) def\n",
    "- 파이썬에서는 def를 이용해 함수를 정의한다.\n",
    "--------\n",
    "```\n",
    "def 함수이름(매개변수):\n",
    "    <수행할 문장>\n",
    "    ...\n",
    "    return 결과값\n",
    "    ```"
   ]
  },
  {
   "cell_type": "code",
   "execution_count": 7,
   "metadata": {
    "ExecuteTime": {
     "end_time": "2018-08-10T13:37:47.217551Z",
     "start_time": "2018-08-10T13:37:47.207130Z"
    }
   },
   "outputs": [
    {
     "data": {
      "text/plain": [
       "4"
      ]
     },
     "execution_count": 7,
     "metadata": {},
     "output_type": "execute_result"
    }
   ],
   "source": [
    "def double(x):\n",
    "    \"\"\"함수의 설명을 적는 곳\"\"\"\n",
    "    return x*2\n",
    "\n",
    "double(2)"
   ]
  },
  {
   "cell_type": "code",
   "execution_count": 8,
   "metadata": {
    "ExecuteTime": {
     "end_time": "2018-08-10T13:37:47.494386Z",
     "start_time": "2018-08-10T13:37:47.488884Z"
    }
   },
   "outputs": [],
   "source": [
    "## f 라는 함수를 인자로 받아 f(1)을 출력하는 함수\n",
    "\n",
    "def apply_to_one(f):\n",
    "    return f(1)"
   ]
  },
  {
   "cell_type": "markdown",
   "metadata": {},
   "source": [
    "#### - 변수에 초깃값을 미리 설정할 수 있다."
   ]
  },
  {
   "cell_type": "code",
   "execution_count": 14,
   "metadata": {
    "ExecuteTime": {
     "end_time": "2018-08-10T13:38:46.358904Z",
     "start_time": "2018-08-10T13:38:46.352847Z"
    }
   },
   "outputs": [],
   "source": [
    "def introduce_myself(name, age=True): \n",
    "    print(\"나의 이름은 %s 입니다.\" % name) \n",
    "    if age: \n",
    "        print(\"30대입니다.\")\n",
    "    else: \n",
    "        print(\"30대가 아닙니다.\")"
   ]
  },
  {
   "cell_type": "code",
   "execution_count": 15,
   "metadata": {
    "ExecuteTime": {
     "end_time": "2018-08-10T13:38:46.745806Z",
     "start_time": "2018-08-10T13:38:46.739958Z"
    }
   },
   "outputs": [
    {
     "name": "stdout",
     "output_type": "stream",
     "text": [
      "나의 이름은 러닛 입니다.\n",
      "30대입니다.\n"
     ]
    }
   ],
   "source": [
    "introduce_myself('러닛')"
   ]
  },
  {
   "cell_type": "code",
   "execution_count": 16,
   "metadata": {
    "ExecuteTime": {
     "end_time": "2018-08-10T13:38:51.965719Z",
     "start_time": "2018-08-10T13:38:51.956795Z"
    }
   },
   "outputs": [
    {
     "name": "stdout",
     "output_type": "stream",
     "text": [
      "나의 이름은 러닛 입니다.\n",
      "30대가 아닙니다.\n"
     ]
    }
   ],
   "source": [
    "introduce_myself('러닛', age = False)"
   ]
  },
  {
   "cell_type": "markdown",
   "metadata": {},
   "source": [
    "## (2) lambda 함수\n",
    "- def와 동일한 역할을 한다.\n",
    "- 보통 함수를 한줄로 간결하게 만들 때 사용한다.\n",
    "\n",
    "```\n",
    "lambda 인수1, 인수2, ... : 인수를 이용한 표현식\n",
    "```"
   ]
  },
  {
   "cell_type": "code",
   "execution_count": 17,
   "metadata": {
    "ExecuteTime": {
     "end_time": "2018-08-10T13:38:54.531903Z",
     "start_time": "2018-08-10T13:38:54.527309Z"
    }
   },
   "outputs": [],
   "source": [
    "lambda_double = lambda x: x*2"
   ]
  },
  {
   "cell_type": "code",
   "execution_count": 18,
   "metadata": {
    "ExecuteTime": {
     "end_time": "2018-08-10T13:38:54.549820Z",
     "start_time": "2018-08-10T13:38:54.541722Z"
    }
   },
   "outputs": [
    {
     "data": {
      "text/plain": [
       "4"
      ]
     },
     "execution_count": 18,
     "metadata": {},
     "output_type": "execute_result"
    }
   ],
   "source": [
    "lambda_double(2)"
   ]
  },
  {
   "cell_type": "markdown",
   "metadata": {},
   "source": [
    "# 5. 클래스\n",
    "- 클래스(class)를 사용하면 데이터와 관련 함수를 하나로 묶어 줄 수 있다.\n",
    "    - 예시\n",
    "        - 과자틀 : 클래스 (class)\n",
    "        - 과자틀에 의해서 만들어진 과자들 : 객체 (object)       \n",
    "    \n",
    "    \n",
    "- 클래스에 의해 만들어진 객체들은 객체별로 독립적인 성격을 갖는다. \n",
    "    - 과자틀에 의해서 만들어진 과자에 구멍을 뚫거나 조금 베어먹더라도 다른 과자들에는 아무 영향이 없는것과 마찬가지로 동일한 클래스에의해 생성된 객체들은 서로에게 전혀 영향을 주지 않는다."
   ]
  },
  {
   "cell_type": "code",
   "execution_count": 19,
   "metadata": {
    "ExecuteTime": {
     "end_time": "2018-08-10T13:38:57.053191Z",
     "start_time": "2018-08-10T13:38:57.044435Z"
    }
   },
   "outputs": [],
   "source": [
    "class Set:\n",
    "    # 이제 멤버 함수들을 정의한다. \n",
    "    # 모든 멤버 함수의 첫번쨰 인자는 'self'이다 (관습 중 하나)\n",
    "    # 'self'란 현재 사용되고 있는 Set 객체를 의미한다.\n",
    "    \n",
    "    def __init__(self, values = None):\n",
    "        \"\"\"이것은 constructor(생성자)이다\n",
    "        새로운 Set을 만들면 호출된다.\n",
    "        다음과 같이 사용할 수 있다.\n",
    "        s1 = Set()\n",
    "        s2 = Set([1, 2, 2, 3])\"\"\"\n",
    "        self.dict = {}                  ## 모든 Set의 인스턴스는 자체적으로 dict를 유지한다.\n",
    "        \n",
    "        if values is not None:          ## 만약 values가 없지 않다면, values의 각 value들을 객체에 추가한다.\n",
    "            for value in values:        ## 여기서 주의할 점은 입력되는 values가 list나 튜플 형태여야 작동을 한다는 것이다.\n",
    "                self.add(value)\n",
    "    \n",
    "    def __repr__(self):\n",
    "        \"\"\"파이썬 프롬프트에서 이 함수를 입력하거나 str()으로 보내주면\n",
    "        Set 객체를 문자열로 표현해줌\"\"\"\n",
    "        return \"Set : \" + str(self.dict)\n",
    "    \n",
    "    # self.dict에서 항목과 True를 각각 key와 value로 사용해서 Set 안에 존재하는 항목을 표현\n",
    "    def add(self, value):\n",
    "        self.dict[value] = True\n",
    "    \n",
    "    # 만약 항목이 dict의 key라면 항목은 Set 안에 존재함\n",
    "    def contains(self, value):\n",
    "        return value in self.dict\n",
    "    \n",
    "    def remove(self, value):\n",
    "        del (self.dict[value])"
   ]
  },
  {
   "cell_type": "code",
   "execution_count": 20,
   "metadata": {
    "ExecuteTime": {
     "end_time": "2018-08-10T13:38:57.348075Z",
     "start_time": "2018-08-10T13:38:57.341881Z"
    }
   },
   "outputs": [
    {
     "data": {
      "text/plain": [
       "Set : {1: True, 2: True, 3: True}"
      ]
     },
     "execution_count": 20,
     "metadata": {},
     "output_type": "execute_result"
    }
   ],
   "source": [
    "s = Set([1, 2, 3])\n",
    "s"
   ]
  },
  {
   "cell_type": "code",
   "execution_count": 21,
   "metadata": {
    "ExecuteTime": {
     "end_time": "2018-08-10T13:38:58.985738Z",
     "start_time": "2018-08-10T13:38:58.979533Z"
    }
   },
   "outputs": [
    {
     "data": {
      "text/plain": [
       "Set : {1: True, 2: True, 3: True, 4: True}"
      ]
     },
     "execution_count": 21,
     "metadata": {},
     "output_type": "execute_result"
    }
   ],
   "source": [
    "s.add(4)\n",
    "s"
   ]
  },
  {
   "cell_type": "code",
   "execution_count": 22,
   "metadata": {
    "ExecuteTime": {
     "end_time": "2018-08-10T13:38:59.251841Z",
     "start_time": "2018-08-10T13:38:59.242478Z"
    }
   },
   "outputs": [
    {
     "data": {
      "text/plain": [
       "Set : {1: True, 2: True, 4: True}"
      ]
     },
     "execution_count": 22,
     "metadata": {},
     "output_type": "execute_result"
    }
   ],
   "source": [
    "s.remove(3)\n",
    "s"
   ]
  },
  {
   "cell_type": "code",
   "execution_count": 23,
   "metadata": {
    "ExecuteTime": {
     "end_time": "2018-08-10T13:38:59.901320Z",
     "start_time": "2018-08-10T13:38:59.896015Z"
    }
   },
   "outputs": [
    {
     "name": "stdout",
     "output_type": "stream",
     "text": [
      "False\n"
     ]
    }
   ],
   "source": [
    "print(s.contains(3))"
   ]
  },
  {
   "cell_type": "markdown",
   "metadata": {},
   "source": [
    "# https://wikidocs.net/28\n",
    "- 05-1 클래스 따라해보기"
   ]
  },
  {
   "cell_type": "markdown",
   "metadata": {},
   "source": [
    "# 6. 파일 읽고 쓰기\n",
    "- open mode\n",
    "    - r : for reading\n",
    "    - r+ : opens for reading and writing (cannot truncate a file)\n",
    "    - w : for writing\n",
    "    - w+ : for writing and reading (can truncate a file)\n",
    "    - rb : for reading a binary file. The file pointer is placed at the beginning of the file.\n",
    "    - rb+ : reading or writing a binary file\n",
    "    - wb+ : writing a binary file\n",
    "    - a+ : opens for appending\n",
    "    - ab+ : Opens a file for both appending and reading in binary. The file pointer is at the end of the file if the file exists. The file opens in the append mode.\n",
    "    - x : open for exclusive creation, failing if the file already exists (Python 3)\n"
   ]
  },
  {
   "cell_type": "code",
   "execution_count": 24,
   "metadata": {
    "ExecuteTime": {
     "end_time": "2018-08-10T13:39:02.186795Z",
     "start_time": "2018-08-10T13:39:02.179927Z"
    }
   },
   "outputs": [],
   "source": [
    "file=open('test.txt', mode = 'w+')\n",
    "txt = \"\"\"데이터 과학(data science)이란, 데이터와 관련된 연구를 하는 학문이다.\n",
    "\n",
    "데이터의 구체적인 내용이 아닌 서로 다른 성질의 내용이나 형식의 데이터에 공통으로 존재하는 성질, 또는 그것들을 다루기 위한 기술의 개발에 착안점을 둔다는 특징을 가진다.\n",
    "\n",
    "사용되는 기술은 여러분야에 걸쳐있으며 수학, 통계학, 계산기과학, 정보공학, 패턴인식, 기계학습, 데이터마이닝, 데이터베이스 등과 관련이 있다.\n",
    "\n",
    "데이터 과학을 연구하는 사람을 데이터 과학자라고 한다.\n",
    "\n",
    "데이터 과학은 생물학, 의학, 공학, 사회학, 인문과학 등의 여러 분야에 응용되고 있다.\n",
    "\n",
    "\"\"\"\n",
    "file.write(txt)\n",
    "file.close()"
   ]
  },
  {
   "cell_type": "markdown",
   "metadata": {},
   "source": [
    "## (1) readline"
   ]
  },
  {
   "cell_type": "markdown",
   "metadata": {},
   "source": [
    "- 파일의 가장 첫 번째 줄만 출력한다."
   ]
  },
  {
   "cell_type": "code",
   "execution_count": 25,
   "metadata": {
    "ExecuteTime": {
     "end_time": "2018-08-10T13:39:04.574203Z",
     "start_time": "2018-08-10T13:39:04.568515Z"
    }
   },
   "outputs": [
    {
     "name": "stdout",
     "output_type": "stream",
     "text": [
      "데이터 과학(data science)이란, 데이터와 관련된 연구를 하는 학문이다.\n",
      "\n"
     ]
    }
   ],
   "source": [
    "file = open('test.txt', mode = 'r')\n",
    "print(file.readline())\n",
    "file.close()"
   ]
  },
  {
   "cell_type": "markdown",
   "metadata": {},
   "source": [
    "## (2) readlines"
   ]
  },
  {
   "cell_type": "markdown",
   "metadata": {},
   "source": [
    "- readlines() 함수는 파일의 모든 라인을 읽어서 각각의 줄을 요소로 갖는 리스트로 리턴한다."
   ]
  },
  {
   "cell_type": "code",
   "execution_count": 26,
   "metadata": {
    "ExecuteTime": {
     "end_time": "2018-08-10T13:39:06.088064Z",
     "start_time": "2018-08-10T13:39:06.081391Z"
    }
   },
   "outputs": [
    {
     "name": "stdout",
     "output_type": "stream",
     "text": [
      "['데이터 과학(data science)이란, 데이터와 관련된 연구를 하는 학문이다.\\n', '\\n', '데이터의 구체적인 내용이 아닌 서로 다른 성질의 내용이나 형식의 데이터에 공통으로 존재하는 성질, 또는 그것들을 다루기 위한 기술의 개발에 착안점을 둔다는 특징을 가진다.\\n', '\\n', '사용되는 기술은 여러분야에 걸쳐있으며 수학, 통계학, 계산기과학, 정보공학, 패턴인식, 기계학습, 데이터마이닝, 데이터베이스 등과 관련이 있다.\\n', '\\n', '데이터 과학을 연구하는 사람을 데이터 과학자라고 한다.\\n', '\\n', '데이터 과학은 생물학, 의학, 공학, 사회학, 인문과학 등의 여러 분야에 응용되고 있다.\\n', '\\n']\n"
     ]
    }
   ],
   "source": [
    "file = open('test.txt', mode = 'r')\n",
    "print(file.readlines())\n",
    "file.close()"
   ]
  },
  {
   "cell_type": "markdown",
   "metadata": {},
   "source": [
    "## (3) read\n",
    "- 파일의 내용 전체를 문자열로 리턴한다."
   ]
  },
  {
   "cell_type": "code",
   "execution_count": 27,
   "metadata": {
    "ExecuteTime": {
     "end_time": "2018-08-10T13:39:10.755240Z",
     "start_time": "2018-08-10T13:39:10.748577Z"
    }
   },
   "outputs": [
    {
     "name": "stdout",
     "output_type": "stream",
     "text": [
      "데이터 과학(data science)이란, 데이터와 관련된 연구를 하는 학문이다.\n",
      "\n",
      "데이터의 구체적인 내용이 아닌 서로 다른 성질의 내용이나 형식의 데이터에 공통으로 존재하는 성질, 또는 그것들을 다루기 위한 기술의 개발에 착안점을 둔다는 특징을 가진다.\n",
      "\n",
      "사용되는 기술은 여러분야에 걸쳐있으며 수학, 통계학, 계산기과학, 정보공학, 패턴인식, 기계학습, 데이터마이닝, 데이터베이스 등과 관련이 있다.\n",
      "\n",
      "데이터 과학을 연구하는 사람을 데이터 과학자라고 한다.\n",
      "\n",
      "데이터 과학은 생물학, 의학, 공학, 사회학, 인문과학 등의 여러 분야에 응용되고 있다.\n",
      "\n",
      "\n"
     ]
    }
   ],
   "source": [
    "file = open('test.txt', mode = 'r')\n",
    "print(file.read())\n",
    "file.close()"
   ]
  },
  {
   "cell_type": "markdown",
   "metadata": {},
   "source": [
    "## (4) write"
   ]
  },
  {
   "cell_type": "code",
   "execution_count": 28,
   "metadata": {
    "ExecuteTime": {
     "end_time": "2018-08-10T13:39:13.605990Z",
     "start_time": "2018-08-10T13:39:13.599730Z"
    }
   },
   "outputs": [],
   "source": [
    "file = open(\"test.txt\", 'a')\n",
    "file.write(\"Life is too short, you need python\")\n",
    "file.close()"
   ]
  },
  {
   "cell_type": "code",
   "execution_count": 29,
   "metadata": {
    "ExecuteTime": {
     "end_time": "2018-08-10T13:39:33.682373Z",
     "start_time": "2018-08-10T13:39:33.676304Z"
    },
    "scrolled": true
   },
   "outputs": [
    {
     "name": "stdout",
     "output_type": "stream",
     "text": [
      "데이터 과학(data science)이란, 데이터와 관련된 연구를 하는 학문이다.\n",
      "\n",
      "데이터의 구체적인 내용이 아닌 서로 다른 성질의 내용이나 형식의 데이터에 공통으로 존재하는 성질, 또는 그것들을 다루기 위한 기술의 개발에 착안점을 둔다는 특징을 가진다.\n",
      "\n",
      "사용되는 기술은 여러분야에 걸쳐있으며 수학, 통계학, 계산기과학, 정보공학, 패턴인식, 기계학습, 데이터마이닝, 데이터베이스 등과 관련이 있다.\n",
      "\n",
      "데이터 과학을 연구하는 사람을 데이터 과학자라고 한다.\n",
      "\n",
      "데이터 과학은 생물학, 의학, 공학, 사회학, 인문과학 등의 여러 분야에 응용되고 있다.\n",
      "\n",
      "Life is too short, you need python\n"
     ]
    }
   ],
   "source": [
    "file = open('test.txt', mode = 'r')\n",
    "print(file.read())\n",
    "file.close()"
   ]
  },
  {
   "cell_type": "markdown",
   "metadata": {},
   "source": [
    "# 7. 내장 함수"
   ]
  },
  {
   "cell_type": "markdown",
   "metadata": {},
   "source": [
    "## (1) type\n",
    "- 입력값의 자료형이 무엇인지 알려준다."
   ]
  },
  {
   "cell_type": "code",
   "execution_count": 30,
   "metadata": {
    "ExecuteTime": {
     "end_time": "2018-08-10T13:40:56.659206Z",
     "start_time": "2018-08-10T13:40:56.652258Z"
    }
   },
   "outputs": [
    {
     "data": {
      "text/plain": [
       "int"
      ]
     },
     "execution_count": 30,
     "metadata": {},
     "output_type": "execute_result"
    }
   ],
   "source": [
    "type(1)"
   ]
  },
  {
   "cell_type": "code",
   "execution_count": 31,
   "metadata": {
    "ExecuteTime": {
     "end_time": "2018-08-10T13:40:57.040544Z",
     "start_time": "2018-08-10T13:40:57.033651Z"
    }
   },
   "outputs": [
    {
     "data": {
      "text/plain": [
       "float"
      ]
     },
     "execution_count": 31,
     "metadata": {},
     "output_type": "execute_result"
    }
   ],
   "source": [
    "type(1.0)"
   ]
  },
  {
   "cell_type": "code",
   "execution_count": 32,
   "metadata": {
    "ExecuteTime": {
     "end_time": "2018-08-10T13:40:57.355450Z",
     "start_time": "2018-08-10T13:40:57.349022Z"
    }
   },
   "outputs": [
    {
     "data": {
      "text/plain": [
       "str"
      ]
     },
     "execution_count": 32,
     "metadata": {},
     "output_type": "execute_result"
    }
   ],
   "source": [
    "type('1')"
   ]
  },
  {
   "cell_type": "code",
   "execution_count": 33,
   "metadata": {
    "ExecuteTime": {
     "end_time": "2018-08-10T13:40:57.604064Z",
     "start_time": "2018-08-10T13:40:57.597744Z"
    }
   },
   "outputs": [
    {
     "data": {
      "text/plain": [
       "list"
      ]
     },
     "execution_count": 33,
     "metadata": {},
     "output_type": "execute_result"
    }
   ],
   "source": [
    "type([1, 2])"
   ]
  },
  {
   "cell_type": "code",
   "execution_count": 34,
   "metadata": {
    "ExecuteTime": {
     "end_time": "2018-08-10T13:40:58.086500Z",
     "start_time": "2018-08-10T13:40:58.080556Z"
    },
    "scrolled": true
   },
   "outputs": [
    {
     "data": {
      "text/plain": [
       "tuple"
      ]
     },
     "execution_count": 34,
     "metadata": {},
     "output_type": "execute_result"
    }
   ],
   "source": [
    "type((1, 2))"
   ]
  },
  {
   "cell_type": "markdown",
   "metadata": {},
   "source": [
    "## (2) int, float, list, tuple\n",
    "- 입력값의 자료형을 특정 자료형으로 바꿔준다.\n",
    "- list와 tuple은 반복 가능한 자료형을 입력해야된다.\n",
    "    - 반복 가능한 자료형\n",
    "            - list, tuple, set, string"
   ]
  },
  {
   "cell_type": "code",
   "execution_count": 35,
   "metadata": {
    "ExecuteTime": {
     "end_time": "2018-08-10T13:41:00.183366Z",
     "start_time": "2018-08-10T13:41:00.175992Z"
    }
   },
   "outputs": [
    {
     "data": {
      "text/plain": [
       "1"
      ]
     },
     "execution_count": 35,
     "metadata": {},
     "output_type": "execute_result"
    }
   ],
   "source": [
    "int('1')"
   ]
  },
  {
   "cell_type": "code",
   "execution_count": 36,
   "metadata": {
    "ExecuteTime": {
     "end_time": "2018-08-10T13:41:00.720670Z",
     "start_time": "2018-08-10T13:41:00.714173Z"
    }
   },
   "outputs": [
    {
     "data": {
      "text/plain": [
       "1.0"
      ]
     },
     "execution_count": 36,
     "metadata": {},
     "output_type": "execute_result"
    }
   ],
   "source": [
    "float('1')"
   ]
  },
  {
   "cell_type": "code",
   "execution_count": 37,
   "metadata": {
    "ExecuteTime": {
     "end_time": "2018-08-10T13:41:01.156040Z",
     "start_time": "2018-08-10T13:41:01.150893Z"
    }
   },
   "outputs": [
    {
     "data": {
      "text/plain": [
       "['1']"
      ]
     },
     "execution_count": 37,
     "metadata": {},
     "output_type": "execute_result"
    }
   ],
   "source": [
    "list('1')"
   ]
  },
  {
   "cell_type": "code",
   "execution_count": 38,
   "metadata": {
    "ExecuteTime": {
     "end_time": "2018-08-10T13:41:01.912419Z",
     "start_time": "2018-08-10T13:41:01.903885Z"
    },
    "scrolled": true
   },
   "outputs": [
    {
     "data": {
      "text/plain": [
       "['p', 'y', 't', 'h', 'o', 'n']"
      ]
     },
     "execution_count": 38,
     "metadata": {},
     "output_type": "execute_result"
    }
   ],
   "source": [
    "list('python')"
   ]
  },
  {
   "cell_type": "code",
   "execution_count": 39,
   "metadata": {
    "ExecuteTime": {
     "end_time": "2018-08-10T13:41:02.271092Z",
     "start_time": "2018-08-10T13:41:02.264854Z"
    }
   },
   "outputs": [
    {
     "data": {
      "text/plain": [
       "('1',)"
      ]
     },
     "execution_count": 39,
     "metadata": {},
     "output_type": "execute_result"
    }
   ],
   "source": [
    "tuple('1')"
   ]
  },
  {
   "cell_type": "code",
   "execution_count": 40,
   "metadata": {
    "ExecuteTime": {
     "end_time": "2018-08-10T13:41:02.658536Z",
     "start_time": "2018-08-10T13:41:02.652324Z"
    }
   },
   "outputs": [
    {
     "data": {
      "text/plain": [
       "'1'"
      ]
     },
     "execution_count": 40,
     "metadata": {},
     "output_type": "execute_result"
    }
   ],
   "source": [
    "str(1)"
   ]
  },
  {
   "cell_type": "code",
   "execution_count": 41,
   "metadata": {
    "ExecuteTime": {
     "end_time": "2018-08-10T13:41:03.903025Z",
     "start_time": "2018-08-10T13:41:03.896127Z"
    }
   },
   "outputs": [
    {
     "data": {
      "text/plain": [
       "\"('1',)\""
      ]
     },
     "execution_count": 41,
     "metadata": {},
     "output_type": "execute_result"
    }
   ],
   "source": [
    "str(tuple('1'))"
   ]
  },
  {
   "cell_type": "markdown",
   "metadata": {},
   "source": [
    "## (3) len\n",
    "- 입력값의 길이 (요소의 전체 개수)를 리턴해준다."
   ]
  },
  {
   "cell_type": "code",
   "execution_count": 42,
   "metadata": {
    "ExecuteTime": {
     "end_time": "2018-08-10T13:41:05.268129Z",
     "start_time": "2018-08-10T13:41:05.259653Z"
    }
   },
   "outputs": [
    {
     "data": {
      "text/plain": [
       "6"
      ]
     },
     "execution_count": 42,
     "metadata": {},
     "output_type": "execute_result"
    }
   ],
   "source": [
    "len('python')"
   ]
  },
  {
   "cell_type": "code",
   "execution_count": 43,
   "metadata": {
    "ExecuteTime": {
     "end_time": "2018-08-10T13:41:05.284779Z",
     "start_time": "2018-08-10T13:41:05.277425Z"
    }
   },
   "outputs": [
    {
     "data": {
      "text/plain": [
       "4"
      ]
     },
     "execution_count": 43,
     "metadata": {},
     "output_type": "execute_result"
    }
   ],
   "source": [
    "len([1, 2, 3, 4])"
   ]
  },
  {
   "cell_type": "markdown",
   "metadata": {},
   "source": [
    "## (4) max, min\n",
    "- max: 반복 가능한 자료형을 입력하면 최대값을 리턴해준다.\n",
    "- min : 최소값 리턴"
   ]
  },
  {
   "cell_type": "code",
   "execution_count": 44,
   "metadata": {
    "ExecuteTime": {
     "end_time": "2018-08-10T13:41:08.133146Z",
     "start_time": "2018-08-10T13:41:08.124535Z"
    }
   },
   "outputs": [
    {
     "data": {
      "text/plain": [
       "3"
      ]
     },
     "execution_count": 44,
     "metadata": {},
     "output_type": "execute_result"
    }
   ],
   "source": [
    "max([1, 2, 3])"
   ]
  },
  {
   "cell_type": "code",
   "execution_count": 45,
   "metadata": {
    "ExecuteTime": {
     "end_time": "2018-08-10T13:41:08.144871Z",
     "start_time": "2018-08-10T13:41:08.137229Z"
    }
   },
   "outputs": [
    {
     "data": {
      "text/plain": [
       "1"
      ]
     },
     "execution_count": 45,
     "metadata": {},
     "output_type": "execute_result"
    }
   ],
   "source": [
    "min([1, 2, 3])"
   ]
  },
  {
   "cell_type": "markdown",
   "metadata": {},
   "source": [
    "## (5) range\n",
    "- range(start, stop[, step])\n",
    "- 입력 받은 숫자에 해당되는 범위의 값을 반복가능한 객체로 출력해준다."
   ]
  },
  {
   "cell_type": "code",
   "execution_count": 46,
   "metadata": {
    "ExecuteTime": {
     "end_time": "2018-08-10T13:41:12.600980Z",
     "start_time": "2018-08-10T13:41:12.594223Z"
    }
   },
   "outputs": [
    {
     "data": {
      "text/plain": [
       "range(0, 10)"
      ]
     },
     "execution_count": 46,
     "metadata": {},
     "output_type": "execute_result"
    }
   ],
   "source": [
    "range(10)"
   ]
  },
  {
   "cell_type": "code",
   "execution_count": 47,
   "metadata": {
    "ExecuteTime": {
     "end_time": "2018-08-10T13:41:12.620104Z",
     "start_time": "2018-08-10T13:41:12.613059Z"
    }
   },
   "outputs": [
    {
     "data": {
      "text/plain": [
       "[0, 1, 2, 3, 4, 5, 6, 7, 8, 9]"
      ]
     },
     "execution_count": 47,
     "metadata": {},
     "output_type": "execute_result"
    }
   ],
   "source": [
    "list(range(10))"
   ]
  },
  {
   "cell_type": "code",
   "execution_count": 48,
   "metadata": {
    "ExecuteTime": {
     "end_time": "2018-08-10T13:41:12.631669Z",
     "start_time": "2018-08-10T13:41:12.624378Z"
    }
   },
   "outputs": [
    {
     "data": {
      "text/plain": [
       "[2, 3, 4, 5, 6, 7, 8, 9]"
      ]
     },
     "execution_count": 48,
     "metadata": {},
     "output_type": "execute_result"
    }
   ],
   "source": [
    "list(range(2, 10))"
   ]
  },
  {
   "cell_type": "code",
   "execution_count": 49,
   "metadata": {
    "ExecuteTime": {
     "end_time": "2018-08-10T13:41:12.644030Z",
     "start_time": "2018-08-10T13:41:12.636067Z"
    }
   },
   "outputs": [
    {
     "data": {
      "text/plain": [
       "[2, 4, 6, 8, 10, 12, 14, 16, 18]"
      ]
     },
     "execution_count": 49,
     "metadata": {},
     "output_type": "execute_result"
    }
   ],
   "source": [
    "list(range(2, 20, 2))"
   ]
  },
  {
   "cell_type": "markdown",
   "metadata": {},
   "source": [
    "## (6) sorted\n",
    "- 정렬해주는 함수\n",
    "- reverse 인자를 통해 오름차순, 내림차순을 설정할 수 있다."
   ]
  },
  {
   "cell_type": "code",
   "execution_count": 50,
   "metadata": {
    "ExecuteTime": {
     "end_time": "2018-08-10T13:41:14.586711Z",
     "start_time": "2018-08-10T13:41:14.579401Z"
    }
   },
   "outputs": [
    {
     "data": {
      "text/plain": [
       "[1, 51, 10000]"
      ]
     },
     "execution_count": 50,
     "metadata": {},
     "output_type": "execute_result"
    }
   ],
   "source": [
    "sorted([10000, 1, 51])"
   ]
  },
  {
   "cell_type": "code",
   "execution_count": 51,
   "metadata": {
    "ExecuteTime": {
     "end_time": "2018-08-10T13:41:14.604878Z",
     "start_time": "2018-08-10T13:41:14.597465Z"
    }
   },
   "outputs": [
    {
     "data": {
      "text/plain": [
       "[10000, 51, 1]"
      ]
     },
     "execution_count": 51,
     "metadata": {},
     "output_type": "execute_result"
    }
   ],
   "source": [
    "sorted([10000, 1, 51], reverse=True)"
   ]
  },
  {
   "cell_type": "markdown",
   "metadata": {},
   "source": [
    "## (7) zip\n",
    "- 동일한 개수로 이루어진 자료형을 묶어 준다."
   ]
  },
  {
   "cell_type": "code",
   "execution_count": 52,
   "metadata": {
    "ExecuteTime": {
     "end_time": "2018-08-10T13:41:15.649121Z",
     "start_time": "2018-08-10T13:41:15.642615Z"
    }
   },
   "outputs": [
    {
     "data": {
      "text/plain": [
       "[(1, 10), (2, 20)]"
      ]
     },
     "execution_count": 52,
     "metadata": {},
     "output_type": "execute_result"
    }
   ],
   "source": [
    "list(zip([1, 2], [10, 20]))"
   ]
  },
  {
   "cell_type": "markdown",
   "metadata": {},
   "source": [
    "## (8) map\n",
    "- map(f, iterable)은 함수(f)와 반복 가능한(iterable) 자료형을 입력으로 받는다. map은 입력받은 자료형의 각 요소가 함수 f에 의해 수행된 결과를 묶어서 리턴하는 함수이다."
   ]
  },
  {
   "cell_type": "code",
   "execution_count": 53,
   "metadata": {
    "ExecuteTime": {
     "end_time": "2018-08-10T13:41:18.169652Z",
     "start_time": "2018-08-10T13:41:18.164620Z"
    }
   },
   "outputs": [],
   "source": [
    "def square_x(x):\n",
    "    return x ** 2"
   ]
  },
  {
   "cell_type": "code",
   "execution_count": 54,
   "metadata": {
    "ExecuteTime": {
     "end_time": "2018-08-10T13:41:18.185624Z",
     "start_time": "2018-08-10T13:41:18.178525Z"
    },
    "scrolled": true
   },
   "outputs": [
    {
     "data": {
      "text/plain": [
       "[4, 9, 16]"
      ]
     },
     "execution_count": 54,
     "metadata": {},
     "output_type": "execute_result"
    }
   ],
   "source": [
    "list(map(square_x, [2, 3, 4]))"
   ]
  },
  {
   "cell_type": "markdown",
   "metadata": {},
   "source": [
    "## (9) enumerate\n",
    "- 순서가 있는 자료형(리스트, 튜플, 문자열)을 입력으로 받아 인덱스와 값을 포함하는 enumerate 객체를 리턴한다.\n",
    "\n",
    "\n",
    "```\n",
    "for idx, value in enumerate(리스트):\n",
    "    idx, value\n",
    "    ...\n",
    "    return 결과값\n",
    "    ```"
   ]
  },
  {
   "cell_type": "code",
   "execution_count": 55,
   "metadata": {
    "ExecuteTime": {
     "end_time": "2018-08-10T13:41:19.210080Z",
     "start_time": "2018-08-10T13:41:19.204220Z"
    },
    "scrolled": true
   },
   "outputs": [
    {
     "name": "stdout",
     "output_type": "stream",
     "text": [
      "0 1\n",
      "1 2\n",
      "2 3\n"
     ]
    }
   ],
   "source": [
    "for idx, value in enumerate([1, 2, 3]):\n",
    "    print(idx, value)"
   ]
  },
  {
   "cell_type": "markdown",
   "metadata": {},
   "source": [
    "# 8. 기타"
   ]
  },
  {
   "cell_type": "markdown",
   "metadata": {},
   "source": [
    "## (1) List Comprehension\n",
    "- list 안에서 for loop을 사용할 수 있다.\n",
    "- 기존의 list에서 특정 항목을 선택하거나 변환시킨 결과를 새로운 list에 저장해야되는 경우, list comprehension을 사용한다."
   ]
  },
  {
   "cell_type": "code",
   "execution_count": 56,
   "metadata": {
    "ExecuteTime": {
     "end_time": "2018-08-10T13:41:21.774395Z",
     "start_time": "2018-08-10T13:41:21.765670Z"
    }
   },
   "outputs": [
    {
     "data": {
      "text/plain": [
       "[0, 2, 4]"
      ]
     },
     "execution_count": 56,
     "metadata": {},
     "output_type": "execute_result"
    }
   ],
   "source": [
    "# 0 ~ 5까지의 수 중에서 2로 나눈 나머지가 0인 숫자들만 (짝수) 출력\n",
    "\n",
    "even_numbers = [x for x in range(5) if x % 2 ==0]  \n",
    "even_numbers"
   ]
  },
  {
   "cell_type": "code",
   "execution_count": 57,
   "metadata": {
    "ExecuteTime": {
     "end_time": "2018-08-10T13:41:22.208858Z",
     "start_time": "2018-08-10T13:41:22.200650Z"
    }
   },
   "outputs": [
    {
     "data": {
      "text/plain": [
       "[0, 1, 4, 9, 16]"
      ]
     },
     "execution_count": 57,
     "metadata": {},
     "output_type": "execute_result"
    }
   ],
   "source": [
    "# 0 ~ 5까지의 수 중 x 제곱인 수만 출력\n",
    "\n",
    "squares = [x**2 for x in range(5)] \n",
    "squares"
   ]
  },
  {
   "cell_type": "markdown",
   "metadata": {},
   "source": [
    "- 또한 dict나 set으로 변환 시킬 수 있다."
   ]
  },
  {
   "cell_type": "code",
   "execution_count": 58,
   "metadata": {
    "ExecuteTime": {
     "end_time": "2018-08-10T13:41:23.062268Z",
     "start_time": "2018-08-10T13:41:23.054739Z"
    }
   },
   "outputs": [
    {
     "data": {
      "text/plain": [
       "{0: 0, 1: 1, 2: 4, 3: 9, 4: 16}"
      ]
     },
     "execution_count": 58,
     "metadata": {},
     "output_type": "execute_result"
    }
   ],
   "source": [
    "squar_dict = {x: x*x for x in range(5)}\n",
    "squar_dict"
   ]
  },
  {
   "cell_type": "code",
   "execution_count": 59,
   "metadata": {
    "ExecuteTime": {
     "end_time": "2018-08-10T13:41:23.495988Z",
     "start_time": "2018-08-10T13:41:23.487864Z"
    }
   },
   "outputs": [
    {
     "data": {
      "text/plain": [
       "{1}"
      ]
     },
     "execution_count": 59,
     "metadata": {},
     "output_type": "execute_result"
    }
   ],
   "source": [
    "square_set = {x * x for x in [1, -1]}\n",
    "square_set"
   ]
  },
  {
   "cell_type": "markdown",
   "metadata": {},
   "source": [
    "- list comprehension에는 여러 for loop를 포함할 수 있다."
   ]
  },
  {
   "cell_type": "code",
   "execution_count": 60,
   "metadata": {
    "ExecuteTime": {
     "end_time": "2018-08-10T13:41:26.208382Z",
     "start_time": "2018-08-10T13:41:26.199157Z"
    }
   },
   "outputs": [
    {
     "data": {
      "text/plain": [
       "[(0, 0), (0, 1), (0, 2), (1, 0), (1, 1), (1, 2), (2, 0), (2, 1), (2, 2)]"
      ]
     },
     "execution_count": 60,
     "metadata": {},
     "output_type": "execute_result"
    }
   ],
   "source": [
    "# 뒤에 나오는 for는 앞에 나온 결과에 대해 반복한다.\n",
    "\n",
    "pairs = [(x, y) \n",
    "         for x in range(3) \n",
    "         for y in range(3)]  \n",
    "pairs"
   ]
  },
  {
   "cell_type": "code",
   "execution_count": 61,
   "metadata": {
    "ExecuteTime": {
     "end_time": "2018-08-10T13:41:26.223695Z",
     "start_time": "2018-08-10T13:41:26.211655Z"
    }
   },
   "outputs": [
    {
     "data": {
      "text/plain": [
       "[(0, 1),\n",
       " (0, 2),\n",
       " (0, 3),\n",
       " (0, 4),\n",
       " (1, 2),\n",
       " (1, 3),\n",
       " (1, 4),\n",
       " (2, 3),\n",
       " (2, 4),\n",
       " (3, 4)]"
      ]
     },
     "execution_count": 61,
     "metadata": {},
     "output_type": "execute_result"
    }
   ],
   "source": [
    "increasing_paris = [(x, y)                     # x < y인 경우만 해당\n",
    "                    for x in range(5) \n",
    "                    for y in range(x + 1, 5)] # range(lo, hi) 는 lo부터 시작해서 hi까지 이다.\n",
    "increasing_paris"
   ]
  },
  {
   "cell_type": "code",
   "execution_count": null,
   "metadata": {},
   "outputs": [],
   "source": []
  },
  {
   "cell_type": "code",
   "execution_count": null,
   "metadata": {},
   "outputs": [],
   "source": []
  }
 ],
 "metadata": {
  "anaconda-cloud": {},
  "hide_input": false,
  "kernelspec": {
   "display_name": "Python [default]",
   "language": "python",
   "name": "python3"
  },
  "language_info": {
   "codemirror_mode": {
    "name": "ipython",
    "version": 3
   },
   "file_extension": ".py",
   "mimetype": "text/x-python",
   "name": "python",
   "nbconvert_exporter": "python",
   "pygments_lexer": "ipython3",
   "version": "3.5.4"
  }
 },
 "nbformat": 4,
 "nbformat_minor": 2
}
