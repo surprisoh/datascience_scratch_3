{
 "cells": [
  {
   "cell_type": "code",
   "execution_count": null,
   "metadata": {
    "ExecuteTime": {
     "end_time": "2018-08-25T04:43:50.249883Z",
     "start_time": "2018-08-25T04:43:49.483762Z"
    }
   },
   "outputs": [],
   "source": [
    "import matplotlib.pyplot as plt\n",
    "import matplotlib\n",
    "matplotlib.style.use('ggplot') ## R ggplot style\n",
    "import numpy as np"
   ]
  },
  {
   "cell_type": "markdown",
   "metadata": {},
   "source": [
    "# 1. sympy를 활용한 미분\n",
    "- SymPy는 심볼릭 연산(symbolic operation)을 지원하기 위한 파이썬 패키지이다. 심볼릭 연산이란 사람이 연필로 계산하는 미분/적분과 동일한 형태의 연산을 말한다. 즉,  $x^2$ 의 미분 연산을 수행하면 그 결과가  $2x$ 란 형태로 출력된다. 딥 러닝(deep learning) 등에 많이 사용되는 파이썬의 theano 패키지나 tensorflow 패키지도 기울기 함수 계산을 위해 이러한 심볼릭 연산 기능을 갖추고 있다."
   ]
  },
  {
   "cell_type": "markdown",
   "metadata": {},
   "source": [
    "## (1) sympy 기초"
   ]
  },
  {
   "cell_type": "code",
   "execution_count": null,
   "metadata": {
    "ExecuteTime": {
     "end_time": "2018-08-25T04:43:51.030436Z",
     "start_time": "2018-08-25T04:43:50.253671Z"
    }
   },
   "outputs": [],
   "source": [
    "import sympy"
   ]
  },
  {
   "cell_type": "code",
   "execution_count": null,
   "metadata": {
    "ExecuteTime": {
     "end_time": "2018-08-25T04:43:51.116402Z",
     "start_time": "2018-08-25T04:43:51.033295Z"
    }
   },
   "outputs": [],
   "source": [
    "# Juypter 노트북에서 수학식의 LaTeX 표현을 위해 필요함\n",
    "sympy.init_printing(use_latex='mathjax')"
   ]
  },
  {
   "cell_type": "code",
   "execution_count": null,
   "metadata": {
    "ExecuteTime": {
     "end_time": "2018-08-25T04:43:51.127468Z",
     "start_time": "2018-08-25T04:43:51.119526Z"
    }
   },
   "outputs": [],
   "source": [
    "## latex 표현 중지\n",
    "# sympy.init_printing(pretty_print=False)  "
   ]
  },
  {
   "cell_type": "code",
   "execution_count": null,
   "metadata": {
    "ExecuteTime": {
     "end_time": "2018-08-25T04:43:51.142803Z",
     "start_time": "2018-08-25T04:43:51.131857Z"
    },
    "scrolled": true
   },
   "outputs": [],
   "source": [
    "x = sympy.symbols('x')\n",
    "x"
   ]
  },
  {
   "cell_type": "code",
   "execution_count": null,
   "metadata": {
    "ExecuteTime": {
     "end_time": "2018-08-25T04:43:51.158996Z",
     "start_time": "2018-08-25T04:43:51.146223Z"
    }
   },
   "outputs": [],
   "source": [
    "f = x * sympy.exp(x)\n",
    "f"
   ]
  },
  {
   "cell_type": "code",
   "execution_count": null,
   "metadata": {
    "ExecuteTime": {
     "end_time": "2018-08-25T04:43:52.090569Z",
     "start_time": "2018-08-25T04:43:52.079639Z"
    }
   },
   "outputs": [],
   "source": [
    "## 미분\n",
    "\n",
    "f.diff(x)"
   ]
  },
  {
   "cell_type": "code",
   "execution_count": null,
   "metadata": {
    "ExecuteTime": {
     "end_time": "2018-08-25T04:43:52.691960Z",
     "start_time": "2018-08-25T04:43:52.682764Z"
    },
    "scrolled": true
   },
   "outputs": [],
   "source": [
    "## 연산된 결과를 계산\n",
    "## subs(old, new) : 기존 변수를 새로운 변수로 교체한다.\n",
    "\n",
    "f.diff(x).subs(x, 2).evalf()"
   ]
  },
  {
   "cell_type": "code",
   "execution_count": null,
   "metadata": {
    "ExecuteTime": {
     "end_time": "2018-08-25T04:43:53.728985Z",
     "start_time": "2018-08-25T04:43:53.721381Z"
    }
   },
   "outputs": [],
   "source": [
    "## 함수로 만들어서 계산\n",
    "## lambdify : 수치 계산을 위한 람다 함수를 만들어준다.\n",
    "\n",
    "x = sympy.symbols('x')\n",
    "y = sympy.symbols('y')\n",
    "f = x+y\n",
    "\n",
    "func = sympy.lambdify((x, y), f, modules=['numpy'])\n",
    "## (입력할 변수, 함수, 수치계산을 위한 모듈)"
   ]
  },
  {
   "cell_type": "code",
   "execution_count": null,
   "metadata": {
    "ExecuteTime": {
     "end_time": "2018-08-25T04:43:53.926727Z",
     "start_time": "2018-08-25T04:43:53.919671Z"
    }
   },
   "outputs": [],
   "source": [
    "func(3, 10)"
   ]
  },
  {
   "cell_type": "markdown",
   "metadata": {},
   "source": [
    "----------"
   ]
  },
  {
   "cell_type": "code",
   "execution_count": null,
   "metadata": {
    "ExecuteTime": {
     "end_time": "2018-08-25T04:43:54.333806Z",
     "start_time": "2018-08-25T04:43:54.328364Z"
    }
   },
   "outputs": [],
   "source": [
    "## 지수함수 미분\n",
    "## e^x를 미분하세요"
   ]
  },
  {
   "cell_type": "code",
   "execution_count": null,
   "metadata": {
    "ExecuteTime": {
     "end_time": "2018-08-25T04:43:54.523347Z",
     "start_time": "2018-08-25T04:43:54.514904Z"
    },
    "scrolled": true
   },
   "outputs": [],
   "source": [
    "x = sympy.symbols('x')\n",
    "f = sympy.exp(x)\n",
    "f.diff(x)"
   ]
  },
  {
   "cell_type": "code",
   "execution_count": null,
   "metadata": {
    "ExecuteTime": {
     "end_time": "2018-08-25T04:43:54.726403Z",
     "start_time": "2018-08-25T04:43:54.719460Z"
    }
   },
   "outputs": [],
   "source": [
    "## 합성함수의 미분\n",
    "## xg(x) 미분를 x에 대해 미분해보세요\n",
    "## sympy.Function 사용"
   ]
  },
  {
   "cell_type": "code",
   "execution_count": null,
   "metadata": {
    "ExecuteTime": {
     "end_time": "2018-08-25T04:43:55.769009Z",
     "start_time": "2018-08-25T04:43:55.762021Z"
    },
    "scrolled": true
   },
   "outputs": [],
   "source": [
    "x = sympy.symbols('x')\n",
    "g = sympy.Function('g')"
   ]
  },
  {
   "cell_type": "code",
   "execution_count": null,
   "metadata": {
    "ExecuteTime": {
     "end_time": "2018-08-25T04:43:56.083522Z",
     "start_time": "2018-08-25T04:43:56.072165Z"
    }
   },
   "outputs": [],
   "source": [
    "sympy.diff(x*(g(x)), x)"
   ]
  },
  {
   "cell_type": "markdown",
   "metadata": {},
   "source": [
    "------------"
   ]
  },
  {
   "cell_type": "markdown",
   "metadata": {},
   "source": [
    "## (2) 편미분"
   ]
  },
  {
   "cell_type": "code",
   "execution_count": null,
   "metadata": {
    "ExecuteTime": {
     "end_time": "2018-08-25T04:43:58.808807Z",
     "start_time": "2018-08-25T04:43:58.797518Z"
    }
   },
   "outputs": [],
   "source": [
    "## 편미분\n",
    "## x^2 + xy + y^2를 y에 대해 미분하세요"
   ]
  },
  {
   "cell_type": "code",
   "execution_count": null,
   "metadata": {
    "ExecuteTime": {
     "end_time": "2018-08-25T04:43:59.030774Z",
     "start_time": "2018-08-25T04:43:59.025085Z"
    }
   },
   "outputs": [],
   "source": [
    "#### 스터디원 코드 ####\n",
    "x, y = sympy.symbols('x y')\n",
    "f = x**2 + x*y + y**2"
   ]
  },
  {
   "cell_type": "code",
   "execution_count": null,
   "metadata": {
    "ExecuteTime": {
     "end_time": "2018-08-25T04:43:59.543704Z",
     "start_time": "2018-08-25T04:43:59.530767Z"
    }
   },
   "outputs": [],
   "source": [
    "f.diff(y, 1)"
   ]
  },
  {
   "cell_type": "code",
   "execution_count": null,
   "metadata": {
    "ExecuteTime": {
     "end_time": "2018-08-25T04:43:59.553364Z",
     "start_time": "2018-08-25T04:43:59.548266Z"
    }
   },
   "outputs": [],
   "source": [
    "## 편미분\n",
    "## x^2 + xy + y^2를 y에 대해 미분한 후, x에 대해 미분하세요\n"
   ]
  },
  {
   "cell_type": "code",
   "execution_count": null,
   "metadata": {
    "ExecuteTime": {
     "end_time": "2018-08-25T04:44:00.145736Z",
     "start_time": "2018-08-25T04:44:00.142080Z"
    }
   },
   "outputs": [],
   "source": [
    "#### 스터디원 코드 ####\n",
    "# x, y = sympy.symbols('x y')\n",
    "# f = x**2 + x*y + y**2"
   ]
  },
  {
   "cell_type": "code",
   "execution_count": null,
   "metadata": {
    "ExecuteTime": {
     "end_time": "2018-08-25T04:44:00.576803Z",
     "start_time": "2018-08-25T04:44:00.570904Z"
    }
   },
   "outputs": [],
   "source": [
    "## latex 표현 중지\n",
    "sympy.init_printing(pretty_print=False)"
   ]
  },
  {
   "cell_type": "markdown",
   "metadata": {},
   "source": [
    "# 2. 경사하강법\n",
    "- Gradient Descent\n",
    "- Gradient Descent 방법은 다음과 같이 단순히 현재 위치에서의 기울기 값  $g(x_k)=\\frac {df(x_k)}{dx}$  만을 이용한다.\n",
    "- $x_{k+1}=x_k−αg(x_k)$\n",
    "\n",
    "\n",
    "\n",
    "### - 실행 과정\n",
    "- 임의의 시작점에서 gradient 계산 \n",
    "- gradient 반대 방향으로 0.01 만큼 이동\n",
    "- 현재 위치와 이동할 다음 위치 간의 편차 (거리)가 허용치보다 적을 경우 멈춘다.\n",
    "\n",
    "\n",
    "### - 필요한 함수\n",
    "- 편미분\n",
    "- 그레디언트\n",
    "- 스텝"
   ]
  },
  {
   "cell_type": "code",
   "execution_count": null,
   "metadata": {
    "ExecuteTime": {
     "end_time": "2018-08-25T04:44:02.595568Z",
     "start_time": "2018-08-25T04:44:02.591392Z"
    }
   },
   "outputs": [],
   "source": [
    "## x^2 함수에 대해 경사하강법을 적용한다.\n",
    "\n",
    "def convex_function(x):\n",
    "    return x**2"
   ]
  },
  {
   "cell_type": "code",
   "execution_count": null,
   "metadata": {
    "ExecuteTime": {
     "end_time": "2018-08-25T04:44:03.263532Z",
     "start_time": "2018-08-25T04:44:02.950938Z"
    }
   },
   "outputs": [],
   "source": [
    "xs = [i for i in range(-100, 100)]\n",
    "plt.plot(xs, [convex_function(i) for i in xs])\n",
    "plt.scatter(0, 0, color = 'blue', label = 'minimum')\n",
    "plt.legend(loc = 'center')\n",
    "plt.show()"
   ]
  },
  {
   "cell_type": "markdown",
   "metadata": {},
   "source": [
    "> ### (0, 0) 을 최솟값으로 갖는다. 경사하강법을 통해 이 점을 잘 찾아가는지 살펴보자."
   ]
  },
  {
   "cell_type": "code",
   "execution_count": null,
   "metadata": {
    "ExecuteTime": {
     "end_time": "2018-08-25T04:44:05.416488Z",
     "start_time": "2018-08-25T04:44:05.409875Z"
    }
   },
   "outputs": [],
   "source": [
    "## 편미분\n",
    "## 변화율로 편미분값 근사\n",
    "\n",
    "def partial_difference_quotient(f, v, i, h):\n",
    "    \"\"\" 함수 f에서 v의 i번째 값의 편미분값\"\"\"\n",
    "    if i > len(v): \n",
    "        # 찾고자 하는 i가 데이터 v의 인덱스보다 크면 error\n",
    "        print('Value Error')\n",
    "        \n",
    "    else:\n",
    "        v_j = v[i]  ## i 번째 v값\n",
    "        w = v_j + h ## i 번째 v값 + h\n",
    "        \n",
    "        return (f(w) - f(v_j)) / h"
   ]
  },
  {
   "cell_type": "code",
   "execution_count": null,
   "metadata": {
    "ExecuteTime": {
     "end_time": "2018-08-25T04:44:06.888379Z",
     "start_time": "2018-08-25T04:44:06.883381Z"
    }
   },
   "outputs": [],
   "source": [
    "## 그레디언트\n",
    "## 각 위치의 편미분값들을 구한다.\n",
    "\n",
    "def estimate_gradient(f, v, h=0.00001):\n",
    "    \"\"\"전체 v에서 loop를 돌면서 각 v_i에 대한 미분값 계산 -> 편미분 벡터 (그레디언트)가 된다. \"\"\"\n",
    "    return [partial_difference_quotient(f, v, i, h)  # 함수 f에 대해 어떤 위치 v에 대한 미분값 \n",
    "            for i, _ in enumerate(v)]"
   ]
  },
  {
   "cell_type": "code",
   "execution_count": null,
   "metadata": {
    "ExecuteTime": {
     "end_time": "2018-08-25T04:44:09.572480Z",
     "start_time": "2018-08-25T04:44:09.563618Z"
    },
    "scrolled": false
   },
   "outputs": [],
   "source": [
    "v = np.linspace(-10, 10, num = 100) ## 정해진 범위 안에서 균등한 간격으로 n개의 유리수를 생성한다.\n",
    "\n",
    "## v array에서 10번째 값에 대한 미분값을 찾아보자.\n",
    "partial_difference_quotient(convex_function, v, 10, 0.0001)"
   ]
  },
  {
   "cell_type": "code",
   "execution_count": null,
   "metadata": {
    "ExecuteTime": {
     "end_time": "2018-08-25T04:47:09.992606Z",
     "start_time": "2018-08-25T04:47:09.987402Z"
    }
   },
   "outputs": [],
   "source": [
    "def step(v, direction, step_size):\n",
    "    \"\"\" v 위치에서 step_size 만큼 direction_i 방향으로 이동\"\"\"\n",
    "\n",
    "    return [v_i + step_size * direction_i\n",
    "            for v_i, direction_i in zip(v, direction)]"
   ]
  },
  {
   "cell_type": "code",
   "execution_count": null,
   "metadata": {
    "ExecuteTime": {
     "end_time": "2018-08-25T04:48:11.317675Z",
     "start_time": "2018-08-25T04:48:11.310441Z"
    }
   },
   "outputs": [],
   "source": [
    "def distance(v, w):\n",
    "    \"\"\"\"\"\"\n",
    "    import math\n",
    "    v_arr = np.array(v) # 계산의 편의를 위해 numpy array로 변환\n",
    "    w_arr = np.array(w)\n",
    "    vector_subtract = v_arr - w_arr # 두 벡터의 차이\n",
    "    sum_of_square = vector_subtract.dot(vector_subtract) # 벡터 차이의 제곱합\n",
    "    dist = sum_of_square ** (1/2)\n",
    "    return dist"
   ]
  },
  {
   "cell_type": "code",
   "execution_count": null,
   "metadata": {
    "ExecuteTime": {
     "end_time": "2018-08-25T04:48:16.855006Z",
     "start_time": "2018-08-25T04:48:16.839129Z"
    }
   },
   "outputs": [],
   "source": [
    "import random\n",
    "tolerance = 0.00001\n",
    "v = [random.randint(-10, 10) for i in range(2)]\n",
    "i = 0\n",
    "print('initial point : ', v)\n",
    "while True:\n",
    "    i += 1\n",
    "    gradient = estimate_gradient(convex_function, v) # 임의의 시작점에서 gradient 계산 \n",
    "    next_v = step(v, gradient, -0.01)                # gradient 반대 방향으로 0.01 만큼 이동\n",
    "    if distance(next_v, v) < tolerance:              # v와 next_v 간의 편차 (거리)가 허용치보다 적을 경우 멈춘다.\n",
    "        break\n",
    "    v = next_v\n",
    "print('[%s 번째 시행] ' %str(i), '편차 :', distance(next_v, v), '최솟값 위치 : ', v)"
   ]
  },
  {
   "cell_type": "markdown",
   "metadata": {},
   "source": [
    "> ### 잘 찾아가는지 확인해보자."
   ]
  },
  {
   "cell_type": "code",
   "execution_count": null,
   "metadata": {
    "ExecuteTime": {
     "end_time": "2018-08-25T04:51:37.153461Z",
     "start_time": "2018-08-25T04:51:37.146771Z"
    }
   },
   "outputs": [],
   "source": [
    "def gradient_descent_plot():\n",
    "    result_arr = []\n",
    "    tolerance = 0.00001\n",
    "    starting_point = [random.randint(-10, 10) for i in range(2)]\n",
    "    v = starting_point[:]\n",
    "\n",
    "    while True:\n",
    "        gradient = estimate_gradient(convex_function, v)\n",
    "        next_v = step(v, gradient, -0.01)\n",
    "        if distance(next_v, v) < tolerance:              \n",
    "            break\n",
    "        v = next_v\n",
    "        result_arr.append([v[0], convex_function(v[0])]) # 움직임 저장\n",
    "    print('편차 :', distance(next_v, v), '최솟값 위치 : ', v)\n",
    "    plt.scatter([x[0] for x in result_arr], [x[1] for x in result_arr])\n",
    "    plt.show()"
   ]
  },
  {
   "cell_type": "code",
   "execution_count": null,
   "metadata": {
    "ExecuteTime": {
     "end_time": "2018-08-25T04:51:38.396175Z",
     "start_time": "2018-08-25T04:51:38.098871Z"
    },
    "scrolled": true
   },
   "outputs": [],
   "source": [
    "gradient_descent_plot()"
   ]
  },
  {
   "cell_type": "markdown",
   "metadata": {},
   "source": [
    "## scipy 활용"
   ]
  },
  {
   "cell_type": "code",
   "execution_count": null,
   "metadata": {
    "ExecuteTime": {
     "end_time": "2018-08-25T04:51:43.186797Z",
     "start_time": "2018-08-25T04:51:42.168583Z"
    }
   },
   "outputs": [],
   "source": [
    "from scipy import optimize"
   ]
  },
  {
   "cell_type": "code",
   "execution_count": null,
   "metadata": {
    "ExecuteTime": {
     "end_time": "2018-08-25T04:51:43.201959Z",
     "start_time": "2018-08-25T04:51:43.189799Z"
    }
   },
   "outputs": [],
   "source": [
    "optimization = optimize.minimize(convex_function, random.randint(-100, 100), \n",
    "                                method='nelder-mead',    ## gradient를 알 수 없을 때 사용할 수 있는 방법\n",
    "                                options={'xtol': 1e-8,   ## step size\n",
    "                                        'disp': True})"
   ]
  },
  {
   "cell_type": "code",
   "execution_count": null,
   "metadata": {
    "ExecuteTime": {
     "end_time": "2018-08-25T04:51:43.213515Z",
     "start_time": "2018-08-25T04:51:43.205634Z"
    }
   },
   "outputs": [],
   "source": [
    "optimization.x"
   ]
  },
  {
   "cell_type": "markdown",
   "metadata": {},
   "source": [
    "## 참고자료\n",
    "> - http://shuuki4.github.io/deep%20learning/2016/05/20/Gradient-Descent-Algorithm-Overview.html\n",
    "> - https://www.slideshare.net/dahlmoon/jupyter-notebok-20160630"
   ]
  },
  {
   "cell_type": "code",
   "execution_count": null,
   "metadata": {},
   "outputs": [],
   "source": []
  },
  {
   "cell_type": "code",
   "execution_count": null,
   "metadata": {},
   "outputs": [],
   "source": []
  },
  {
   "cell_type": "code",
   "execution_count": null,
   "metadata": {},
   "outputs": [],
   "source": []
  },
  {
   "cell_type": "code",
   "execution_count": null,
   "metadata": {},
   "outputs": [],
   "source": []
  },
  {
   "cell_type": "code",
   "execution_count": null,
   "metadata": {},
   "outputs": [],
   "source": []
  }
 ],
 "metadata": {
  "anaconda-cloud": {},
  "hide_input": false,
  "kernelspec": {
   "display_name": "Python [conda root]",
   "language": "python",
   "name": "conda-root-py"
  },
  "language_info": {
   "codemirror_mode": {
    "name": "ipython",
    "version": 3
   },
   "file_extension": ".py",
   "mimetype": "text/x-python",
   "name": "python",
   "nbconvert_exporter": "python",
   "pygments_lexer": "ipython3",
   "version": "3.5.4"
  }
 },
 "nbformat": 4,
 "nbformat_minor": 2
}
