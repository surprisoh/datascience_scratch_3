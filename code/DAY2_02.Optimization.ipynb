{
 "cells": [
  {
   "cell_type": "code",
   "execution_count": 1,
   "metadata": {
    "ExecuteTime": {
     "end_time": "2018-08-25T08:28:08.360794Z",
     "start_time": "2018-08-25T08:28:07.697659Z"
    }
   },
   "outputs": [],
   "source": [
    "import matplotlib.pyplot as plt\n",
    "import matplotlib\n",
    "matplotlib.style.use('ggplot') ## R ggplot style\n",
    "import numpy as np"
   ]
  },
  {
   "cell_type": "markdown",
   "metadata": {},
   "source": [
    "# 1. sympy를 활용한 미분\n",
    "- SymPy는 심볼릭 연산(symbolic operation)을 지원하기 위한 파이썬 패키지이다. 심볼릭 연산이란 사람이 연필로 계산하는 미분/적분과 동일한 형태의 연산을 말한다. 즉,  $x^2$ 의 미분 연산을 수행하면 그 결과가  $2x$ 란 형태로 출력된다. 딥 러닝(deep learning) 등에 많이 사용되는 파이썬의 theano 패키지나 tensorflow 패키지도 기울기 함수 계산을 위해 이러한 심볼릭 연산 기능을 갖추고 있다."
   ]
  },
  {
   "cell_type": "markdown",
   "metadata": {},
   "source": [
    "## (1) sympy 기초"
   ]
  },
  {
   "cell_type": "code",
   "execution_count": 2,
   "metadata": {
    "ExecuteTime": {
     "end_time": "2018-08-25T08:29:09.489507Z",
     "start_time": "2018-08-25T08:29:08.885714Z"
    }
   },
   "outputs": [],
   "source": [
    "import sympy"
   ]
  },
  {
   "cell_type": "code",
   "execution_count": 3,
   "metadata": {
    "ExecuteTime": {
     "end_time": "2018-08-25T08:29:10.172387Z",
     "start_time": "2018-08-25T08:29:10.102154Z"
    }
   },
   "outputs": [],
   "source": [
    "# Juypter 노트북에서 수학식의 LaTeX 표현을 위해 필요함\n",
    "sympy.init_printing(use_latex='mathjax')"
   ]
  },
  {
   "cell_type": "code",
   "execution_count": 4,
   "metadata": {
    "ExecuteTime": {
     "end_time": "2018-08-25T08:29:10.694743Z",
     "start_time": "2018-08-25T08:29:10.689655Z"
    }
   },
   "outputs": [],
   "source": [
    "## latex 표현 중지\n",
    "# sympy.init_printing(pretty_print=False)  "
   ]
  },
  {
   "cell_type": "code",
   "execution_count": 5,
   "metadata": {
    "ExecuteTime": {
     "end_time": "2018-08-25T08:29:11.357625Z",
     "start_time": "2018-08-25T08:29:11.348589Z"
    },
    "scrolled": true
   },
   "outputs": [
    {
     "data": {
      "text/latex": [
       "$$x$$"
      ],
      "text/plain": [
       "x"
      ]
     },
     "execution_count": 5,
     "metadata": {},
     "output_type": "execute_result"
    }
   ],
   "source": [
    "x = sympy.symbols('x')\n",
    "x"
   ]
  },
  {
   "cell_type": "code",
   "execution_count": 6,
   "metadata": {
    "ExecuteTime": {
     "end_time": "2018-08-25T08:29:53.367995Z",
     "start_time": "2018-08-25T08:29:53.357980Z"
    }
   },
   "outputs": [
    {
     "data": {
      "text/latex": [
       "$$x e^{x}$$"
      ],
      "text/plain": [
       "   x\n",
       "x⋅ℯ "
      ]
     },
     "execution_count": 6,
     "metadata": {},
     "output_type": "execute_result"
    }
   ],
   "source": [
    "f = x * sympy.exp(x)\n",
    "f"
   ]
  },
  {
   "cell_type": "code",
   "execution_count": 7,
   "metadata": {
    "ExecuteTime": {
     "end_time": "2018-08-25T08:30:30.905796Z",
     "start_time": "2018-08-25T08:30:30.894462Z"
    }
   },
   "outputs": [
    {
     "data": {
      "text/latex": [
       "$$x e^{x} + e^{x}$$"
      ],
      "text/plain": [
       "   x    x\n",
       "x⋅ℯ  + ℯ "
      ]
     },
     "execution_count": 7,
     "metadata": {},
     "output_type": "execute_result"
    }
   ],
   "source": [
    "## 미분\n",
    "\n",
    "f.diff(x)"
   ]
  },
  {
   "cell_type": "code",
   "execution_count": 8,
   "metadata": {
    "ExecuteTime": {
     "end_time": "2018-08-25T08:31:23.064537Z",
     "start_time": "2018-08-25T08:31:23.055521Z"
    },
    "scrolled": true
   },
   "outputs": [
    {
     "data": {
      "text/latex": [
       "$$22.1671682967919$$"
      ],
      "text/plain": [
       "22.1671682967919"
      ]
     },
     "execution_count": 8,
     "metadata": {},
     "output_type": "execute_result"
    }
   ],
   "source": [
    "## 연산된 결과를 계산\n",
    "## subs(old, new) : 기존 변수를 새로운 변수로 교체한다.\n",
    "\n",
    "f.diff(x).subs(x, 2).evalf()"
   ]
  },
  {
   "cell_type": "code",
   "execution_count": 9,
   "metadata": {
    "ExecuteTime": {
     "end_time": "2018-08-25T08:31:53.145363Z",
     "start_time": "2018-08-25T08:31:53.136020Z"
    }
   },
   "outputs": [],
   "source": [
    "## 함수로 만들어서 계산\n",
    "## lambdify : 수치 계산을 위한 람다 함수를 만들어준다.\n",
    "\n",
    "x = sympy.symbols('x')\n",
    "y = sympy.symbols('y')\n",
    "f = x+y\n",
    "\n",
    "func = sympy.lambdify((x, y), f, modules=['numpy'])\n",
    "## (입력할 변수, 함수, 수치계산을 위한 모듈)"
   ]
  },
  {
   "cell_type": "code",
   "execution_count": 10,
   "metadata": {
    "ExecuteTime": {
     "end_time": "2018-08-25T08:32:02.928210Z",
     "start_time": "2018-08-25T08:32:02.921674Z"
    }
   },
   "outputs": [
    {
     "data": {
      "text/latex": [
       "$$13$$"
      ],
      "text/plain": [
       "13"
      ]
     },
     "execution_count": 10,
     "metadata": {},
     "output_type": "execute_result"
    }
   ],
   "source": [
    "func(3, 10)"
   ]
  },
  {
   "cell_type": "markdown",
   "metadata": {},
   "source": [
    "----------"
   ]
  },
  {
   "cell_type": "code",
   "execution_count": null,
   "metadata": {
    "ExecuteTime": {
     "end_time": "2018-08-25T04:43:54.333806Z",
     "start_time": "2018-08-25T04:43:54.328364Z"
    }
   },
   "outputs": [],
   "source": [
    "## 지수함수 미분\n",
    "## e^x를 미분하세요"
   ]
  },
  {
   "cell_type": "code",
   "execution_count": 11,
   "metadata": {
    "ExecuteTime": {
     "end_time": "2018-08-25T08:32:09.270411Z",
     "start_time": "2018-08-25T08:32:09.262380Z"
    },
    "scrolled": true
   },
   "outputs": [
    {
     "data": {
      "text/latex": [
       "$$e^{x}$$"
      ],
      "text/plain": [
       " x\n",
       "ℯ "
      ]
     },
     "execution_count": 11,
     "metadata": {},
     "output_type": "execute_result"
    }
   ],
   "source": [
    "x = sympy.symbols('x')\n",
    "f = sympy.exp(x)\n",
    "f.diff(x)"
   ]
  },
  {
   "cell_type": "code",
   "execution_count": 12,
   "metadata": {
    "ExecuteTime": {
     "end_time": "2018-08-25T08:32:09.929577Z",
     "start_time": "2018-08-25T08:32:09.925792Z"
    }
   },
   "outputs": [],
   "source": [
    "## 합성함수의 미분\n",
    "## xg(x) 미분를 x에 대해 미분해보세요\n",
    "## sympy.Function 사용"
   ]
  },
  {
   "cell_type": "code",
   "execution_count": 13,
   "metadata": {
    "ExecuteTime": {
     "end_time": "2018-08-25T08:32:11.160893Z",
     "start_time": "2018-08-25T08:32:11.156214Z"
    },
    "scrolled": true
   },
   "outputs": [],
   "source": [
    "x = sympy.symbols('x')\n",
    "g = sympy.Function('g')"
   ]
  },
  {
   "cell_type": "code",
   "execution_count": 14,
   "metadata": {
    "ExecuteTime": {
     "end_time": "2018-08-25T08:32:11.509964Z",
     "start_time": "2018-08-25T08:32:11.497996Z"
    }
   },
   "outputs": [
    {
     "data": {
      "text/latex": [
       "$$x \\frac{d}{d x} g{\\left (x \\right )} + g{\\left (x \\right )}$$"
      ],
      "text/plain": [
       "  d              \n",
       "x⋅──(g(x)) + g(x)\n",
       "  dx             "
      ]
     },
     "execution_count": 14,
     "metadata": {},
     "output_type": "execute_result"
    }
   ],
   "source": [
    "sympy.diff(x*(g(x)), x)"
   ]
  },
  {
   "cell_type": "markdown",
   "metadata": {},
   "source": [
    "------------"
   ]
  },
  {
   "cell_type": "markdown",
   "metadata": {},
   "source": [
    "## (2) 편미분"
   ]
  },
  {
   "cell_type": "code",
   "execution_count": 15,
   "metadata": {
    "ExecuteTime": {
     "end_time": "2018-08-25T08:32:24.179620Z",
     "start_time": "2018-08-25T08:32:24.176032Z"
    }
   },
   "outputs": [],
   "source": [
    "## 편미분\n",
    "## x^2 + xy + y^2를 y에 대해 미분하세요"
   ]
  },
  {
   "cell_type": "code",
   "execution_count": 17,
   "metadata": {
    "ExecuteTime": {
     "end_time": "2018-08-25T08:32:40.493820Z",
     "start_time": "2018-08-25T08:32:40.490083Z"
    }
   },
   "outputs": [],
   "source": [
    "#### 스터디원 코드 ####\n",
    "x, y = sympy.symbols('x y')\n",
    "f = x**2 + x*y + y**2"
   ]
  },
  {
   "cell_type": "code",
   "execution_count": 18,
   "metadata": {
    "ExecuteTime": {
     "end_time": "2018-08-25T08:32:40.812838Z",
     "start_time": "2018-08-25T08:32:40.795193Z"
    }
   },
   "outputs": [
    {
     "data": {
      "text/latex": [
       "$$x + 2 y$$"
      ],
      "text/plain": [
       "x + 2⋅y"
      ]
     },
     "execution_count": 18,
     "metadata": {},
     "output_type": "execute_result"
    }
   ],
   "source": [
    "f.diff(y, 1)"
   ]
  },
  {
   "cell_type": "code",
   "execution_count": null,
   "metadata": {
    "ExecuteTime": {
     "end_time": "2018-08-25T04:43:59.553364Z",
     "start_time": "2018-08-25T04:43:59.548266Z"
    }
   },
   "outputs": [],
   "source": [
    "## 편미분\n",
    "## x^2 + xy + y^2를 y에 대해 미분한 후, x에 대해 미분하세요\n"
   ]
  },
  {
   "cell_type": "code",
   "execution_count": null,
   "metadata": {
    "ExecuteTime": {
     "end_time": "2018-08-25T04:44:00.145736Z",
     "start_time": "2018-08-25T04:44:00.142080Z"
    }
   },
   "outputs": [],
   "source": [
    "#### 스터디원 코드 ####\n",
    "# x, y = sympy.symbols('x y')\n",
    "# f = x**2 + x*y + y**2"
   ]
  },
  {
   "cell_type": "code",
   "execution_count": 21,
   "metadata": {
    "ExecuteTime": {
     "end_time": "2018-08-25T08:33:06.900239Z",
     "start_time": "2018-08-25T08:33:06.895955Z"
    }
   },
   "outputs": [],
   "source": [
    "## latex 표현 중지\n",
    "sympy.init_printing(pretty_print=False)"
   ]
  },
  {
   "cell_type": "markdown",
   "metadata": {},
   "source": [
    "# 2. 경사하강법\n",
    "- Gradient Descent\n",
    "- Gradient Descent 방법은 다음과 같이 단순히 현재 위치에서의 기울기 값  $g(x_k)=\\frac {df(x_k)}{dx}$  만을 이용한다.\n",
    "- $x_{k+1}=x_k−αg(x_k)$\n",
    "\n",
    "\n",
    "\n",
    "### - 실행 과정\n",
    "- 임의의 시작점에서 gradient 계산 \n",
    "- gradient 반대 방향으로 0.01 만큼 이동\n",
    "- 현재 위치와 이동할 다음 위치 간의 편차 (거리)가 허용치보다 적을 경우 멈춘다.\n",
    "\n",
    "\n",
    "### - 필요한 함수\n",
    "- 편미분\n",
    "- 그레디언트\n",
    "- 스텝"
   ]
  },
  {
   "cell_type": "code",
   "execution_count": 22,
   "metadata": {
    "ExecuteTime": {
     "end_time": "2018-08-25T08:36:07.087961Z",
     "start_time": "2018-08-25T08:36:07.083487Z"
    }
   },
   "outputs": [],
   "source": [
    "## x^2 함수에 대해 경사하강법을 적용한다.\n",
    "\n",
    "def convex_function(x):\n",
    "    return x**2"
   ]
  },
  {
   "cell_type": "code",
   "execution_count": 23,
   "metadata": {
    "ExecuteTime": {
     "end_time": "2018-08-25T08:36:47.986526Z",
     "start_time": "2018-08-25T08:36:47.708477Z"
    }
   },
   "outputs": [
    {
     "data": {
      "image/png": "[encoded data removed]",
      "text/plain": [
       "<matplotlib.figure.Figure at 0x10e5af4e0>"
      ]
     },
     "metadata": {},
     "output_type": "display_data"
    }
   ],
   "source": [
    "xs = [i for i in range(-100, 100)]\n",
    "plt.plot(xs, [convex_function(i) for i in xs])\n",
    "plt.scatter(0, 0, color = 'blue', label = 'minimum')\n",
    "plt.legend(loc = 'center')\n",
    "plt.show()"
   ]
  },
  {
   "cell_type": "markdown",
   "metadata": {},
   "source": [
    "> ### (0, 0) 을 최솟값으로 갖는다. 경사하강법을 통해 이 점을 잘 찾아가는지 살펴보자."
   ]
  },
  {
   "cell_type": "code",
   "execution_count": 29,
   "metadata": {
    "ExecuteTime": {
     "end_time": "2018-08-25T08:43:14.721123Z",
     "start_time": "2018-08-25T08:43:14.716148Z"
    }
   },
   "outputs": [],
   "source": [
    "## 편미분\n",
    "## 변화율로 편미분값 근사\n",
    "\n",
    "def partial_difference_quotient(f, v, i, h):\n",
    "    \"\"\" 함수 f에서 v의 i번째 값의 편미분값\"\"\"\n",
    "    if i > len(v): \n",
    "        # 찾고자 하는 i가 데이터 v의 인덱스보다 크면 error\n",
    "        print('Value Error')\n",
    "        \n",
    "    else:\n",
    "        v_j = v[i]  ## i 번째 v값\n",
    "        w = v_j + h ## i 번째 v값 + h\n",
    "        \n",
    "        return (f(w) - f(v_j)) / h"
   ]
  },
  {
   "cell_type": "code",
   "execution_count": 30,
   "metadata": {
    "ExecuteTime": {
     "end_time": "2018-08-25T08:43:19.255262Z",
     "start_time": "2018-08-25T08:43:19.250912Z"
    }
   },
   "outputs": [],
   "source": [
    "## 그레디언트\n",
    "## 각 위치의 편미분값들을 구한다.\n",
    "\n",
    "def estimate_gradient(f, v, h=0.00001):\n",
    "    \"\"\"전체 v에서 loop를 돌면서 각 v_i에 대한 미분값 계산 -> 편미분 벡터 (그레디언트)가 된다. \"\"\"\n",
    "    return [partial_difference_quotient(f, v, i, h)  # 함수 f에 대해 어떤 위치 v에 대한 미분값 \n",
    "            for i, _ in enumerate(v)]"
   ]
  },
  {
   "cell_type": "code",
   "execution_count": 32,
   "metadata": {
    "ExecuteTime": {
     "end_time": "2018-08-25T08:43:24.920947Z",
     "start_time": "2018-08-25T08:43:24.911293Z"
    },
    "scrolled": false
   },
   "outputs": [
    {
     "data": {
      "text/plain": [
       "-15.959495959521064"
      ]
     },
     "execution_count": 32,
     "metadata": {},
     "output_type": "execute_result"
    }
   ],
   "source": [
    "v = np.linspace(-10, 10, num = 100) ## 정해진 범위 안에서 균등한 간격으로 n개의 유리수를 생성한다.\n",
    "\n",
    "## v array에서 10번째 값에 대한 미분값을 찾아보자.\n",
    "partial_difference_quotient(convex_function, v, 10, 0.0001)"
   ]
  },
  {
   "cell_type": "code",
   "execution_count": 33,
   "metadata": {
    "ExecuteTime": {
     "end_time": "2018-08-25T08:44:37.055468Z",
     "start_time": "2018-08-25T08:44:37.050128Z"
    }
   },
   "outputs": [],
   "source": [
    "def step(v, direction, step_size):\n",
    "    \"\"\" v 위치에서 step_size 만큼 direction_i 방향으로 이동\"\"\"\n",
    "\n",
    "    return [v_i + step_size * direction_i\n",
    "            for v_i, direction_i in zip(v, direction)]"
   ]
  },
  {
   "cell_type": "code",
   "execution_count": 34,
   "metadata": {
    "ExecuteTime": {
     "end_time": "2018-08-25T08:45:21.870643Z",
     "start_time": "2018-08-25T08:45:21.864907Z"
    }
   },
   "outputs": [],
   "source": [
    "def distance(v, w):\n",
    "    \"\"\"\"\"\"\n",
    "    import math\n",
    "    v_arr = np.array(v) # 계산의 편의를 위해 numpy array로 변환\n",
    "    w_arr = np.array(w)\n",
    "    vector_subtract = v_arr - w_arr # 두 벡터의 차이\n",
    "    sum_of_square = vector_subtract.dot(vector_subtract) # 벡터 차이의 제곱합\n",
    "    dist = sum_of_square ** (1/2)\n",
    "    return dist"
   ]
  },
  {
   "cell_type": "code",
   "execution_count": 35,
   "metadata": {
    "ExecuteTime": {
     "end_time": "2018-08-25T08:47:09.797133Z",
     "start_time": "2018-08-25T08:47:09.773776Z"
    }
   },
   "outputs": [
    {
     "name": "stdout",
     "output_type": "stream",
     "text": [
      "initial point :  [-8, -6]\n",
      "[492 번째 시행]  편차 : 9.840855542320501e-06 최솟값 위치 :  [-0.00039863425121588965, -0.0003002256269055138]\n"
     ]
    }
   ],
   "source": [
    "import random\n",
    "tolerance = 0.00001\n",
    "v = [random.randint(-10, 10) for i in range(2)]\n",
    "i = 0\n",
    "print('initial point : ', v)\n",
    "while True:\n",
    "    i += 1\n",
    "    gradient = estimate_gradient(convex_function, v) # 임의의 시작점에서 gradient 계산 \n",
    "    next_v = step(v, gradient, -0.01)                # gradient 반대 방향으로 0.01 만큼 이동\n",
    "    if distance(next_v, v) < tolerance:              # v와 next_v 간의 편차 (거리)가 허용치보다 적을 경우 멈춘다.\n",
    "        break\n",
    "    v = next_v\n",
    "print('[%s 번째 시행] ' %str(i), '편차 :', distance(next_v, v), '최솟값 위치 : ', v)"
   ]
  },
  {
   "cell_type": "markdown",
   "metadata": {},
   "source": [
    "> ### 잘 찾아가는지 확인해보자."
   ]
  },
  {
   "cell_type": "code",
   "execution_count": 36,
   "metadata": {
    "ExecuteTime": {
     "end_time": "2018-08-25T08:47:38.377312Z",
     "start_time": "2018-08-25T08:47:38.370144Z"
    }
   },
   "outputs": [],
   "source": [
    "def gradient_descent_plot():\n",
    "    result_arr = []\n",
    "    tolerance = 0.00001\n",
    "    starting_point = [random.randint(-10, 10) for i in range(2)]\n",
    "    v = starting_point[:]\n",
    "\n",
    "    while True:\n",
    "        gradient = estimate_gradient(convex_function, v)\n",
    "        next_v = step(v, gradient, -0.01)\n",
    "        if distance(next_v, v) < tolerance:              \n",
    "            break\n",
    "        v = next_v\n",
    "        result_arr.append([v[0], convex_function(v[0])]) # 움직임 저장\n",
    "    print('편차 :', distance(next_v, v), '최솟값 위치 : ', v)\n",
    "    plt.scatter([x[0] for x in result_arr], [x[1] for x in result_arr])\n",
    "    plt.show()"
   ]
  },
  {
   "cell_type": "code",
   "execution_count": 37,
   "metadata": {
    "ExecuteTime": {
     "end_time": "2018-08-25T08:47:39.196754Z",
     "start_time": "2018-08-25T08:47:38.941235Z"
    },
    "scrolled": true
   },
   "outputs": [
    {
     "name": "stdout",
     "output_type": "stream",
     "text": [
      "편차 : 9.969978299119945e-06 최솟값 위치 :  [0.0004934989149556061, -4.999376877135206e-06]\n"
     ]
    },
    {
     "data": {
      "image/png": "[encoded data removed]",
      "text/plain": [
       "<matplotlib.figure.Figure at 0x10e5af128>"
      ]
     },
     "metadata": {},
     "output_type": "display_data"
    }
   ],
   "source": [
    "gradient_descent_plot()"
   ]
  },
  {
   "cell_type": "markdown",
   "metadata": {},
   "source": [
    "## scipy 활용"
   ]
  },
  {
   "cell_type": "code",
   "execution_count": 38,
   "metadata": {
    "ExecuteTime": {
     "end_time": "2018-08-25T08:50:34.790566Z",
     "start_time": "2018-08-25T08:50:33.746052Z"
    }
   },
   "outputs": [],
   "source": [
    "from scipy import optimize"
   ]
  },
  {
   "cell_type": "code",
   "execution_count": 39,
   "metadata": {
    "ExecuteTime": {
     "end_time": "2018-08-25T08:50:34.806728Z",
     "start_time": "2018-08-25T08:50:34.793349Z"
    }
   },
   "outputs": [
    {
     "name": "stdout",
     "output_type": "stream",
     "text": [
      "Optimization terminated successfully.\n",
      "         Current function value: 0.000000\n",
      "         Iterations: 35\n",
      "         Function evaluations: 70\n"
     ]
    }
   ],
   "source": [
    "optimization = optimize.minimize(convex_function, random.randint(-100, 100), \n",
    "                                method='nelder-mead',    ## gradient를 알 수 없을 때 사용할 수 있는 방법\n",
    "                                options={'xtol': 1e-8,   ## step size\n",
    "                                        'disp': True})"
   ]
  },
  {
   "cell_type": "code",
   "execution_count": 40,
   "metadata": {
    "ExecuteTime": {
     "end_time": "2018-08-25T08:50:35.913080Z",
     "start_time": "2018-08-25T08:50:35.906434Z"
    }
   },
   "outputs": [
    {
     "data": {
      "text/plain": [
       "array([4.26325641e-14])"
      ]
     },
     "execution_count": 40,
     "metadata": {},
     "output_type": "execute_result"
    }
   ],
   "source": [
    "optimization.x"
   ]
  },
  {
   "cell_type": "markdown",
   "metadata": {},
   "source": [
    "## 참고자료\n",
    "> - http://shuuki4.github.io/deep%20learning/2016/05/20/Gradient-Descent-Algorithm-Overview.html\n",
    "> - https://www.slideshare.net/dahlmoon/jupyter-notebok-20160630"
   ]
  },
  {
   "cell_type": "code",
   "execution_count": null,
   "metadata": {},
   "outputs": [],
   "source": []
  },
  {
   "cell_type": "code",
   "execution_count": null,
   "metadata": {},
   "outputs": [],
   "source": []
  },
  {
   "cell_type": "code",
   "execution_count": null,
   "metadata": {},
   "outputs": [],
   "source": []
  },
  {
   "cell_type": "code",
   "execution_count": null,
   "metadata": {},
   "outputs": [],
   "source": []
  },
  {
   "cell_type": "code",
   "execution_count": null,
   "metadata": {},
   "outputs": [],
   "source": []
  }
 ],
 "metadata": {
  "anaconda-cloud": {},
  "hide_input": false,
  "kernelspec": {
   "display_name": "Python [conda root]",
   "language": "python",
   "name": "conda-root-py"
  },
  "language_info": {
   "codemirror_mode": {
    "name": "ipython",
    "version": 3
   },
   "file_extension": ".py",
   "mimetype": "text/x-python",
   "name": "python",
   "nbconvert_exporter": "python",
   "pygments_lexer": "ipython3",
   "version": "3.5.4"
  }
 },
 "nbformat": 4,
 "nbformat_minor": 2
}
