{
 "cells": [
  {
   "cell_type": "code",
   "execution_count": null,
   "metadata": {},
   "outputs": [],
   "source": [
    "import matplotlib.pyplot as plt\n",
    "import pandas as pd\n",
    "import numpy as np\n",
    "import warnings\n",
    "warnings.filterwarnings('ignore')\n",
    "from matplotlib import style\n",
    "style.use('ggplot')"
   ]
  },
  {
   "cell_type": "code",
   "execution_count": null,
   "metadata": {
    "school_cell_uuid": "b2c17c1190f64ec3a551661d59c5b59b"
   },
   "outputs": [],
   "source": [
    "from sklearn.datasets import make_classification\n",
    "\n",
    "X00, y00 = make_classification(n_samples=1000, n_features=2, n_informative=2, n_redundant=0, \n",
    "                               n_classes=2, n_clusters_per_class=1, class_sep=0.8, \n",
    "                               weights=[0.99, 0.01], random_state=0)\n",
    "\n",
    "from sklearn.model_selection import train_test_split\n",
    "\n",
    "X0, X_test, y0, y_test = train_test_split(X00, y00, test_size=0.25)"
   ]
  },
  {
   "cell_type": "code",
   "execution_count": null,
   "metadata": {
    "school_cell_uuid": "30ff90796e1c42ee80cc70e9fd98c9e0"
   },
   "outputs": [],
   "source": [
    "from collections import Counter\n",
    "from sklearn.svm import SVC\n",
    "\n",
    "x1_min = X00[:, 0].min() - 2\n",
    "x1_max = X00[:, 0].max() + 2\n",
    "x2_min = X00[:, 1].min() - 2\n",
    "x2_max = X00[:, 1].max() + 2\n",
    "\n",
    "def plot_samples(X=None, y=None):\n",
    "    XX, YY = np.mgrid[x1_min:x1_max:300j, x2_min:x2_max:300j]\n",
    "    if X is None:\n",
    "        X = X0\n",
    "        model = SVC(kernel=\"linear\").fit(X0, y0)\n",
    "        Z = model.predict(np.c_[XX.ravel(), YY.ravel()])\n",
    "        Z = Z.reshape(XX.shape)\n",
    "        plt.contourf(XX, YY, Z, alpha=0.6)\n",
    "        plt.scatter(X0[:, 0], X0[:, 1], marker='o', c=y0, s=40, \n",
    "                    linewidth=1, edgecolor='gray', alpha=0.7)\n",
    "        plt.title(Counter(y0))\n",
    "    else:\n",
    "        plt.subplot(121)\n",
    "        model = SVC(kernel=\"linear\").fit(X0, y0)\n",
    "        Z = model.predict(np.c_[XX.ravel(), YY.ravel()])\n",
    "        Z = Z.reshape(XX.shape)\n",
    "        plt.contourf(XX, YY, Z, alpha=0.6)\n",
    "        plt.scatter(X0[:, 0], X0[:, 1], marker='o', c=y0, s=40, \n",
    "                    linewidth=1, edgecolor='gray', alpha=0.7)\n",
    "        plt.xlim(-2, 4)\n",
    "        plt.ylim(-3, 4)\n",
    "        plt.title(Counter(y0))\n",
    "        plt.subplot(122)\n",
    "        model = SVC(kernel=\"linear\").fit(X, y)\n",
    "        Z = model.predict(np.c_[XX.ravel(), YY.ravel()])\n",
    "        Z = Z.reshape(XX.shape)\n",
    "        plt.contourf(XX, YY, Z, alpha=0.6)\n",
    "        plt.scatter(X[:, 0], X[:, 1], marker='o', c=y, s=40, \n",
    "                    linewidth=1, edgecolor='gray', alpha=0.7)\n",
    "        plt.xlim(-2, 4)\n",
    "        plt.ylim(-3, 4)\n",
    "        plt.title(Counter(y))\n",
    "        plt.tight_layout()\n",
    "    plt.show()\n",
    "    \n",
    "    return model.predict(X)\n",
    "    \n",
    "y_pred = plot_samples()"
   ]
  },
  {
   "cell_type": "code",
   "execution_count": null,
   "metadata": {
    "school_cell_uuid": "e10dd9dffbec444a925bf1003de33407",
    "scrolled": true
   },
   "outputs": [],
   "source": [
    "from sklearn.metrics import classification_report\n",
    "\n",
    "print(classification_report(y0, y_pred))"
   ]
  },
  {
   "cell_type": "markdown",
   "metadata": {},
   "source": [
    "### 패키지 설치"
   ]
  },
  {
   "cell_type": "code",
   "execution_count": null,
   "metadata": {
    "scrolled": true
   },
   "outputs": [],
   "source": [
    "!pip install -U imbalanced-learn"
   ]
  },
  {
   "cell_type": "markdown",
   "metadata": {
    "school_cell_uuid": "792b3f902d7c43248e066b443f2c2d9f"
   },
   "source": [
    "## 1. 언더 샘플링"
   ]
  },
  {
   "cell_type": "markdown",
   "metadata": {
    "school_cell_uuid": "5cb26cee13b542ddaad8ccc8082641ca"
   },
   "source": [
    "- 클래스의 비율이 높은 데이터의 개수를 클래스의 비율이 낮은 데이터의 개수와 맞춘다"
   ]
  },
  {
   "cell_type": "code",
   "execution_count": null,
   "metadata": {
    "school_cell_uuid": "42d1eb135b8c4028b717ee8fb075ebc8"
   },
   "outputs": [],
   "source": [
    "from imblearn.under_sampling import *"
   ]
  },
  {
   "cell_type": "code",
   "execution_count": null,
   "metadata": {
    "school_cell_uuid": "bee7285a35da4aaaa3dfb31eaf6a5bd2"
   },
   "outputs": [],
   "source": [
    "X, y = RandomUnderSampler(random_state=0).fit_sample(X0, y0)\n",
    "y_pred = plot_samples(X, y)"
   ]
  },
  {
   "cell_type": "code",
   "execution_count": null,
   "metadata": {
    "school_cell_uuid": "507bb397ebb74dc3bdbe20e080758395"
   },
   "outputs": [],
   "source": [
    "print(classification_report(y, y_pred))"
   ]
  },
  {
   "cell_type": "markdown",
   "metadata": {
    "school_cell_uuid": "5f18dc31b07f498f85c010e0d41ff508"
   },
   "source": [
    "## 2. 오버 샘플링"
   ]
  },
  {
   "cell_type": "markdown",
   "metadata": {
    "school_cell_uuid": "a8827915dc9948b09bf83d806ecbc6ce"
   },
   "source": [
    "* `RandomOverSampler`: random sampler\n",
    "    - 단순 중복 추출\n",
    "* `SMOTE`: Synthetic Minority Over-sampling Technique\n",
    "    - SMOTE는 먼저 분류 개수가 적은 쪽의 데이터의 샘플을 취한 뒤 이 샘플의 k 최근접 이웃k nearest neighbor을 찾는다. 그리고 현재 샘플과 이들 k개 이웃 간의 차difference를 구하고, 이 차이에 0 ~ 1 사이의 임의의 값을 곱하여 원래 샘플에 더한다. 이렇게 만든 새로운 샘플을 훈련 데이터에 추가한다. 결과적으로 SMOTE는 기존의 샘플을 주변의 이웃을 고려해 약간씩 이동시킨 점들을 추가하는 방식으로 동작한다.\n"
   ]
  },
  {
   "cell_type": "code",
   "execution_count": null,
   "metadata": {
    "school_cell_uuid": "f4e14d9dae8c4dfaa75e2c97c3b5311c"
   },
   "outputs": [],
   "source": [
    "from imblearn.over_sampling import *"
   ]
  },
  {
   "cell_type": "code",
   "execution_count": null,
   "metadata": {
    "school_cell_uuid": "218503f09c83427f9f2998ab0e55e9ae"
   },
   "outputs": [],
   "source": [
    "X, y = RandomOverSampler(random_state=0).fit_sample(X0, y0)\n",
    "y_pred = plot_samples(X, y)"
   ]
  },
  {
   "cell_type": "code",
   "execution_count": null,
   "metadata": {
    "school_cell_uuid": "a24b70a283e44edf8fe75436a101784b"
   },
   "outputs": [],
   "source": [
    "print(classification_report(y, y_pred))"
   ]
  },
  {
   "cell_type": "code",
   "execution_count": null,
   "metadata": {
    "school_cell_uuid": "503f5de6febf4988ad7896818fdea625"
   },
   "outputs": [],
   "source": [
    "X, y = SMOTE(random_state=0).fit_sample(X0, y0)\n",
    "y_pred = plot_samples(X, y)"
   ]
  },
  {
   "cell_type": "code",
   "execution_count": null,
   "metadata": {
    "school_cell_uuid": "7b1958bb46094b29b8f439bcd8ad1096"
   },
   "outputs": [],
   "source": [
    "print(classification_report(y, y_pred))"
   ]
  },
  {
   "cell_type": "code",
   "execution_count": null,
   "metadata": {},
   "outputs": [],
   "source": []
  },
  {
   "cell_type": "code",
   "execution_count": null,
   "metadata": {},
   "outputs": [],
   "source": []
  }
 ],
 "metadata": {
  "anaconda-cloud": {},
  "hide_input": false,
  "kernelspec": {
   "display_name": "Python [default]",
   "language": "python",
   "name": "python3"
  },
  "language_info": {
   "codemirror_mode": {
    "name": "ipython",
    "version": 3
   },
   "file_extension": ".py",
   "mimetype": "text/x-python",
   "name": "python",
   "nbconvert_exporter": "python",
   "pygments_lexer": "ipython3",
   "version": "3.5.4"
  }
 },
 "nbformat": 4,
 "nbformat_minor": 2
}
