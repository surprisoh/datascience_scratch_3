{
 "cells": [
  {
   "cell_type": "markdown",
   "metadata": {},
   "source": [
    "**아래 내용은 https://wikidocs.net/book/1 (점프투파이썬)과 '밑바닥부터 시작하는 데이터 과학' 책 내용을 참고하였습니다.**"
   ]
  },
  {
   "cell_type": "markdown",
   "metadata": {},
   "source": [
    "# 1. 파이썬의 특징\n",
    "- 무료다.\n",
    "- 쉽다.\n",
    "- 개발속도가 빠르다.\n",
    "- 다양한 분야에 활용할 수 있다.\n",
    "    - 파이썬으로 할 수 있는 일\n",
    "        - GUI (Graphic User Interface)\n",
    "        - C/C++와의 결합\n",
    "        - 웹 프로그래밍\n",
    "        - 수치 연산 프로그래밍\n",
    "        - 데이터베이스 프로그래밍\n",
    "        - 데이터 분석\n",
    "    - 파이썬으로 할 수 없는 일\n",
    "        - 시스템과 밀접한 프로그래밍 영역\n",
    "        - 모바일 프로그래밍\n",
    "    "
   ]
  },
  {
   "cell_type": "markdown",
   "metadata": {},
   "source": [
    "# 2. 파이썬 자료형\n",
    "- 자료형 (data type)\n",
    "    - 자료의 한 속성으로써 컴퓨터와 프로그래머에게 어떤 종류의 자료를 다루고 있는지 알려준다\n",
    "    - 프로그램의 기본이자 핵심 단위"
   ]
  },
  {
   "cell_type": "markdown",
   "metadata": {},
   "source": [
    "## (1) 숫자형\n",
    "- 숫자형(Number)이란 숫자 형태로 이루어진 자료형으로, 우리가 이미 잘 알고 있는 것들이다."
   ]
  },
  {
   "cell_type": "markdown",
   "metadata": {},
   "source": [
    "> ### 1) 정수형 (Integer)\n",
    "- 정수를 뜻하는 자료형"
   ]
  },
  {
   "cell_type": "code",
   "execution_count": 1,
   "metadata": {
    "ExecuteTime": {
     "end_time": "2018-08-10T13:12:34.311741Z",
     "start_time": "2018-08-10T13:12:34.306531Z"
    }
   },
   "outputs": [],
   "source": [
    "a = 123"
   ]
  },
  {
   "cell_type": "code",
   "execution_count": 2,
   "metadata": {
    "ExecuteTime": {
     "end_time": "2018-08-10T13:12:36.171060Z",
     "start_time": "2018-08-10T13:12:36.164263Z"
    },
    "scrolled": true
   },
   "outputs": [
    {
     "data": {
      "text/plain": [
       "123"
      ]
     },
     "execution_count": 2,
     "metadata": {},
     "output_type": "execute_result"
    }
   ],
   "source": [
    "a"
   ]
  },
  {
   "cell_type": "markdown",
   "metadata": {},
   "source": [
    "> ### 2) 실수형 (Floating - point)\n",
    "- 소수점이 포함된 숫자"
   ]
  },
  {
   "cell_type": "code",
   "execution_count": 3,
   "metadata": {
    "ExecuteTime": {
     "end_time": "2018-08-10T13:12:44.990108Z",
     "start_time": "2018-08-10T13:12:44.986258Z"
    }
   },
   "outputs": [],
   "source": [
    "a = 1.2"
   ]
  },
  {
   "cell_type": "code",
   "execution_count": 4,
   "metadata": {
    "ExecuteTime": {
     "end_time": "2018-08-10T13:12:46.847829Z",
     "start_time": "2018-08-10T13:12:46.841859Z"
    }
   },
   "outputs": [
    {
     "data": {
      "text/plain": [
       "1.2"
      ]
     },
     "execution_count": 4,
     "metadata": {},
     "output_type": "execute_result"
    }
   ],
   "source": [
    "a"
   ]
  },
  {
   "cell_type": "markdown",
   "metadata": {},
   "source": [
    "## (2) 연산자"
   ]
  },
  {
   "cell_type": "code",
   "execution_count": 5,
   "metadata": {
    "ExecuteTime": {
     "end_time": "2018-08-10T13:12:48.427148Z",
     "start_time": "2018-08-10T13:12:48.420653Z"
    }
   },
   "outputs": [],
   "source": [
    "a = 3\n",
    "b = 4"
   ]
  },
  {
   "cell_type": "code",
   "execution_count": 6,
   "metadata": {
    "ExecuteTime": {
     "end_time": "2018-08-10T13:20:50.679973Z",
     "start_time": "2018-08-10T13:20:50.660651Z"
    }
   },
   "outputs": [
    {
     "data": {
      "text/plain": [
       "7"
      ]
     },
     "execution_count": 6,
     "metadata": {},
     "output_type": "execute_result"
    }
   ],
   "source": [
    "# 덧셈\n",
    "a + b"
   ]
  },
  {
   "cell_type": "code",
   "execution_count": 7,
   "metadata": {
    "ExecuteTime": {
     "end_time": "2018-08-10T13:20:51.585097Z",
     "start_time": "2018-08-10T13:20:51.577871Z"
    }
   },
   "outputs": [
    {
     "data": {
      "text/plain": [
       "12"
      ]
     },
     "execution_count": 7,
     "metadata": {},
     "output_type": "execute_result"
    }
   ],
   "source": [
    "# 곱셈\n",
    "a*b"
   ]
  },
  {
   "cell_type": "code",
   "execution_count": 8,
   "metadata": {
    "ExecuteTime": {
     "end_time": "2018-08-10T13:20:51.976309Z",
     "start_time": "2018-08-10T13:20:51.968396Z"
    }
   },
   "outputs": [
    {
     "data": {
      "text/plain": [
       "0.75"
      ]
     },
     "execution_count": 8,
     "metadata": {},
     "output_type": "execute_result"
    }
   ],
   "source": [
    "# 나눗셈\n",
    "a/b"
   ]
  },
  {
   "cell_type": "code",
   "execution_count": 9,
   "metadata": {
    "ExecuteTime": {
     "end_time": "2018-08-10T13:20:52.487543Z",
     "start_time": "2018-08-10T13:20:52.479945Z"
    }
   },
   "outputs": [
    {
     "data": {
      "text/plain": [
       "0"
      ]
     },
     "execution_count": 9,
     "metadata": {},
     "output_type": "execute_result"
    }
   ],
   "source": [
    "# 나눗셈 후 몫만 남기는 연산자\n",
    "\n",
    "a//b"
   ]
  },
  {
   "cell_type": "code",
   "execution_count": 10,
   "metadata": {
    "ExecuteTime": {
     "end_time": "2018-08-10T13:20:55.499692Z",
     "start_time": "2018-08-10T13:20:55.494263Z"
    }
   },
   "outputs": [
    {
     "data": {
      "text/plain": [
       "3"
      ]
     },
     "execution_count": 10,
     "metadata": {},
     "output_type": "execute_result"
    }
   ],
   "source": [
    "# 나눗셈 후 나머지만 남기는 연산자\n",
    "\n",
    "a%b"
   ]
  },
  {
   "cell_type": "code",
   "execution_count": 11,
   "metadata": {
    "ExecuteTime": {
     "end_time": "2018-08-10T13:20:56.140231Z",
     "start_time": "2018-08-10T13:20:56.133215Z"
    }
   },
   "outputs": [
    {
     "data": {
      "text/plain": [
       "81"
      ]
     },
     "execution_count": 11,
     "metadata": {},
     "output_type": "execute_result"
    }
   ],
   "source": [
    "# 제곱 연산\n",
    "\n",
    "a**b"
   ]
  },
  {
   "cell_type": "markdown",
   "metadata": {},
   "source": [
    "## (3) 문자열\n",
    "- 문자, 단어 등으로 구성된 문자들의 집합\n",
    "- 작은 따옴표 (') 또는 큰 따옴표 (\")로 묶어 나타낸다."
   ]
  },
  {
   "cell_type": "code",
   "execution_count": 12,
   "metadata": {
    "ExecuteTime": {
     "end_time": "2018-08-10T13:20:58.379355Z",
     "start_time": "2018-08-10T13:20:58.375108Z"
    }
   },
   "outputs": [],
   "source": [
    "single_quoted_string = 'data science'\n",
    "double_quoted_string = \"data science\""
   ]
  },
  {
   "cell_type": "code",
   "execution_count": 13,
   "metadata": {
    "ExecuteTime": {
     "end_time": "2018-08-10T13:21:05.910895Z",
     "start_time": "2018-08-10T13:21:05.906789Z"
    }
   },
   "outputs": [],
   "source": [
    "# - 몇몇 특수문자를 인코딩할 때 역슬래시를 사용한다.\n",
    "#     - \\t, \\n, \\', \\\" 등\n",
    "\n",
    "tab_tring = '\\t' # 탭을 의미하는 문자열"
   ]
  },
  {
   "cell_type": "code",
   "execution_count": 14,
   "metadata": {
    "ExecuteTime": {
     "end_time": "2018-08-10T13:21:06.251103Z",
     "start_time": "2018-08-10T13:21:06.245390Z"
    },
    "scrolled": true
   },
   "outputs": [
    {
     "name": "stdout",
     "output_type": "stream",
     "text": [
      "\t\n"
     ]
    }
   ],
   "source": [
    "print(tab_tring)"
   ]
  },
  {
   "cell_type": "code",
   "execution_count": 15,
   "metadata": {
    "ExecuteTime": {
     "end_time": "2018-08-10T13:21:07.009537Z",
     "start_time": "2018-08-10T13:21:07.001776Z"
    }
   },
   "outputs": [
    {
     "name": "stdout",
     "output_type": "stream",
     "text": [
      "hello \t world\n"
     ]
    }
   ],
   "source": [
    "print('hello \\t world')"
   ]
  },
  {
   "cell_type": "code",
   "execution_count": 16,
   "metadata": {
    "ExecuteTime": {
     "end_time": "2018-08-10T13:21:09.837296Z",
     "start_time": "2018-08-10T13:21:09.833591Z"
    }
   },
   "outputs": [],
   "source": [
    "# 큰따옴표나 작은따옴표를 세번 연속쓰면 여러 줄의 문자열을 한번에 입력할 수 있다.\n",
    "\n",
    "multiline_string = \"\"\"\n",
    "data science\n",
    "from scratch\n",
    "\"\"\""
   ]
  },
  {
   "cell_type": "code",
   "execution_count": 17,
   "metadata": {
    "ExecuteTime": {
     "end_time": "2018-08-10T13:21:10.556511Z",
     "start_time": "2018-08-10T13:21:10.552273Z"
    }
   },
   "outputs": [
    {
     "name": "stdout",
     "output_type": "stream",
     "text": [
      "\n",
      "data science\n",
      "from scratch\n",
      "\n"
     ]
    }
   ],
   "source": [
    "print(multiline_string)"
   ]
  },
  {
   "cell_type": "markdown",
   "metadata": {},
   "source": [
    "> ### 1) 문자열 더해서 연결하기"
   ]
  },
  {
   "cell_type": "code",
   "execution_count": 18,
   "metadata": {
    "ExecuteTime": {
     "end_time": "2018-08-10T13:21:17.638118Z",
     "start_time": "2018-08-10T13:21:17.634555Z"
    }
   },
   "outputs": [],
   "source": [
    "head = \"Python\"\n",
    "tail = \" is fun!\""
   ]
  },
  {
   "cell_type": "code",
   "execution_count": 19,
   "metadata": {
    "ExecuteTime": {
     "end_time": "2018-08-10T13:21:18.232669Z",
     "start_time": "2018-08-10T13:21:18.224837Z"
    }
   },
   "outputs": [
    {
     "data": {
      "text/plain": [
       "'Python is fun!'"
      ]
     },
     "execution_count": 19,
     "metadata": {},
     "output_type": "execute_result"
    }
   ],
   "source": [
    "head + tail"
   ]
  },
  {
   "cell_type": "markdown",
   "metadata": {},
   "source": [
    "> ### 2) 문자열 곱하기"
   ]
  },
  {
   "cell_type": "code",
   "execution_count": 20,
   "metadata": {
    "ExecuteTime": {
     "end_time": "2018-08-10T13:21:20.967788Z",
     "start_time": "2018-08-10T13:21:20.964118Z"
    }
   },
   "outputs": [],
   "source": [
    "a = 'data'"
   ]
  },
  {
   "cell_type": "code",
   "execution_count": 21,
   "metadata": {
    "ExecuteTime": {
     "end_time": "2018-08-10T13:21:21.404568Z",
     "start_time": "2018-08-10T13:21:21.396832Z"
    }
   },
   "outputs": [
    {
     "data": {
      "text/plain": [
       "'datadata'"
      ]
     },
     "execution_count": 21,
     "metadata": {},
     "output_type": "execute_result"
    }
   ],
   "source": [
    "a*2"
   ]
  },
  {
   "cell_type": "code",
   "execution_count": 22,
   "metadata": {
    "ExecuteTime": {
     "end_time": "2018-08-10T13:21:21.903541Z",
     "start_time": "2018-08-10T13:21:21.895417Z"
    }
   },
   "outputs": [
    {
     "data": {
      "text/plain": [
       "'====================data science===================='"
      ]
     },
     "execution_count": 22,
     "metadata": {},
     "output_type": "execute_result"
    }
   ],
   "source": [
    "'='*20 + 'data science' + '='*20"
   ]
  },
  {
   "cell_type": "markdown",
   "metadata": {},
   "source": [
    "> ### 3) 문자열 인덱싱과 슬라이싱\n",
    "- 인덱싱(Indexing)이란 무엇인가를 \"가리킨다\"는 의미이고, 슬라이싱(Slicing)은 무엇인가를 \"잘라낸다\"는 의미이다."
   ]
  },
  {
   "cell_type": "code",
   "execution_count": 23,
   "metadata": {
    "ExecuteTime": {
     "end_time": "2018-08-10T13:21:24.046875Z",
     "start_time": "2018-08-10T13:21:24.043537Z"
    }
   },
   "outputs": [],
   "source": [
    "a = 'Data Science Great'"
   ]
  },
  {
   "cell_type": "code",
   "execution_count": 24,
   "metadata": {
    "ExecuteTime": {
     "end_time": "2018-08-10T13:21:24.448610Z",
     "start_time": "2018-08-10T13:21:24.441349Z"
    }
   },
   "outputs": [
    {
     "data": {
      "text/plain": [
       "'D'"
      ]
     },
     "execution_count": 24,
     "metadata": {},
     "output_type": "execute_result"
    }
   ],
   "source": [
    "a[0]"
   ]
  },
  {
   "cell_type": "code",
   "execution_count": 25,
   "metadata": {
    "ExecuteTime": {
     "end_time": "2018-08-10T13:21:24.727532Z",
     "start_time": "2018-08-10T13:21:24.719676Z"
    }
   },
   "outputs": [
    {
     "data": {
      "text/plain": [
       "'t'"
      ]
     },
     "execution_count": 25,
     "metadata": {},
     "output_type": "execute_result"
    }
   ],
   "source": [
    "a[-1]"
   ]
  },
  {
   "cell_type": "code",
   "execution_count": 26,
   "metadata": {
    "ExecuteTime": {
     "end_time": "2018-08-10T13:21:24.975715Z",
     "start_time": "2018-08-10T13:21:24.968322Z"
    }
   },
   "outputs": [
    {
     "data": {
      "text/plain": [
       "'Data Science'"
      ]
     },
     "execution_count": 26,
     "metadata": {},
     "output_type": "execute_result"
    }
   ],
   "source": [
    "a[:12]"
   ]
  },
  {
   "cell_type": "markdown",
   "metadata": {},
   "source": [
    "## (4) 리스트\n",
    "- 순서가 있는 자료의 집합, 다른 언어의 배열과 유사하지만 기능이 좀 더 풍부하다."
   ]
  },
  {
   "cell_type": "code",
   "execution_count": 27,
   "metadata": {
    "ExecuteTime": {
     "end_time": "2018-08-10T13:21:35.380955Z",
     "start_time": "2018-08-10T13:21:35.376209Z"
    }
   },
   "outputs": [],
   "source": [
    "integer_list = [1, 2, 3]\n",
    "heterogeneous_list = ['string', 0.1, True]  ## 하나의 list에 여러 자료형이 들어갈 수 있다.\n",
    "list_of_lists = [integer_list, [1.3, 4.5, heterogeneous_list]]"
   ]
  },
  {
   "cell_type": "markdown",
   "metadata": {},
   "source": [
    "> ### 1) 익덱싱과 슬라이싱\n",
    "- 문자열처럼 인덱싱과 슬라이싱이 가능하다."
   ]
  },
  {
   "cell_type": "code",
   "execution_count": 28,
   "metadata": {
    "ExecuteTime": {
     "end_time": "2018-08-10T13:21:37.820068Z",
     "start_time": "2018-08-10T13:21:37.811833Z"
    }
   },
   "outputs": [
    {
     "data": {
      "text/plain": [
       "1"
      ]
     },
     "execution_count": 28,
     "metadata": {},
     "output_type": "execute_result"
    }
   ],
   "source": [
    "# 인덱싱\n",
    "integer_list[0]"
   ]
  },
  {
   "cell_type": "code",
   "execution_count": 29,
   "metadata": {
    "ExecuteTime": {
     "end_time": "2018-08-10T13:21:40.413124Z",
     "start_time": "2018-08-10T13:21:40.405980Z"
    }
   },
   "outputs": [
    {
     "data": {
      "text/plain": [
       "[2, 3]"
      ]
     },
     "execution_count": 29,
     "metadata": {},
     "output_type": "execute_result"
    }
   ],
   "source": [
    "# 슬라이싱\n",
    "integer_list[1:]"
   ]
  },
  {
   "cell_type": "code",
   "execution_count": 30,
   "metadata": {
    "ExecuteTime": {
     "end_time": "2018-08-10T13:21:41.966246Z",
     "start_time": "2018-08-10T13:21:41.959751Z"
    }
   },
   "outputs": [
    {
     "data": {
      "text/plain": [
       "[[1, 2, 3], [1.3, 4.5, ['string', 0.1, True]]]"
      ]
     },
     "execution_count": 30,
     "metadata": {},
     "output_type": "execute_result"
    }
   ],
   "source": [
    "# 중첩 리스트 인덱싱\n",
    "\n",
    "list_of_lists"
   ]
  },
  {
   "cell_type": "code",
   "execution_count": 31,
   "metadata": {
    "ExecuteTime": {
     "end_time": "2018-08-10T13:21:45.045146Z",
     "start_time": "2018-08-10T13:21:45.037170Z"
    },
    "scrolled": true
   },
   "outputs": [
    {
     "data": {
      "text/plain": [
       "[1, 2, 3]"
      ]
     },
     "execution_count": 31,
     "metadata": {},
     "output_type": "execute_result"
    }
   ],
   "source": [
    "list_of_lists[0]"
   ]
  },
  {
   "cell_type": "code",
   "execution_count": 32,
   "metadata": {
    "ExecuteTime": {
     "end_time": "2018-08-10T13:21:45.353591Z",
     "start_time": "2018-08-10T13:21:45.347275Z"
    }
   },
   "outputs": [
    {
     "data": {
      "text/plain": [
       "[1.3, 4.5, ['string', 0.1, True]]"
      ]
     },
     "execution_count": 32,
     "metadata": {},
     "output_type": "execute_result"
    }
   ],
   "source": [
    "list_of_lists[1]"
   ]
  },
  {
   "cell_type": "code",
   "execution_count": 33,
   "metadata": {
    "ExecuteTime": {
     "end_time": "2018-08-10T13:21:45.602785Z",
     "start_time": "2018-08-10T13:21:45.596185Z"
    }
   },
   "outputs": [
    {
     "data": {
      "text/plain": [
       "['string', 0.1, True]"
      ]
     },
     "execution_count": 33,
     "metadata": {},
     "output_type": "execute_result"
    }
   ],
   "source": [
    "list_of_lists[1][2]"
   ]
  },
  {
   "cell_type": "code",
   "execution_count": 34,
   "metadata": {
    "ExecuteTime": {
     "end_time": "2018-08-10T13:21:45.903667Z",
     "start_time": "2018-08-10T13:21:45.897300Z"
    }
   },
   "outputs": [
    {
     "data": {
      "text/plain": [
       "0.1"
      ]
     },
     "execution_count": 34,
     "metadata": {},
     "output_type": "execute_result"
    }
   ],
   "source": [
    "list_of_lists[1][2][1]"
   ]
  },
  {
   "cell_type": "code",
   "execution_count": 35,
   "metadata": {
    "ExecuteTime": {
     "end_time": "2018-08-10T13:21:46.374190Z",
     "start_time": "2018-08-10T13:21:46.367275Z"
    }
   },
   "outputs": [
    {
     "data": {
      "text/plain": [
       "[1.3, 4.5]"
      ]
     },
     "execution_count": 35,
     "metadata": {},
     "output_type": "execute_result"
    }
   ],
   "source": [
    "# 중첩 리스트 슬라이싱\n",
    "list_of_lists[1][:2]"
   ]
  },
  {
   "cell_type": "code",
   "execution_count": 36,
   "metadata": {
    "ExecuteTime": {
     "end_time": "2018-08-10T13:21:46.907383Z",
     "start_time": "2018-08-10T13:21:46.902132Z"
    }
   },
   "outputs": [
    {
     "data": {
      "text/plain": [
       "[0.1, True]"
      ]
     },
     "execution_count": 36,
     "metadata": {},
     "output_type": "execute_result"
    }
   ],
   "source": [
    "list_of_lists[1][2][1:]"
   ]
  },
  {
   "cell_type": "markdown",
   "metadata": {},
   "source": [
    "> ### 2) 리스트 연산자"
   ]
  },
  {
   "cell_type": "code",
   "execution_count": 37,
   "metadata": {
    "ExecuteTime": {
     "end_time": "2018-08-10T13:21:49.105201Z",
     "start_time": "2018-08-10T13:21:49.099341Z"
    }
   },
   "outputs": [
    {
     "data": {
      "text/plain": [
       "[1, 2, 3, 1.5, 1.9]"
      ]
     },
     "execution_count": 37,
     "metadata": {},
     "output_type": "execute_result"
    }
   ],
   "source": [
    "# 리스트 더하기\n",
    "integer_list + [1.5, 1.9]"
   ]
  },
  {
   "cell_type": "code",
   "execution_count": 38,
   "metadata": {
    "ExecuteTime": {
     "end_time": "2018-08-10T13:21:49.555084Z",
     "start_time": "2018-08-10T13:21:49.546052Z"
    }
   },
   "outputs": [
    {
     "data": {
      "text/plain": [
       "[1, 2, 3, 1, 2, 3, 1, 2, 3]"
      ]
     },
     "execution_count": 38,
     "metadata": {},
     "output_type": "execute_result"
    }
   ],
   "source": [
    "# 리스트 반복하기\n",
    "\n",
    "integer_list*3"
   ]
  },
  {
   "cell_type": "markdown",
   "metadata": {},
   "source": [
    "> ### 3) 리스트 수정, 변경, 삭제"
   ]
  },
  {
   "cell_type": "code",
   "execution_count": 39,
   "metadata": {
    "ExecuteTime": {
     "end_time": "2018-08-10T13:21:52.536154Z",
     "start_time": "2018-08-10T13:21:52.531901Z"
    }
   },
   "outputs": [],
   "source": [
    "# 하나의 값 수정하기\n",
    "\n",
    "a = [1, 2, 3]"
   ]
  },
  {
   "cell_type": "code",
   "execution_count": 40,
   "metadata": {
    "ExecuteTime": {
     "end_time": "2018-08-10T13:21:53.263993Z",
     "start_time": "2018-08-10T13:21:53.259787Z"
    }
   },
   "outputs": [],
   "source": [
    "a[2] = 4"
   ]
  },
  {
   "cell_type": "code",
   "execution_count": 41,
   "metadata": {
    "ExecuteTime": {
     "end_time": "2018-08-10T13:21:53.703620Z",
     "start_time": "2018-08-10T13:21:53.693789Z"
    }
   },
   "outputs": [
    {
     "data": {
      "text/plain": [
       "[1, 2, 4]"
      ]
     },
     "execution_count": 41,
     "metadata": {},
     "output_type": "execute_result"
    }
   ],
   "source": [
    "a"
   ]
  },
  {
   "cell_type": "code",
   "execution_count": 42,
   "metadata": {
    "ExecuteTime": {
     "end_time": "2018-08-10T13:21:54.180064Z",
     "start_time": "2018-08-10T13:21:54.176691Z"
    }
   },
   "outputs": [],
   "source": [
    "# 연속된 범위의 값 수정하기\n",
    "\n",
    "a = [1, 2, 3, 4, 5, 6, 7, 8, 9, 10]"
   ]
  },
  {
   "cell_type": "code",
   "execution_count": 43,
   "metadata": {
    "ExecuteTime": {
     "end_time": "2018-08-10T13:21:54.618940Z",
     "start_time": "2018-08-10T13:21:54.612199Z"
    }
   },
   "outputs": [],
   "source": [
    "a[2:5] = ['data', 'science', 'from', 'scratch']"
   ]
  },
  {
   "cell_type": "code",
   "execution_count": 44,
   "metadata": {
    "ExecuteTime": {
     "end_time": "2018-08-10T13:21:55.051009Z",
     "start_time": "2018-08-10T13:21:55.043932Z"
    }
   },
   "outputs": [
    {
     "data": {
      "text/plain": [
       "[1, 2, 'data', 'science', 'from', 'scratch', 6, 7, 8, 9, 10]"
      ]
     },
     "execution_count": 44,
     "metadata": {},
     "output_type": "execute_result"
    }
   ],
   "source": [
    "a"
   ]
  },
  {
   "cell_type": "code",
   "execution_count": 45,
   "metadata": {
    "ExecuteTime": {
     "end_time": "2018-08-10T13:21:55.476123Z",
     "start_time": "2018-08-10T13:21:55.470619Z"
    }
   },
   "outputs": [],
   "source": [
    "# [] 을 사용하여 리스트 요소 삭제하기\n",
    "\n",
    "a[1:3] = []"
   ]
  },
  {
   "cell_type": "code",
   "execution_count": 46,
   "metadata": {
    "ExecuteTime": {
     "end_time": "2018-08-10T13:21:56.711419Z",
     "start_time": "2018-08-10T13:21:56.702691Z"
    }
   },
   "outputs": [
    {
     "data": {
      "text/plain": [
       "[1, 'science', 'from', 'scratch', 6, 7, 8, 9, 10]"
      ]
     },
     "execution_count": 46,
     "metadata": {},
     "output_type": "execute_result"
    }
   ],
   "source": [
    "a"
   ]
  },
  {
   "cell_type": "code",
   "execution_count": 47,
   "metadata": {
    "ExecuteTime": {
     "end_time": "2018-08-10T13:21:57.037788Z",
     "start_time": "2018-08-10T13:21:57.033942Z"
    }
   },
   "outputs": [],
   "source": [
    "# del 함수를 사용해 리스트 요소 삭제하기\n",
    "\n",
    "del a[1]"
   ]
  },
  {
   "cell_type": "code",
   "execution_count": 48,
   "metadata": {
    "ExecuteTime": {
     "end_time": "2018-08-10T13:21:57.473287Z",
     "start_time": "2018-08-10T13:21:57.465291Z"
    }
   },
   "outputs": [
    {
     "data": {
      "text/plain": [
       "[1, 'from', 'scratch', 6, 7, 8, 9, 10]"
      ]
     },
     "execution_count": 48,
     "metadata": {},
     "output_type": "execute_result"
    }
   ],
   "source": [
    "a"
   ]
  },
  {
   "cell_type": "markdown",
   "metadata": {},
   "source": [
    "> ### 4) 리스트 관련 함수들"
   ]
  },
  {
   "cell_type": "code",
   "execution_count": 49,
   "metadata": {
    "ExecuteTime": {
     "end_time": "2018-08-10T13:22:16.535884Z",
     "start_time": "2018-08-10T13:22:16.532465Z"
    }
   },
   "outputs": [],
   "source": [
    "# 리스트에 요소 추가 (append)\n",
    "\n",
    "d = [10, 11, 12]"
   ]
  },
  {
   "cell_type": "code",
   "execution_count": 50,
   "metadata": {
    "ExecuteTime": {
     "end_time": "2018-08-10T13:22:17.679098Z",
     "start_time": "2018-08-10T13:22:17.673219Z"
    }
   },
   "outputs": [],
   "source": [
    "d.append(13)"
   ]
  },
  {
   "cell_type": "code",
   "execution_count": 51,
   "metadata": {
    "ExecuteTime": {
     "end_time": "2018-08-10T13:22:18.263630Z",
     "start_time": "2018-08-10T13:22:18.256231Z"
    }
   },
   "outputs": [
    {
     "data": {
      "text/plain": [
       "[10, 11, 12, 13]"
      ]
     },
     "execution_count": 51,
     "metadata": {},
     "output_type": "execute_result"
    }
   ],
   "source": [
    "d"
   ]
  },
  {
   "cell_type": "code",
   "execution_count": 52,
   "metadata": {
    "ExecuteTime": {
     "end_time": "2018-08-10T13:22:21.065490Z",
     "start_time": "2018-08-10T13:22:21.059045Z"
    }
   },
   "outputs": [],
   "source": [
    "d.append([14, 15])"
   ]
  },
  {
   "cell_type": "code",
   "execution_count": 53,
   "metadata": {
    "ExecuteTime": {
     "end_time": "2018-08-10T13:22:21.822524Z",
     "start_time": "2018-08-10T13:22:21.816308Z"
    }
   },
   "outputs": [
    {
     "data": {
      "text/plain": [
       "[10, 11, 12, 13, [14, 15]]"
      ]
     },
     "execution_count": 53,
     "metadata": {},
     "output_type": "execute_result"
    }
   ],
   "source": [
    "d"
   ]
  },
  {
   "cell_type": "code",
   "execution_count": 54,
   "metadata": {
    "ExecuteTime": {
     "end_time": "2018-08-10T13:22:23.093388Z",
     "start_time": "2018-08-10T13:22:23.090458Z"
    }
   },
   "outputs": [],
   "source": [
    "# 리스트 정렬 (sort)"
   ]
  },
  {
   "cell_type": "code",
   "execution_count": 55,
   "metadata": {
    "ExecuteTime": {
     "end_time": "2018-08-10T13:22:27.174620Z",
     "start_time": "2018-08-10T13:22:27.170490Z"
    }
   },
   "outputs": [],
   "source": [
    "d = [10, 15, 16, 23, 21,11, 1, 2]"
   ]
  },
  {
   "cell_type": "code",
   "execution_count": 56,
   "metadata": {
    "ExecuteTime": {
     "end_time": "2018-08-10T13:22:27.551349Z",
     "start_time": "2018-08-10T13:22:27.545898Z"
    }
   },
   "outputs": [],
   "source": [
    "d.sort()"
   ]
  },
  {
   "cell_type": "code",
   "execution_count": 57,
   "metadata": {
    "ExecuteTime": {
     "end_time": "2018-08-10T13:22:28.315950Z",
     "start_time": "2018-08-10T13:22:28.309656Z"
    }
   },
   "outputs": [
    {
     "data": {
      "text/plain": [
       "[1, 2, 10, 11, 15, 16, 21, 23]"
      ]
     },
     "execution_count": 57,
     "metadata": {},
     "output_type": "execute_result"
    }
   ],
   "source": [
    "d"
   ]
  },
  {
   "cell_type": "code",
   "execution_count": 58,
   "metadata": {
    "ExecuteTime": {
     "end_time": "2018-08-10T13:22:29.412046Z",
     "start_time": "2018-08-10T13:22:29.407569Z"
    }
   },
   "outputs": [],
   "source": [
    "# 리스트 뒤집기 (reverse)\n",
    "\n",
    "d = [1, 2, 3, 4]"
   ]
  },
  {
   "cell_type": "code",
   "execution_count": 59,
   "metadata": {
    "ExecuteTime": {
     "end_time": "2018-08-10T13:22:31.555395Z",
     "start_time": "2018-08-10T13:22:31.549089Z"
    }
   },
   "outputs": [],
   "source": [
    "d.reverse()"
   ]
  },
  {
   "cell_type": "code",
   "execution_count": 60,
   "metadata": {
    "ExecuteTime": {
     "end_time": "2018-08-10T13:22:31.792638Z",
     "start_time": "2018-08-10T13:22:31.784123Z"
    }
   },
   "outputs": [
    {
     "data": {
      "text/plain": [
       "[4, 3, 2, 1]"
      ]
     },
     "execution_count": 60,
     "metadata": {},
     "output_type": "execute_result"
    }
   ],
   "source": [
    "d"
   ]
  },
  {
   "cell_type": "code",
   "execution_count": 61,
   "metadata": {
    "ExecuteTime": {
     "end_time": "2018-08-10T13:22:40.378728Z",
     "start_time": "2018-08-10T13:22:40.375122Z"
    }
   },
   "outputs": [],
   "source": [
    "# 리스트에 요소 삽입 (insert)"
   ]
  },
  {
   "cell_type": "code",
   "execution_count": 62,
   "metadata": {
    "ExecuteTime": {
     "end_time": "2018-08-10T13:22:40.822198Z",
     "start_time": "2018-08-10T13:22:40.817788Z"
    }
   },
   "outputs": [],
   "source": [
    "d = [1, 2, 3, 4]"
   ]
  },
  {
   "cell_type": "code",
   "execution_count": 63,
   "metadata": {
    "ExecuteTime": {
     "end_time": "2018-08-10T13:22:44.177632Z",
     "start_time": "2018-08-10T13:22:44.171547Z"
    }
   },
   "outputs": [],
   "source": [
    "d.insert(0, 19) # (index, object) 입력한 인덱스 앞 위치에 object를 삽입한다."
   ]
  },
  {
   "cell_type": "code",
   "execution_count": 64,
   "metadata": {
    "ExecuteTime": {
     "end_time": "2018-08-10T13:22:44.811790Z",
     "start_time": "2018-08-10T13:22:44.803729Z"
    }
   },
   "outputs": [
    {
     "data": {
      "text/plain": [
       "[19, 1, 2, 3, 4]"
      ]
     },
     "execution_count": 64,
     "metadata": {},
     "output_type": "execute_result"
    }
   ],
   "source": [
    "d"
   ]
  },
  {
   "cell_type": "code",
   "execution_count": 65,
   "metadata": {
    "ExecuteTime": {
     "end_time": "2018-08-10T13:22:45.376016Z",
     "start_time": "2018-08-10T13:22:45.371032Z"
    }
   },
   "outputs": [],
   "source": [
    "d.insert(-1, 100)"
   ]
  },
  {
   "cell_type": "code",
   "execution_count": 66,
   "metadata": {
    "ExecuteTime": {
     "end_time": "2018-08-10T13:22:47.204053Z",
     "start_time": "2018-08-10T13:22:47.197457Z"
    }
   },
   "outputs": [
    {
     "data": {
      "text/plain": [
       "[19, 1, 2, 3, 100, 4]"
      ]
     },
     "execution_count": 66,
     "metadata": {},
     "output_type": "execute_result"
    }
   ],
   "source": [
    "d"
   ]
  },
  {
   "cell_type": "code",
   "execution_count": 67,
   "metadata": {
    "ExecuteTime": {
     "end_time": "2018-08-10T13:23:16.037422Z",
     "start_time": "2018-08-10T13:23:16.033838Z"
    }
   },
   "outputs": [],
   "source": [
    "# 리스트 요소 제거 (remove)"
   ]
  },
  {
   "cell_type": "code",
   "execution_count": 68,
   "metadata": {
    "ExecuteTime": {
     "end_time": "2018-08-10T13:23:16.634977Z",
     "start_time": "2018-08-10T13:23:16.631194Z"
    }
   },
   "outputs": [],
   "source": [
    "a = [1, 2, 3, 1, 2, 3]"
   ]
  },
  {
   "cell_type": "code",
   "execution_count": 69,
   "metadata": {
    "ExecuteTime": {
     "end_time": "2018-08-10T13:23:17.943657Z",
     "start_time": "2018-08-10T13:23:17.936150Z"
    }
   },
   "outputs": [],
   "source": [
    "a.remove(3)"
   ]
  },
  {
   "cell_type": "code",
   "execution_count": 70,
   "metadata": {
    "ExecuteTime": {
     "end_time": "2018-08-10T13:23:19.087222Z",
     "start_time": "2018-08-10T13:23:19.081251Z"
    }
   },
   "outputs": [
    {
     "data": {
      "text/plain": [
       "[1, 2, 1, 2, 3]"
      ]
     },
     "execution_count": 70,
     "metadata": {},
     "output_type": "execute_result"
    }
   ],
   "source": [
    "a # 값이 중복인 경우, 첫 번째 3만 제거된다."
   ]
  },
  {
   "cell_type": "code",
   "execution_count": 71,
   "metadata": {
    "ExecuteTime": {
     "end_time": "2018-08-10T13:23:29.319434Z",
     "start_time": "2018-08-10T13:23:29.312427Z"
    }
   },
   "outputs": [
    {
     "data": {
      "text/plain": [
       "3"
      ]
     },
     "execution_count": 71,
     "metadata": {},
     "output_type": "execute_result"
    }
   ],
   "source": [
    "# 리스트 요소 끄집어내기\n",
    "a.pop()"
   ]
  },
  {
   "cell_type": "code",
   "execution_count": 72,
   "metadata": {
    "ExecuteTime": {
     "end_time": "2018-08-10T13:23:30.029091Z",
     "start_time": "2018-08-10T13:23:30.021867Z"
    }
   },
   "outputs": [
    {
     "data": {
      "text/plain": [
       "[1, 2, 1, 2]"
      ]
     },
     "execution_count": 72,
     "metadata": {},
     "output_type": "execute_result"
    }
   ],
   "source": [
    "a"
   ]
  },
  {
   "cell_type": "code",
   "execution_count": 73,
   "metadata": {
    "ExecuteTime": {
     "end_time": "2018-08-10T13:23:31.563087Z",
     "start_time": "2018-08-10T13:23:31.559709Z"
    }
   },
   "outputs": [],
   "source": [
    "# 리스트 확장 (extend)"
   ]
  },
  {
   "cell_type": "code",
   "execution_count": 74,
   "metadata": {
    "ExecuteTime": {
     "end_time": "2018-08-10T13:23:32.132116Z",
     "start_time": "2018-08-10T13:23:32.127953Z"
    }
   },
   "outputs": [],
   "source": [
    "d.extend([1000, 10000])"
   ]
  },
  {
   "cell_type": "code",
   "execution_count": 75,
   "metadata": {
    "ExecuteTime": {
     "end_time": "2018-08-10T13:23:32.888123Z",
     "start_time": "2018-08-10T13:23:32.880557Z"
    }
   },
   "outputs": [
    {
     "data": {
      "text/plain": [
       "[19, 1, 2, 3, 100, 4, 1000, 10000]"
      ]
     },
     "execution_count": 75,
     "metadata": {},
     "output_type": "execute_result"
    }
   ],
   "source": [
    "d"
   ]
  },
  {
   "cell_type": "markdown",
   "metadata": {},
   "source": [
    "> ### 5) 리스트 복사"
   ]
  },
  {
   "cell_type": "code",
   "execution_count": 77,
   "metadata": {
    "ExecuteTime": {
     "end_time": "2018-08-10T13:24:10.725100Z",
     "start_time": "2018-08-10T13:24:10.718737Z"
    }
   },
   "outputs": [],
   "source": [
    "a = [1,2,3]\n",
    "b = a\n",
    "a[1] = 4"
   ]
  },
  {
   "cell_type": "code",
   "execution_count": 78,
   "metadata": {
    "ExecuteTime": {
     "end_time": "2018-08-10T13:24:11.103344Z",
     "start_time": "2018-08-10T13:24:11.095934Z"
    }
   },
   "outputs": [
    {
     "data": {
      "text/plain": [
       "[1, 4, 3]"
      ]
     },
     "execution_count": 78,
     "metadata": {},
     "output_type": "execute_result"
    }
   ],
   "source": [
    "a"
   ]
  },
  {
   "cell_type": "code",
   "execution_count": 79,
   "metadata": {
    "ExecuteTime": {
     "end_time": "2018-08-10T13:24:11.518961Z",
     "start_time": "2018-08-10T13:24:11.512785Z"
    }
   },
   "outputs": [
    {
     "data": {
      "text/plain": [
       "[1, 4, 3]"
      ]
     },
     "execution_count": 79,
     "metadata": {},
     "output_type": "execute_result"
    }
   ],
   "source": [
    "b # a의 값을 바꾸면 b의 값도 바뀐다."
   ]
  },
  {
   "cell_type": "code",
   "execution_count": 80,
   "metadata": {
    "ExecuteTime": {
     "end_time": "2018-08-10T13:34:04.809135Z",
     "start_time": "2018-08-10T13:34:04.804381Z"
    }
   },
   "outputs": [],
   "source": [
    "# [:]를 이용해 복사할 수 있다.\n",
    "a = [1,2,3]\n",
    "b = a[:]\n",
    "a[1] = 4"
   ]
  },
  {
   "cell_type": "code",
   "execution_count": 81,
   "metadata": {
    "ExecuteTime": {
     "end_time": "2018-08-10T13:34:07.106211Z",
     "start_time": "2018-08-10T13:34:07.099236Z"
    }
   },
   "outputs": [
    {
     "data": {
      "text/plain": [
       "[1, 4, 3]"
      ]
     },
     "execution_count": 81,
     "metadata": {},
     "output_type": "execute_result"
    }
   ],
   "source": [
    "a"
   ]
  },
  {
   "cell_type": "code",
   "execution_count": 82,
   "metadata": {
    "ExecuteTime": {
     "end_time": "2018-08-10T13:34:07.826459Z",
     "start_time": "2018-08-10T13:34:07.819913Z"
    }
   },
   "outputs": [
    {
     "data": {
      "text/plain": [
       "[1, 2, 3]"
      ]
     },
     "execution_count": 82,
     "metadata": {},
     "output_type": "execute_result"
    }
   ],
   "source": [
    "b"
   ]
  },
  {
   "cell_type": "code",
   "execution_count": 83,
   "metadata": {
    "ExecuteTime": {
     "end_time": "2018-08-10T13:34:17.569624Z",
     "start_time": "2018-08-10T13:34:17.565169Z"
    }
   },
   "outputs": [],
   "source": [
    "# copy 모듈을 이용해 복사할 수 있다.\n",
    "from copy import copy\n",
    "\n",
    "a = [1,2,3]\n",
    "b = copy(a)\n",
    "a[1] = 4"
   ]
  },
  {
   "cell_type": "code",
   "execution_count": 84,
   "metadata": {
    "ExecuteTime": {
     "end_time": "2018-08-10T13:34:19.089989Z",
     "start_time": "2018-08-10T13:34:19.082777Z"
    }
   },
   "outputs": [
    {
     "data": {
      "text/plain": [
       "[1, 4, 3]"
      ]
     },
     "execution_count": 84,
     "metadata": {},
     "output_type": "execute_result"
    }
   ],
   "source": [
    "a"
   ]
  },
  {
   "cell_type": "code",
   "execution_count": 85,
   "metadata": {
    "ExecuteTime": {
     "end_time": "2018-08-10T13:34:19.313428Z",
     "start_time": "2018-08-10T13:34:19.305603Z"
    }
   },
   "outputs": [
    {
     "data": {
      "text/plain": [
       "[1, 2, 3]"
      ]
     },
     "execution_count": 85,
     "metadata": {},
     "output_type": "execute_result"
    }
   ],
   "source": [
    "b"
   ]
  },
  {
   "cell_type": "markdown",
   "metadata": {},
   "source": [
    "## (5) 튜플\n",
    "- tuple은 변경할 수 없는 list이다. list에서 수정을 제외한 모든 기능을 tuple에서 적용할 수 있다.\n",
    "- tuple은 대괄호 대신 괄호를 사용해서 (혹은 아무런 기호 없이) 정의한다."
   ]
  },
  {
   "cell_type": "code",
   "execution_count": 91,
   "metadata": {
    "ExecuteTime": {
     "end_time": "2018-08-10T13:35:33.091107Z",
     "start_time": "2018-08-10T13:35:33.084670Z"
    }
   },
   "outputs": [],
   "source": [
    "my_tuple = (1, 2, 3)\n",
    "my_tuple_2 = 1, 2, 3    # 괄호를 생략하여도 튜플을 만들 수 있다."
   ]
  },
  {
   "cell_type": "code",
   "execution_count": 92,
   "metadata": {
    "ExecuteTime": {
     "end_time": "2018-08-10T13:35:33.684943Z",
     "start_time": "2018-08-10T13:35:33.675457Z"
    }
   },
   "outputs": [
    {
     "data": {
      "text/plain": [
       "(1, 2, 3)"
      ]
     },
     "execution_count": 92,
     "metadata": {},
     "output_type": "execute_result"
    }
   ],
   "source": [
    "my_tuple_2"
   ]
  },
  {
   "cell_type": "code",
   "execution_count": 93,
   "metadata": {
    "ExecuteTime": {
     "end_time": "2018-08-10T13:35:34.065786Z",
     "start_time": "2018-08-10T13:35:34.057881Z"
    }
   },
   "outputs": [
    {
     "data": {
      "text/plain": [
       "(1, 2, 3)"
      ]
     },
     "execution_count": 93,
     "metadata": {},
     "output_type": "execute_result"
    }
   ],
   "source": [
    "my_tuple"
   ]
  },
  {
   "cell_type": "code",
   "execution_count": 94,
   "metadata": {
    "ExecuteTime": {
     "end_time": "2018-08-10T13:35:34.598186Z",
     "start_time": "2018-08-10T13:35:34.590775Z"
    }
   },
   "outputs": [
    {
     "data": {
      "text/plain": [
       "2"
      ]
     },
     "execution_count": 94,
     "metadata": {},
     "output_type": "execute_result"
    }
   ],
   "source": [
    "my_tuple[1]"
   ]
  },
  {
   "cell_type": "code",
   "execution_count": 95,
   "metadata": {
    "ExecuteTime": {
     "end_time": "2018-08-10T13:35:35.323407Z",
     "start_time": "2018-08-10T13:35:35.311300Z"
    }
   },
   "outputs": [
    {
     "ename": "TypeError",
     "evalue": "'tuple' object does not support item assignment",
     "output_type": "error",
     "traceback": [
      "\u001b[0;31m---------------------------------------------------------------------------\u001b[0m",
      "\u001b[0;31mTypeError\u001b[0m                                 Traceback (most recent call last)",
      "\u001b[0;32m<ipython-input-95-9d504b5620c5>\u001b[0m in \u001b[0;36m<module>\u001b[0;34m()\u001b[0m\n\u001b[1;32m      1\u001b[0m \u001b[0;31m# 값 변경 불가\u001b[0m\u001b[0;34m\u001b[0m\u001b[0;34m\u001b[0m\u001b[0m\n\u001b[0;32m----> 2\u001b[0;31m \u001b[0mmy_tuple\u001b[0m\u001b[0;34m[\u001b[0m\u001b[0;36m1\u001b[0m\u001b[0;34m]\u001b[0m \u001b[0;34m=\u001b[0m \u001b[0;36m10\u001b[0m\u001b[0;34m\u001b[0m\u001b[0m\n\u001b[0m",
      "\u001b[0;31mTypeError\u001b[0m: 'tuple' object does not support item assignment"
     ]
    }
   ],
   "source": [
    "# 값 변경 불가\n",
    "my_tuple[1] = 10"
   ]
  },
  {
   "cell_type": "markdown",
   "metadata": {},
   "source": [
    "## (6) 딕셔너리\n",
    "- 딕셔너리는 Key와 Value라는 것을 한 쌍으로 갖는 자료형이다.\n",
    "- 딕셔너리는 리스트나 튜플처럼 순차적으로(sequential) 해당 요소값을 구하지 않고 Key를 통해 Value를 얻는다.\n",
    "- key를 사용해 value를 빠르게 검색할 수 있다.\n",
    "- {Key1:Value1, Key2:Value2, Key3:Value3 ...}"
   ]
  },
  {
   "cell_type": "code",
   "execution_count": 96,
   "metadata": {
    "ExecuteTime": {
     "end_time": "2018-08-10T13:35:37.500370Z",
     "start_time": "2018-08-10T13:35:37.495497Z"
    }
   },
   "outputs": [],
   "source": [
    "dic = {'apple' : '사과', 'banana' : '바나나', 'grape' : '포도'}"
   ]
  },
  {
   "cell_type": "code",
   "execution_count": 97,
   "metadata": {
    "ExecuteTime": {
     "end_time": "2018-08-10T13:35:39.127028Z",
     "start_time": "2018-08-10T13:35:39.120563Z"
    }
   },
   "outputs": [
    {
     "data": {
      "text/plain": [
       "'사과'"
      ]
     },
     "execution_count": 97,
     "metadata": {},
     "output_type": "execute_result"
    }
   ],
   "source": [
    "# 대괄호를 사용해서 key의 value를 불러올 수 있다.\n",
    "\n",
    "dic['apple']"
   ]
  },
  {
   "cell_type": "code",
   "execution_count": 98,
   "metadata": {
    "ExecuteTime": {
     "end_time": "2018-08-10T13:35:39.352949Z",
     "start_time": "2018-08-10T13:35:39.340121Z"
    }
   },
   "outputs": [
    {
     "ename": "KeyError",
     "evalue": "'orange'",
     "output_type": "error",
     "traceback": [
      "\u001b[0;31m---------------------------------------------------------------------------\u001b[0m",
      "\u001b[0;31mKeyError\u001b[0m                                  Traceback (most recent call last)",
      "\u001b[0;32m<ipython-input-98-e3bb7faf73d6>\u001b[0m in \u001b[0;36m<module>\u001b[0;34m()\u001b[0m\n\u001b[1;32m      1\u001b[0m \u001b[0;31m# dict에 존재하지 않는 key를 입력하면 KeyError가 발생한다.\u001b[0m\u001b[0;34m\u001b[0m\u001b[0;34m\u001b[0m\u001b[0m\n\u001b[0;32m----> 2\u001b[0;31m \u001b[0mdic\u001b[0m\u001b[0;34m[\u001b[0m\u001b[0;34m'orange'\u001b[0m\u001b[0;34m]\u001b[0m\u001b[0;34m\u001b[0m\u001b[0m\n\u001b[0m",
      "\u001b[0;31mKeyError\u001b[0m: 'orange'"
     ]
    }
   ],
   "source": [
    "# dict에 존재하지 않는 key를 입력하면 KeyError가 발생한다.\n",
    "dic['orange']"
   ]
  },
  {
   "cell_type": "code",
   "execution_count": 99,
   "metadata": {
    "ExecuteTime": {
     "end_time": "2018-08-10T13:35:40.811088Z",
     "start_time": "2018-08-10T13:35:40.805397Z"
    }
   },
   "outputs": [
    {
     "data": {
      "text/plain": [
       "0"
      ]
     },
     "execution_count": 99,
     "metadata": {},
     "output_type": "execute_result"
    }
   ],
   "source": [
    "# dict에서 get 함수를 사용하면 입력한 key가 dict에 없어도 에러를 반환하지 않고 기본값을 반환해 준다.\n",
    "\n",
    "dic.get('orange', 0)"
   ]
  },
  {
   "cell_type": "markdown",
   "metadata": {},
   "source": [
    "> ### 주의 사항\n",
    " - key는 항상 unique 해야한다."
   ]
  },
  {
   "cell_type": "code",
   "execution_count": 100,
   "metadata": {
    "ExecuteTime": {
     "end_time": "2018-08-10T13:35:43.042531Z",
     "start_time": "2018-08-10T13:35:43.038239Z"
    }
   },
   "outputs": [],
   "source": [
    "dic = {'오렌지' : 'orange', '오렌지' : 'Orange'}"
   ]
  },
  {
   "cell_type": "code",
   "execution_count": 101,
   "metadata": {
    "ExecuteTime": {
     "end_time": "2018-08-10T13:35:44.152548Z",
     "start_time": "2018-08-10T13:35:44.145072Z"
    }
   },
   "outputs": [
    {
     "data": {
      "text/plain": [
       "{'오렌지': 'Orange'}"
      ]
     },
     "execution_count": 101,
     "metadata": {},
     "output_type": "execute_result"
    }
   ],
   "source": [
    "dic  # 어떤 것이 무시될지 예측할 수 없다."
   ]
  },
  {
   "cell_type": "code",
   "execution_count": 102,
   "metadata": {
    "ExecuteTime": {
     "end_time": "2018-08-10T13:35:51.999192Z",
     "start_time": "2018-08-10T13:35:51.995196Z"
    }
   },
   "outputs": [],
   "source": [
    "# key로 튜플을 사용할 수 있다.\n",
    "## 리스트는 사용불가."
   ]
  },
  {
   "cell_type": "code",
   "execution_count": 103,
   "metadata": {
    "ExecuteTime": {
     "end_time": "2018-08-10T13:35:52.314244Z",
     "start_time": "2018-08-10T13:35:52.310250Z"
    }
   },
   "outputs": [],
   "source": [
    "dic = {('fruit', 'apple') : '사과', ('fruit', 'orange') : '오렌지'}"
   ]
  },
  {
   "cell_type": "code",
   "execution_count": 104,
   "metadata": {
    "ExecuteTime": {
     "end_time": "2018-08-10T13:35:55.532877Z",
     "start_time": "2018-08-10T13:35:55.526068Z"
    }
   },
   "outputs": [
    {
     "data": {
      "text/plain": [
       "{('fruit', 'apple'): '사과', ('fruit', 'orange'): '오렌지'}"
      ]
     },
     "execution_count": 104,
     "metadata": {},
     "output_type": "execute_result"
    }
   ],
   "source": [
    "dic"
   ]
  },
  {
   "cell_type": "code",
   "execution_count": 105,
   "metadata": {
    "ExecuteTime": {
     "end_time": "2018-08-10T13:35:56.092360Z",
     "start_time": "2018-08-10T13:35:56.086005Z"
    }
   },
   "outputs": [
    {
     "data": {
      "text/plain": [
       "'사과'"
      ]
     },
     "execution_count": 105,
     "metadata": {},
     "output_type": "execute_result"
    }
   ],
   "source": [
    "dic[('fruit', 'apple')]"
   ]
  },
  {
   "cell_type": "code",
   "execution_count": 106,
   "metadata": {
    "ExecuteTime": {
     "end_time": "2018-08-10T13:35:57.329642Z",
     "start_time": "2018-08-10T13:35:57.325812Z"
    }
   },
   "outputs": [],
   "source": [
    "data_dic = {'apple' : '사과', 'banana' : '바나나', 'grape' : '포도'}"
   ]
  },
  {
   "cell_type": "code",
   "execution_count": 107,
   "metadata": {
    "ExecuteTime": {
     "end_time": "2018-08-10T13:35:57.810088Z",
     "start_time": "2018-08-10T13:35:57.802865Z"
    }
   },
   "outputs": [
    {
     "data": {
      "text/plain": [
       "dict_keys(['grape', 'apple', 'banana'])"
      ]
     },
     "execution_count": 107,
     "metadata": {},
     "output_type": "execute_result"
    }
   ],
   "source": [
    "# 특정 key 대신 dict의 모든 key를 한번에 살펴볼 수 있다.\n",
    "\n",
    "data_dic.keys()"
   ]
  },
  {
   "cell_type": "code",
   "execution_count": 108,
   "metadata": {
    "ExecuteTime": {
     "end_time": "2018-08-10T13:35:58.587368Z",
     "start_time": "2018-08-10T13:35:58.580976Z"
    }
   },
   "outputs": [
    {
     "data": {
      "text/plain": [
       "dict_values(['포도', '사과', '바나나'])"
      ]
     },
     "execution_count": 108,
     "metadata": {},
     "output_type": "execute_result"
    }
   ],
   "source": [
    "# dict의 value만 출력\n",
    "\n",
    "data_dic.values()"
   ]
  },
  {
   "cell_type": "code",
   "execution_count": 109,
   "metadata": {
    "ExecuteTime": {
     "end_time": "2018-08-10T13:36:00.997474Z",
     "start_time": "2018-08-10T13:36:00.988566Z"
    }
   },
   "outputs": [
    {
     "data": {
      "text/plain": [
       "dict_items([('grape', '포도'), ('apple', '사과'), ('banana', '바나나')])"
      ]
     },
     "execution_count": 109,
     "metadata": {},
     "output_type": "execute_result"
    }
   ],
   "source": [
    "# dict의 key, value 모두 출력\n",
    "\n",
    "data_dic.items()"
   ]
  },
  {
   "cell_type": "code",
   "execution_count": 110,
   "metadata": {
    "ExecuteTime": {
     "end_time": "2018-08-10T13:36:01.009583Z",
     "start_time": "2018-08-10T13:36:01.002035Z"
    }
   },
   "outputs": [
    {
     "data": {
      "text/plain": [
       "False"
      ]
     },
     "execution_count": 110,
     "metadata": {},
     "output_type": "execute_result"
    }
   ],
   "source": [
    "# 해당 Key가 딕셔너리 안에 있는지 조사할 수 있다.\n",
    "\n",
    "'orane' in data_dic"
   ]
  },
  {
   "cell_type": "code",
   "execution_count": 111,
   "metadata": {
    "ExecuteTime": {
     "end_time": "2018-08-10T13:36:01.027851Z",
     "start_time": "2018-08-10T13:36:01.021555Z"
    }
   },
   "outputs": [
    {
     "data": {
      "text/plain": [
       "True"
      ]
     },
     "execution_count": 111,
     "metadata": {},
     "output_type": "execute_result"
    }
   ],
   "source": [
    "'banana' in data_dic"
   ]
  },
  {
   "cell_type": "markdown",
   "metadata": {},
   "source": [
    "## (7) 집합 자료형\n",
    "- 집합에 관련된 것들을 쉽게 처리하기 위해 만들어진 자료형이다.\n",
    "- set 이라는 내장함수를 통해 만들 수 있다.\n",
    "- 중복을 허용하지 않는다.\n",
    "    -  중복을 허용하지 않는 set의 특징은 자료형의 중복을 제거하기 위한 필터 역할로 종종 사용되기도 한다\n",
    "- 순서가 없다(Unordered)."
   ]
  },
  {
   "cell_type": "code",
   "execution_count": 112,
   "metadata": {
    "ExecuteTime": {
     "end_time": "2018-08-10T13:36:03.494995Z",
     "start_time": "2018-08-10T13:36:03.490111Z"
    }
   },
   "outputs": [],
   "source": [
    "my_set = set([1, 2, 3, 1, 2, 1, 1, 1, 1, ])"
   ]
  },
  {
   "cell_type": "code",
   "execution_count": 113,
   "metadata": {
    "ExecuteTime": {
     "end_time": "2018-08-10T13:36:03.782576Z",
     "start_time": "2018-08-10T13:36:03.774488Z"
    }
   },
   "outputs": [
    {
     "data": {
      "text/plain": [
       "{1, 2, 3}"
      ]
     },
     "execution_count": 113,
     "metadata": {},
     "output_type": "execute_result"
    }
   ],
   "source": [
    "my_set"
   ]
  },
  {
   "cell_type": "code",
   "execution_count": 114,
   "metadata": {
    "ExecuteTime": {
     "end_time": "2018-08-10T13:36:04.230152Z",
     "start_time": "2018-08-10T13:36:04.223979Z"
    }
   },
   "outputs": [],
   "source": [
    "# 교집합\n",
    "s1 = set([1, 2, 3, 4, 5, 6])\n",
    "s2 = set([4, 5, 6, 7, 8, 9])"
   ]
  },
  {
   "cell_type": "code",
   "execution_count": 115,
   "metadata": {
    "ExecuteTime": {
     "end_time": "2018-08-10T13:36:04.731981Z",
     "start_time": "2018-08-10T13:36:04.723779Z"
    }
   },
   "outputs": [
    {
     "data": {
      "text/plain": [
       "{4, 5, 6}"
      ]
     },
     "execution_count": 115,
     "metadata": {},
     "output_type": "execute_result"
    }
   ],
   "source": [
    "s1 & s2"
   ]
  },
  {
   "cell_type": "code",
   "execution_count": 116,
   "metadata": {
    "ExecuteTime": {
     "end_time": "2018-08-10T13:36:05.289678Z",
     "start_time": "2018-08-10T13:36:05.283024Z"
    }
   },
   "outputs": [
    {
     "data": {
      "text/plain": [
       "{4, 5, 6}"
      ]
     },
     "execution_count": 116,
     "metadata": {},
     "output_type": "execute_result"
    }
   ],
   "source": [
    "s1.intersection(s2)"
   ]
  },
  {
   "cell_type": "code",
   "execution_count": 117,
   "metadata": {
    "ExecuteTime": {
     "end_time": "2018-08-10T13:36:07.283913Z",
     "start_time": "2018-08-10T13:36:07.270826Z"
    }
   },
   "outputs": [
    {
     "data": {
      "text/plain": [
       "{1, 2, 3, 4, 5, 6, 7, 8, 9}"
      ]
     },
     "execution_count": 117,
     "metadata": {},
     "output_type": "execute_result"
    }
   ],
   "source": [
    "# 합집합\n",
    "\n",
    "s1 | s2"
   ]
  },
  {
   "cell_type": "code",
   "execution_count": 118,
   "metadata": {
    "ExecuteTime": {
     "end_time": "2018-08-10T13:36:07.706897Z",
     "start_time": "2018-08-10T13:36:07.700505Z"
    }
   },
   "outputs": [
    {
     "data": {
      "text/plain": [
       "{1, 2, 3, 4, 5, 6, 7, 8, 9}"
      ]
     },
     "execution_count": 118,
     "metadata": {},
     "output_type": "execute_result"
    }
   ],
   "source": [
    "s1.union(s2)"
   ]
  },
  {
   "cell_type": "code",
   "execution_count": 119,
   "metadata": {
    "ExecuteTime": {
     "end_time": "2018-08-10T13:36:09.192223Z",
     "start_time": "2018-08-10T13:36:09.184009Z"
    }
   },
   "outputs": [
    {
     "data": {
      "text/plain": [
       "{1, 2, 3}"
      ]
     },
     "execution_count": 119,
     "metadata": {},
     "output_type": "execute_result"
    }
   ],
   "source": [
    "# 차집합\n",
    "\n",
    "s1-s2"
   ]
  },
  {
   "cell_type": "code",
   "execution_count": 120,
   "metadata": {
    "ExecuteTime": {
     "end_time": "2018-08-10T13:36:09.832761Z",
     "start_time": "2018-08-10T13:36:09.826620Z"
    }
   },
   "outputs": [
    {
     "data": {
      "text/plain": [
       "{7, 8, 9}"
      ]
     },
     "execution_count": 120,
     "metadata": {},
     "output_type": "execute_result"
    }
   ],
   "source": [
    "s2-s1"
   ]
  },
  {
   "cell_type": "code",
   "execution_count": 121,
   "metadata": {
    "ExecuteTime": {
     "end_time": "2018-08-10T13:36:10.345070Z",
     "start_time": "2018-08-10T13:36:10.337281Z"
    }
   },
   "outputs": [
    {
     "data": {
      "text/plain": [
       "{1, 2, 3}"
      ]
     },
     "execution_count": 121,
     "metadata": {},
     "output_type": "execute_result"
    }
   ],
   "source": [
    "s1.difference(s2)"
   ]
  },
  {
   "cell_type": "code",
   "execution_count": 122,
   "metadata": {
    "ExecuteTime": {
     "end_time": "2018-08-10T13:36:12.539624Z",
     "start_time": "2018-08-10T13:36:12.535971Z"
    }
   },
   "outputs": [],
   "source": [
    "# add를 이용해 1개의 값을 추가할 수 있다.\n",
    "\n",
    "s1.add(10000)"
   ]
  },
  {
   "cell_type": "code",
   "execution_count": 123,
   "metadata": {
    "ExecuteTime": {
     "end_time": "2018-08-10T13:36:14.030260Z",
     "start_time": "2018-08-10T13:36:14.023963Z"
    }
   },
   "outputs": [
    {
     "data": {
      "text/plain": [
       "{1, 2, 3, 4, 5, 6, 10000}"
      ]
     },
     "execution_count": 123,
     "metadata": {},
     "output_type": "execute_result"
    }
   ],
   "source": [
    "s1"
   ]
  },
  {
   "cell_type": "code",
   "execution_count": 124,
   "metadata": {
    "ExecuteTime": {
     "end_time": "2018-08-10T13:36:14.811643Z",
     "start_time": "2018-08-10T13:36:14.807415Z"
    }
   },
   "outputs": [],
   "source": [
    "# update를 이용해 여러 개의 값을 추가할 수 있다.\n",
    "\n",
    "s1.update([70, 700, 7000])"
   ]
  },
  {
   "cell_type": "code",
   "execution_count": 125,
   "metadata": {
    "ExecuteTime": {
     "end_time": "2018-08-10T13:36:16.096415Z",
     "start_time": "2018-08-10T13:36:16.090083Z"
    }
   },
   "outputs": [
    {
     "data": {
      "text/plain": [
       "{1, 2, 3, 4, 5, 6, 70, 700, 7000, 10000}"
      ]
     },
     "execution_count": 125,
     "metadata": {},
     "output_type": "execute_result"
    }
   ],
   "source": [
    "s1"
   ]
  },
  {
   "cell_type": "code",
   "execution_count": 126,
   "metadata": {
    "ExecuteTime": {
     "end_time": "2018-08-10T13:36:16.665102Z",
     "start_time": "2018-08-10T13:36:16.661856Z"
    }
   },
   "outputs": [],
   "source": [
    "# remove를 이용해 특정 값을 제거할 수 있다.\n",
    "s1.remove(1)"
   ]
  },
  {
   "cell_type": "code",
   "execution_count": 127,
   "metadata": {
    "ExecuteTime": {
     "end_time": "2018-08-10T13:36:17.496629Z",
     "start_time": "2018-08-10T13:36:17.490435Z"
    }
   },
   "outputs": [
    {
     "data": {
      "text/plain": [
       "{2, 3, 4, 5, 6, 70, 700, 7000, 10000}"
      ]
     },
     "execution_count": 127,
     "metadata": {},
     "output_type": "execute_result"
    }
   ],
   "source": [
    "s1"
   ]
  },
  {
   "cell_type": "markdown",
   "metadata": {},
   "source": [
    "## (8) 불 자료형\n",
    "- 불(bool) 자료형이란 참(True)과 거짓(False)을 나타내는 자료형이다."
   ]
  },
  {
   "cell_type": "code",
   "execution_count": 128,
   "metadata": {
    "ExecuteTime": {
     "end_time": "2018-08-10T13:36:24.194497Z",
     "start_time": "2018-08-10T13:36:24.188216Z"
    }
   },
   "outputs": [
    {
     "data": {
      "text/plain": [
       "True"
      ]
     },
     "execution_count": 128,
     "metadata": {},
     "output_type": "execute_result"
    }
   ],
   "source": [
    "1 < 2"
   ]
  },
  {
   "cell_type": "code",
   "execution_count": 129,
   "metadata": {
    "ExecuteTime": {
     "end_time": "2018-08-10T13:36:24.554741Z",
     "start_time": "2018-08-10T13:36:24.546965Z"
    }
   },
   "outputs": [
    {
     "data": {
      "text/plain": [
       "False"
      ]
     },
     "execution_count": 129,
     "metadata": {},
     "output_type": "execute_result"
    }
   ],
   "source": [
    "True == False"
   ]
  },
  {
   "cell_type": "markdown",
   "metadata": {},
   "source": [
    "> - 불리언 대신 다른값으로 불리언을 표현할 수 있게 해준다. 다음은 모두 거짓을 의미한다. (거짓을 의미하는 것이지 False를 의미하는 것은 아님)\n",
    "    - False\n",
    "    - None\n",
    "    - []\n",
    "    - {}\n",
    "    - \"\"\n",
    "    - set()\n",
    "    - 0\n",
    "    - 0.0\n",
    "    "
   ]
  },
  {
   "cell_type": "code",
   "execution_count": 130,
   "metadata": {
    "ExecuteTime": {
     "end_time": "2018-08-10T13:36:28.323118Z",
     "start_time": "2018-08-10T13:36:28.315385Z"
    }
   },
   "outputs": [
    {
     "data": {
      "text/plain": [
       "False"
      ]
     },
     "execution_count": 130,
     "metadata": {},
     "output_type": "execute_result"
    }
   ],
   "source": [
    "None == False"
   ]
  },
  {
   "cell_type": "code",
   "execution_count": null,
   "metadata": {},
   "outputs": [],
   "source": []
  },
  {
   "cell_type": "code",
   "execution_count": null,
   "metadata": {},
   "outputs": [],
   "source": []
  },
  {
   "cell_type": "code",
   "execution_count": null,
   "metadata": {},
   "outputs": [],
   "source": []
  },
  {
   "cell_type": "code",
   "execution_count": null,
   "metadata": {},
   "outputs": [],
   "source": []
  }
 ],
 "metadata": {
  "anaconda-cloud": {},
  "hide_input": false,
  "kernelspec": {
   "display_name": "Python [default]",
   "language": "python",
   "name": "python3"
  },
  "language_info": {
   "codemirror_mode": {
    "name": "ipython",
    "version": 3
   },
   "file_extension": ".py",
   "mimetype": "text/x-python",
   "name": "python",
   "nbconvert_exporter": "python",
   "pygments_lexer": "ipython3",
   "version": "3.5.4"
  }
 },
 "nbformat": 4,
 "nbformat_minor": 2
}
