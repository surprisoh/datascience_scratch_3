{
 "cells": [
  {
   "cell_type": "code",
   "execution_count": null,
   "metadata": {
    "ExecuteTime": {
     "end_time": "2018-09-15T05:24:25.772105Z",
     "start_time": "2018-09-15T05:24:23.020420Z"
    }
   },
   "outputs": [],
   "source": [
    "import pandas as pd\n",
    "import matplotlib.pyplot as plt\n",
    "from matplotlib import style\n",
    "style.use('ggplot')\n",
    "%matplotlib inline"
   ]
  },
  {
   "cell_type": "code",
   "execution_count": null,
   "metadata": {
    "ExecuteTime": {
     "end_time": "2018-09-15T05:24:26.950631Z",
     "start_time": "2018-09-15T05:24:25.776472Z"
    }
   },
   "outputs": [],
   "source": [
    "from sklearn import datasets\n",
    "from sklearn.decomposition import PCA\n",
    "import numpy as np"
   ]
  },
  {
   "cell_type": "code",
   "execution_count": null,
   "metadata": {
    "ExecuteTime": {
     "end_time": "2018-09-15T05:24:26.966188Z",
     "start_time": "2018-09-15T05:24:26.953741Z"
    }
   },
   "outputs": [],
   "source": [
    "# 붓꽃 데이터\n",
    "\n",
    "iris = datasets.load_iris()\n",
    "x = iris.data\n",
    "y = iris.target"
   ]
  },
  {
   "cell_type": "code",
   "execution_count": null,
   "metadata": {
    "ExecuteTime": {
     "end_time": "2018-09-15T05:24:27.229781Z",
     "start_time": "2018-09-15T05:24:27.005335Z"
    }
   },
   "outputs": [],
   "source": [
    "# 시각화를 위한 PCA\n",
    "\n",
    "pca = PCA(n_components=2).fit(x)\n",
    "x_reduced = pca.transform(x)"
   ]
  },
  {
   "cell_type": "code",
   "execution_count": null,
   "metadata": {
    "ExecuteTime": {
     "end_time": "2018-09-15T05:24:27.239261Z",
     "start_time": "2018-09-15T05:24:27.233428Z"
    }
   },
   "outputs": [],
   "source": [
    "data = np.hstack((x_reduced, y.reshape(-1, 1)))"
   ]
  },
  {
   "cell_type": "code",
   "execution_count": null,
   "metadata": {
    "ExecuteTime": {
     "end_time": "2018-09-15T05:24:27.250399Z",
     "start_time": "2018-09-15T05:24:27.243313Z"
    }
   },
   "outputs": [],
   "source": [
    "np.random.seed(12)\n",
    "labeled_data_indices = np.random.randint(0, len(data), size = 9)\n",
    "labeled_data = data[labeled_data_indices]\n",
    "unlabeled_data = data[list(set(np.arange(len(data))) - set(labeled_data_indices))]"
   ]
  },
  {
   "cell_type": "code",
   "execution_count": null,
   "metadata": {
    "ExecuteTime": {
     "end_time": "2018-09-15T05:24:27.898525Z",
     "start_time": "2018-09-15T05:24:27.254523Z"
    }
   },
   "outputs": [],
   "source": [
    "plt.figure(figsize = (20, 10))\n",
    "plt.scatter(unlabeled_data[:, 0], unlabeled_data[:, 1], marker='o', s = 100, alpha = 0.3, label = 'new')\n",
    "plt.scatter(labeled_data[:, 0], labeled_data[:, 1], c = labeled_data[:, 2], marker = '^', s = 200, label = 'labeled')\n",
    "plt.legend(fontsize = 20)"
   ]
  },
  {
   "cell_type": "markdown",
   "metadata": {},
   "source": [
    "# K - NN\n",
    "- 가장 가까운 k 개 선택\n",
    "- 분류모델에 적용"
   ]
  },
  {
   "cell_type": "markdown",
   "metadata": {},
   "source": [
    "## 1.  거리\n",
    "- 유클리디안 거리 적용"
   ]
  },
  {
   "cell_type": "code",
   "execution_count": null,
   "metadata": {
    "ExecuteTime": {
     "end_time": "2018-09-15T05:24:27.913964Z",
     "start_time": "2018-09-15T05:24:27.901909Z"
    }
   },
   "outputs": [],
   "source": [
    "def distance(u, v):\n",
    "    from scipy import spatial\n",
    "    return spatial.distance.euclidean(u, v)"
   ]
  },
  {
   "cell_type": "markdown",
   "metadata": {},
   "source": [
    "## 2. k 개 선택"
   ]
  },
  {
   "cell_type": "code",
   "execution_count": null,
   "metadata": {
    "ExecuteTime": {
     "end_time": "2018-09-15T05:24:27.924667Z",
     "start_time": "2018-09-15T05:24:27.917933Z"
    }
   },
   "outputs": [],
   "source": [
    "def majority_vote(labels):\n",
    "    from collections import Counter\n",
    "    \"\"\"공동 1등이 생길 경우, 단독 1등이 생길 때까지 k를 하나씩 줄인다.\"\"\"\n",
    "    vote_counts = Counter(labels)\n",
    "    winner, winner_count = vote_counts.most_common(1)[0]\n",
    "    num_winners = len([count for count in vote_counts.values() if count == winner_count])\n",
    "    if num_winners == 1:\n",
    "        return winner\n",
    "    else:\n",
    "        return majority_vote(labels[:-1])"
   ]
  },
  {
   "cell_type": "markdown",
   "metadata": {},
   "source": [
    "## 3. 모델 구현"
   ]
  },
  {
   "cell_type": "code",
   "execution_count": null,
   "metadata": {
    "ExecuteTime": {
     "end_time": "2018-09-15T05:24:27.935489Z",
     "start_time": "2018-09-15T05:24:27.928458Z"
    }
   },
   "outputs": [],
   "source": [
    "def knn_classify(k, labeled_points, new_point):\n",
    "    by_distance = np.array(sorted(labeled_points, key = lambda data : distance(data[:2], new_point)))\n",
    "    k_nearest_labels = by_distance[:k, -1]\n",
    "    return majority_vote(k_nearest_labels)"
   ]
  },
  {
   "cell_type": "markdown",
   "metadata": {},
   "source": [
    "## 4. 모델 실행"
   ]
  },
  {
   "cell_type": "code",
   "execution_count": null,
   "metadata": {
    "ExecuteTime": {
     "end_time": "2018-09-15T05:24:27.952129Z",
     "start_time": "2018-09-15T05:24:27.939547Z"
    }
   },
   "outputs": [],
   "source": [
    "def run(k, unlabeled_data):\n",
    "    \"\"\"새로운 데이터셋이 들어왔을 때 각 데이터마다 라벨 분류\"\"\"\n",
    "    predicted_unlabeled_data = np.array([])\n",
    "    for _, row in enumerate(unlabeled_data):\n",
    "        predicted = knn_classify(k, labeled_data, row[:2])\n",
    "        predicted_unlabeled_data = np.append(predicted_unlabeled_data, predicted)\n",
    "    return predicted_unlabeled_data"
   ]
  },
  {
   "cell_type": "code",
   "execution_count": null,
   "metadata": {
    "ExecuteTime": {
     "end_time": "2018-09-15T05:24:28.026903Z",
     "start_time": "2018-09-15T05:24:27.959053Z"
    }
   },
   "outputs": [],
   "source": [
    "predicted_unlabeled_data = run(3, unlabeled_data)"
   ]
  },
  {
   "cell_type": "markdown",
   "metadata": {},
   "source": [
    "## 5. 시각화"
   ]
  },
  {
   "cell_type": "code",
   "execution_count": null,
   "metadata": {
    "ExecuteTime": {
     "end_time": "2018-09-15T05:24:28.034668Z",
     "start_time": "2018-09-15T05:24:28.029898Z"
    }
   },
   "outputs": [],
   "source": [
    "## 잘못 예측된 데이터\n",
    "\n",
    "incorrect_predicted = unlabeled_data[predicted_unlabeled_data != unlabeled_data[:, 2]]"
   ]
  },
  {
   "cell_type": "code",
   "execution_count": null,
   "metadata": {
    "ExecuteTime": {
     "end_time": "2018-09-15T05:24:28.884360Z",
     "start_time": "2018-09-15T05:24:28.039533Z"
    }
   },
   "outputs": [],
   "source": [
    "plt.figure(figsize = (20, 10))\n",
    "plt.title('Predict', size = 20)\n",
    "plt.scatter(unlabeled_data[:, 0], unlabeled_data[:, 1], c = predicted_unlabeled_data, marker='o', s = 100, alpha = 0.3, label = 'new')\n",
    "plt.scatter(labeled_data[:, 0], labeled_data[:, 1], c = labeled_data[:, 2], marker = '^', s = 200, label = 'labeled')\n",
    "plt.scatter(incorrect_predicted[:, 0], incorrect_predicted[:, 1], \n",
    "            marker='x', s = 200, label = 'incorrect')\n",
    "plt.legend(fontsize = 20);"
   ]
  },
  {
   "cell_type": "code",
   "execution_count": null,
   "metadata": {
    "ExecuteTime": {
     "end_time": "2018-09-15T05:24:30.054824Z",
     "start_time": "2018-09-15T05:24:28.891291Z"
    }
   },
   "outputs": [],
   "source": [
    "plt.figure(figsize = (20, 10))\n",
    "plt.title('Real', size = 20)\n",
    "plt.scatter(x_reduced[:, 0], x_reduced[:, 1], c = y, marker='o', s = 100, alpha = 0.3);"
   ]
  },
  {
   "cell_type": "code",
   "execution_count": null,
   "metadata": {},
   "outputs": [],
   "source": []
  },
  {
   "cell_type": "code",
   "execution_count": null,
   "metadata": {},
   "outputs": [],
   "source": []
  }
 ],
 "metadata": {
  "anaconda-cloud": {},
  "hide_input": false,
  "kernelspec": {
   "display_name": "Python [conda root]",
   "language": "python",
   "name": "conda-root-py"
  },
  "language_info": {
   "codemirror_mode": {
    "name": "ipython",
    "version": 3
   },
   "file_extension": ".py",
   "mimetype": "text/x-python",
   "name": "python",
   "nbconvert_exporter": "python",
   "pygments_lexer": "ipython3",
   "version": "3.5.4"
  }
 },
 "nbformat": 4,
 "nbformat_minor": 2
}
