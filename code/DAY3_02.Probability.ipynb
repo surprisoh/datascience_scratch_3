{
 "cells": [
  {
   "cell_type": "code",
   "execution_count": null,
   "metadata": {},
   "outputs": [],
   "source": [
    "import matplotlib.pyplot as plt\n",
    "import numpy as np\n",
    "import matplotlib.style\n",
    "matplotlib.style.use('ggplot')"
   ]
  },
  {
   "cell_type": "code",
   "execution_count": null,
   "metadata": {},
   "outputs": [],
   "source": [
    "%matplotlib inline"
   ]
  },
  {
   "cell_type": "markdown",
   "metadata": {},
   "source": [
    "# 확률 모형"
   ]
  },
  {
   "cell_type": "markdown",
   "metadata": {},
   "source": [
    "# 1. 정규분포\n",
    "- 자연 현상에서 많이 나타나는 숫자를 확률 모형으로 모형화할 때 가장 많이 사용된다.\n",
    "- 종형 곡선 모양의 분포이며, 평균과 표준편차로 정의된다.\n",
    "    - 평균 : 종의 중심이 어디인지\n",
    "    - 종의 폭이 얼마나 넓은지\n",
    "    \n",
    "- 정규 분포의 밀도 함수\n",
    "### $ f(x | \\mu, \\sigma) = \\frac {1} {\\sqrt {2\\pi}\\sigma} exp(-\\frac {(x - \\mu )^2} {2 \\sigma ^2})  $"
   ]
  },
  {
   "cell_type": "code",
   "execution_count": null,
   "metadata": {},
   "outputs": [],
   "source": [
    "## 정규 분포 구현\n",
    "\n",
    "def normal_pdf(x, mu = 0, sigma = 1):\n",
    "    import math\n",
    "    sqrt_two_pi = math.sqrt(2 * math.pi)\n",
    "    return (math.exp(-(x-mu)**2 / 2 / sigma**2) / (sqrt_two_pi * sigma))"
   ]
  },
  {
   "cell_type": "code",
   "execution_count": null,
   "metadata": {
    "scrolled": false
   },
   "outputs": [],
   "source": [
    "xs = [x/10 for x in range(-50, 50)]\n",
    "plt.figure(figsize=(10, 5))\n",
    "plt.plot(xs, [normal_pdf(x, sigma=1) for x in xs], '--', label = 'mu = 0, sigma = 1')\n",
    "plt.plot(xs, [normal_pdf(x, sigma=2) for x in xs], ':', label = 'mu = 0, sigma = 2')\n",
    "plt.plot(xs, [normal_pdf(x, sigma=0.5) for x in xs], '-', label = 'mu = 0, sigma = 0.5')\n",
    "plt.plot(xs, [normal_pdf(x, mu = -1) for x in xs], '-.', label = 'mu = -1, sigma = 1')\n",
    "plt.legend()\n",
    "plt.show()"
   ]
  },
  {
   "cell_type": "markdown",
   "metadata": {},
   "source": [
    "## scipy를 활용한 정규분포 \n",
    "- 정규 분포 (확률 분포)를 따르는 확률 변수 생성\n",
    "- 그 확률 변수로 부터 n개의 표본 생성"
   ]
  },
  {
   "cell_type": "code",
   "execution_count": null,
   "metadata": {},
   "outputs": [],
   "source": [
    "from scipy import stats"
   ]
  },
  {
   "cell_type": "code",
   "execution_count": null,
   "metadata": {},
   "outputs": [],
   "source": [
    "# 정규분포를 따르는 확률 변수 생성\n",
    "\n",
    "rv = stats.norm(0, 1)"
   ]
  },
  {
   "cell_type": "code",
   "execution_count": null,
   "metadata": {
    "scrolled": true
   },
   "outputs": [],
   "source": [
    "xs = [x/10 for x in range(-50, 50)]\n",
    "plt.figure(figsize=(10, 5))\n",
    "plt.plot(xs, [rv.pdf(x) for x in xs], '--', label = 'mu = 0, sigma = 1')  ## \n",
    "plt.legend()\n",
    "plt.show()"
   ]
  },
  {
   "cell_type": "markdown",
   "metadata": {},
   "source": [
    "# 2. 표준 정규 분포\n",
    "- 평균이 0이고, 표준편차가 1인 정규분포\n",
    "### $Z = \\frac{X-\\mu} {\\sigma}$"
   ]
  },
  {
   "cell_type": "code",
   "execution_count": null,
   "metadata": {},
   "outputs": [],
   "source": [
    "## 표준정규분포의 누적분포함수 구현\n",
    "## error function으로 누적분포 함수 구현 (적분)\n",
    "## https://en.wikipedia.org/wiki/Error_function\n",
    "\n",
    "def normal_cdf(x, mu=0,sigma=1):\n",
    "    import math\n",
    "    return (1 + math.erf((x - mu) / math.sqrt(2) / sigma)) / 2"
   ]
  },
  {
   "cell_type": "code",
   "execution_count": null,
   "metadata": {
    "scrolled": false
   },
   "outputs": [],
   "source": [
    "xs = [x / 10.0 for x in range(-50, 50)]\n",
    "plt.figure(figsize=(10, 5))\n",
    "plt.plot(xs,[normal_cdf(x,sigma=1) for x in xs],'-',label='mu=0,sigma=1')\n",
    "plt.plot(xs,[normal_cdf(x,sigma=2) for x in xs],'--',label='mu=0,sigma=2')\n",
    "plt.plot(xs,[normal_cdf(x,sigma=0.5) for x in xs],':',label='mu=0,sigma=0.5')\n",
    "plt.plot(xs,[normal_cdf(x,mu=-1) for x in xs],'-.',label='mu=-1,sigma=1')\n",
    "plt.legend(loc=4) # 우측 하단\n",
    "plt.show()"
   ]
  },
  {
   "cell_type": "code",
   "execution_count": null,
   "metadata": {
    "scrolled": true
   },
   "outputs": [],
   "source": [
    "## scipy\n",
    "\n",
    "xs = [x / 10.0 for x in range(-50, 50)]\n",
    "plt.figure(figsize=(10, 5))\n",
    "plt.plot(xs,[rv.cdf(x) for x in xs],'-',label='mu=0,sigma=1')\n",
    "plt.legend(loc=4) # 우측 하단\n",
    "plt.show()"
   ]
  },
  {
   "cell_type": "markdown",
   "metadata": {},
   "source": [
    "### 데이터 분석에서 어떤 확률 변수의 확률이 궁금할 때도 있지만, 어떤 확률 값을 가지는 확률 변수 값이 궁금할 때가 있다."
   ]
  },
  {
   "cell_type": "code",
   "execution_count": null,
   "metadata": {
    "scrolled": true
   },
   "outputs": [],
   "source": [
    "# ppf 메서드를 이용해서 확률 변수 값을 구한다.\n",
    "## ppf : percent point function (inverse of cdf — percentiles)\n",
    "\n",
    "rv.ppf(0.7)"
   ]
  },
  {
   "cell_type": "code",
   "execution_count": null,
   "metadata": {},
   "outputs": [],
   "source": []
  },
  {
   "cell_type": "markdown",
   "metadata": {},
   "source": [
    "# 3. 이항분포"
   ]
  },
  {
   "cell_type": "code",
   "execution_count": null,
   "metadata": {},
   "outputs": [],
   "source": [
    "## 베르누이 시행 구현\n",
    "def bernoulli_trial(p):\n",
    "    import random\n",
    "    return 1 if random.random() < p else 0"
   ]
  },
  {
   "cell_type": "code",
   "execution_count": null,
   "metadata": {},
   "outputs": [],
   "source": [
    "## 이항확률변수 구현\n",
    "def binomial(p, n):\n",
    "    return sum(bernoulli_trial(p) for _ in range(n))"
   ]
  },
  {
   "cell_type": "code",
   "execution_count": null,
   "metadata": {},
   "outputs": [],
   "source": [
    "## n이 충분히 크다면, 이항확률변수는 정규분포 확률변수에 근사한다.\n",
    "\n",
    "def make_hist(p, n, num_points):\n",
    "    from collections import Counter\n",
    "    import math\n",
    "    \n",
    "    data = [binomial(p, n) for _ in range(num_points)]\n",
    "    \n",
    "    # 이항분포를 막대그래프로 표현\n",
    "    histogram = Counter(data)  # 빈도수 세기\n",
    "    plt.figure(figsize = (10, 5))\n",
    "    plt.bar([x - 0.4 for x in histogram.keys()],\n",
    "            [v / num_points for v in histogram.values()],\n",
    "            0.8, color = 'grey', label = 'binomial')\n",
    "    \n",
    "    mu = p * n\n",
    "    sigma = math.sqrt(n * p * (1 - p))\n",
    "\n",
    "    # 근사된 정규 분포 \n",
    "    xs = range(min(data), max(data) + 1)\n",
    "    ys = [normal_pdf(i, mu, sigma) for i in xs]\n",
    "    plt.plot(xs,ys, label = 'norm')\n",
    "    plt.legend()\n",
    "    plt.show()\n",
    "\n",
    "make_hist(0.75, 100,1000)"
   ]
  },
  {
   "cell_type": "markdown",
   "metadata": {},
   "source": [
    "### 이항분포는 근사적으로 정규 분포를 따르는걸 볼 수 있다."
   ]
  },
  {
   "cell_type": "markdown",
   "metadata": {},
   "source": [
    "# 4. t 분포"
   ]
  },
  {
   "cell_type": "code",
   "execution_count": null,
   "metadata": {},
   "outputs": [],
   "source": [
    "xx = np.linspace(-4, 4, 100)\n",
    "plt.figure(figsize = (10, 5))\n",
    "for dof in [1, 2, 5, 10, 20]:\n",
    "    rv = stats.t(df=dof)\n",
    "    plt.plot(xx, rv.pdf(xx), label=(\"student-t (dof={})\".format(dof)))\n",
    "plt.plot(xx, sp.stats.norm().pdf(xx), label=\"Normal\", lw=5, alpha=0.5)\n",
    "plt.legend()\n",
    "plt.show()"
   ]
  },
  {
   "cell_type": "code",
   "execution_count": null,
   "metadata": {},
   "outputs": [],
   "source": []
  },
  {
   "cell_type": "code",
   "execution_count": null,
   "metadata": {},
   "outputs": [],
   "source": []
  },
  {
   "cell_type": "code",
   "execution_count": null,
   "metadata": {},
   "outputs": [],
   "source": []
  },
  {
   "cell_type": "code",
   "execution_count": null,
   "metadata": {},
   "outputs": [],
   "source": []
  },
  {
   "cell_type": "code",
   "execution_count": null,
   "metadata": {},
   "outputs": [],
   "source": []
  },
  {
   "cell_type": "code",
   "execution_count": null,
   "metadata": {},
   "outputs": [],
   "source": []
  },
  {
   "cell_type": "code",
   "execution_count": null,
   "metadata": {},
   "outputs": [],
   "source": []
  }
 ],
 "metadata": {
  "anaconda-cloud": {},
  "hide_input": false,
  "kernelspec": {
   "display_name": "Python [default]",
   "language": "python",
   "name": "python3"
  },
  "language_info": {
   "codemirror_mode": {
    "name": "ipython",
    "version": 3
   },
   "file_extension": ".py",
   "mimetype": "text/x-python",
   "name": "python",
   "nbconvert_exporter": "python",
   "pygments_lexer": "ipython3",
   "version": "3.5.4"
  }
 },
 "nbformat": 4,
 "nbformat_minor": 1
}
