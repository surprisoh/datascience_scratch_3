{
 "cells": [
  {
   "cell_type": "code",
   "execution_count": null,
   "metadata": {
    "ExecuteTime": {
     "end_time": "2018-09-06T12:19:46.779479Z",
     "start_time": "2018-09-06T12:19:46.518686Z"
    }
   },
   "outputs": [],
   "source": [
    "import numpy as np # 배열연산 패키지 호출"
   ]
  },
  {
   "cell_type": "code",
   "execution_count": null,
   "metadata": {
    "ExecuteTime": {
     "end_time": "2018-09-06T12:20:06.875298Z",
     "start_time": "2018-09-06T12:20:06.862916Z"
    }
   },
   "outputs": [],
   "source": [
    "## 사용할 기본 데이터\n",
    "\n",
    "num_friends = [100,49,41,40,25,21,21,19,19,18,18,16,15,15,15,15,14,14,13,13,13,13,12,12,11,10,10,10,10,10,10,10,10,10,10,10,10,10,10,10,9,9,9,9,9,9,9,9,9,9,9,9,9,9,9,9,9,9,8,8,8,8,8,8,8,8,8,8,8,8,8,7,7,7,7,7,7,7,7,7,7,7,7,7,7,7,6,6,6,6,6,6,6,6,6,6,6,6,6,6,6,6,6,6,6,6,6,6,5,5,5,5,5,5,5,5,5,5,5,5,5,5,5,5,5,4,4,4,4,4,4,4,4,4,4,4,4,4,4,4,4,4,4,4,4,3,3,3,3,3,3,3,3,3,3,3,3,3,3,3,3,3,3,3,3,2,2,2,2,2,2,2,2,2,2,2,2,2,2,2,2,2,1,1,1,1,1,1,1,1,1,1,1,1,1,1,1,1,1,1,1,1,1,1]\n",
    "daily_minutes = [1,68.77,51.25,52.08,38.36,44.54,57.13,51.4,41.42,31.22,34.76,54.01,38.79,47.59,49.1,27.66,41.03,36.73,48.65,28.12,46.62,35.57,32.98,35,26.07,23.77,39.73,40.57,31.65,31.21,36.32,20.45,21.93,26.02,27.34,23.49,46.94,30.5,33.8,24.23,21.4,27.94,32.24,40.57,25.07,19.42,22.39,18.42,46.96,23.72,26.41,26.97,36.76,40.32,35.02,29.47,30.2,31,38.11,38.18,36.31,21.03,30.86,36.07,28.66,29.08,37.28,15.28,24.17,22.31,30.17,25.53,19.85,35.37,44.6,17.23,13.47,26.33,35.02,32.09,24.81,19.33,28.77,24.26,31.98,25.73,24.86,16.28,34.51,15.23,39.72,40.8,26.06,35.76,34.76,16.13,44.04,18.03,19.65,32.62,35.59,39.43,14.18,35.24,40.13,41.82,35.45,36.07,43.67,24.61,20.9,21.9,18.79,27.61,27.21,26.61,29.77,20.59,27.53,13.82,33.2,25,33.1,36.65,18.63,14.87,22.2,36.81,25.53,24.62,26.25,18.21,28.08,19.42,29.79,32.8,35.99,28.32,27.79,35.88,29.06,36.28,14.1,36.63,37.49,26.9,18.58,38.48,24.48,18.95,33.55,14.24,29.04,32.51,25.63,22.22,19,32.73,15.16,13.9,27.2,32.01,29.27,33,13.74,20.42,27.32,18.23,35.35,28.48,9.08,24.62,20.12,35.26,19.92,31.02,16.49,12.16,30.7,31.22,34.65,13.13,27.51,33.2,31.57,14.1,33.42,17.44,10.12,24.42,9.82,23.39,30.93,15.03,21.67,31.09,33.29,22.61,26.89,23.48,8.38,27.81,32.35,23.84]\n",
    "\n",
    "num_friends = np.array(num_friends) # 파이썬 list를 numpy array로 변환\n",
    "daily_minutes = np.array(daily_minutes)"
   ]
  },
  {
   "cell_type": "markdown",
   "metadata": {},
   "source": [
    "# 통계"
   ]
  },
  {
   "cell_type": "markdown",
   "metadata": {},
   "source": [
    "# 1. 평균\n",
    "\n",
    "### $ \\bar{x} = \\frac{1}{N} \\sum_{i=1}^{N}x_i $\n",
    "\n",
    "\n",
    "\n",
    "- 가지고 있는 각 데이터를 모두 더하고 ($ \\sum_{i=1}^{N}x_i $ ), 전체 데이터의 개수로 나눠준다. ($\\frac{1}{N}$)"
   ]
  },
  {
   "cell_type": "code",
   "execution_count": null,
   "metadata": {
    "ExecuteTime": {
     "end_time": "2018-09-06T12:39:16.235889Z",
     "start_time": "2018-09-06T12:39:16.219707Z"
    }
   },
   "outputs": [],
   "source": [
    "def mean(x):\n",
    "    return sum(x) / len(x)"
   ]
  },
  {
   "cell_type": "code",
   "execution_count": null,
   "metadata": {
    "ExecuteTime": {
     "end_time": "2018-09-06T12:39:17.343639Z",
     "start_time": "2018-09-06T12:39:17.308675Z"
    }
   },
   "outputs": [],
   "source": [
    "mean(num_friends)"
   ]
  },
  {
   "cell_type": "code",
   "execution_count": null,
   "metadata": {
    "ExecuteTime": {
     "end_time": "2018-09-06T12:39:18.329056Z",
     "start_time": "2018-09-06T12:39:18.318818Z"
    },
    "scrolled": true
   },
   "outputs": [],
   "source": [
    "## numpy\n",
    "\n",
    "np.mean(num_friends)"
   ]
  },
  {
   "cell_type": "markdown",
   "metadata": {},
   "source": [
    "# 2. 중앙값\n",
    "- 전체 데이터를 크기 순으로 정렬했을 때 가장 가운데 있는 값"
   ]
  },
  {
   "cell_type": "code",
   "execution_count": null,
   "metadata": {},
   "outputs": [],
   "source": [
    "def median(v):\n",
    "    \"\"\"v의 중앙값을 계산\"\"\"\n",
    "    n = len(v)\n",
    "    sorted_v = sorted(v)\n",
    "    midpoint = n // 2\n",
    "    \n",
    "    if n % 2 == 1:\n",
    "        # 데이터 포인트의 개수가 홀수면 중앙값을 반환\n",
    "        return sorted_v[midpoint]\n",
    "    \n",
    "    else:\n",
    "        # 데이터 포인트의 개수가 짝수면 두 중앙값의 평균을 반환\n",
    "        lo = midpoint - 1\n",
    "        hi = midpoint\n",
    "        return (sorted_v[lo] + sorted_v[hi])/2"
   ]
  },
  {
   "cell_type": "code",
   "execution_count": null,
   "metadata": {},
   "outputs": [],
   "source": [
    "median(num_friends)"
   ]
  },
  {
   "cell_type": "code",
   "execution_count": null,
   "metadata": {
    "scrolled": true
   },
   "outputs": [],
   "source": [
    "## numpy\n",
    "\n",
    "np.median(num_friends)"
   ]
  },
  {
   "cell_type": "markdown",
   "metadata": {},
   "source": [
    "### 평균 vs 중앙값\n",
    "> - 평균이 중앙값보다 계산하기 간편하다.\n",
    "- 평균은 데이터가 바뀌어도 값의 변화가 중앙값보다 더 부드럽다.\n",
    "- 평균은 이상치에 매우 민감하다."
   ]
  },
  {
   "cell_type": "code",
   "execution_count": null,
   "metadata": {
    "ExecuteTime": {
     "end_time": "2018-09-06T12:42:54.086085Z",
     "start_time": "2018-09-06T12:42:54.082429Z"
    }
   },
   "outputs": [],
   "source": [
    "# 1 ~ 10까지의 정수에서 이상치가 추가되었을 때\n",
    "ex_data = np.array([1, 2, 3, 4, 5, 6, 7, 8, 9, 10, 1000])"
   ]
  },
  {
   "cell_type": "code",
   "execution_count": null,
   "metadata": {
    "ExecuteTime": {
     "end_time": "2018-09-06T12:42:54.427269Z",
     "start_time": "2018-09-06T12:42:54.417332Z"
    },
    "scrolled": true
   },
   "outputs": [],
   "source": [
    "print('평균 : ', ex_data.mean())\n",
    "print('중앙값 : ', np.median(ex_data))"
   ]
  },
  {
   "cell_type": "markdown",
   "metadata": {},
   "source": [
    "# 3. 분산\n",
    "\n",
    "### $ s^2 = \\frac{1}{N} \\sum_{i=1}^{N}(x_i - \\bar{x})^2$\n",
    "\n",
    "- 각 데이터와 전체 데이터의 평균과의 차이의 제곱을 모두 더하고 ( $\\sum_{i=1}^{N}(x_i - \\bar{x})^2$), 전체 데이터의 개수로 나눠준다. ($\\frac{1}{N}$)\n",
    "    - 편차 제곱의 평균\n",
    "    "
   ]
  },
  {
   "cell_type": "code",
   "execution_count": null,
   "metadata": {
    "ExecuteTime": {
     "end_time": "2018-09-06T13:42:32.037978Z",
     "start_time": "2018-09-06T13:42:32.026265Z"
    }
   },
   "outputs": [],
   "source": [
    "def de_mean(x):\n",
    "    x_bar = mean(x)\n",
    "    return x - x_bar # 데이터 x와 평균의 차이 ( 배열 연산이므로 x (벡터, 배열) - x_bar (스칼라) 은 배열이다.)"
   ]
  },
  {
   "cell_type": "code",
   "execution_count": null,
   "metadata": {
    "ExecuteTime": {
     "end_time": "2018-09-06T13:42:32.246135Z",
     "start_time": "2018-09-06T13:42:32.233473Z"
    }
   },
   "outputs": [],
   "source": [
    "def variance(x):\n",
    "    n = len(x)\n",
    "    deviations = de_mean(x)\n",
    "    deviations.dot(deviations)\n",
    "    return deviations.dot(deviations) / (n)"
   ]
  },
  {
   "cell_type": "code",
   "execution_count": null,
   "metadata": {
    "ExecuteTime": {
     "end_time": "2018-09-06T13:42:36.231661Z",
     "start_time": "2018-09-06T13:42:36.212243Z"
    }
   },
   "outputs": [],
   "source": [
    "variance(num_friends)"
   ]
  },
  {
   "cell_type": "code",
   "execution_count": null,
   "metadata": {},
   "outputs": [],
   "source": [
    "# [2, 4, 6, 8, 10, 12, 14] 의 분산을 구해보세요 (손으로)"
   ]
  },
  {
   "cell_type": "code",
   "execution_count": null,
   "metadata": {},
   "outputs": [],
   "source": []
  },
  {
   "cell_type": "markdown",
   "metadata": {},
   "source": [
    "# 4. 표준편차\n",
    "\n",
    "### $ s = \\sqrt(\\frac{1}{N} \\sum_{i=1}^{N}(x_i - \\bar{x})^2)$\n",
    "\n",
    "- 분산의 제곱근"
   ]
  },
  {
   "cell_type": "code",
   "execution_count": null,
   "metadata": {},
   "outputs": [],
   "source": [
    "def standard_deviation(x):\n",
    "    import math\n",
    "    return math.sqrt(variance(x))"
   ]
  },
  {
   "cell_type": "code",
   "execution_count": null,
   "metadata": {
    "scrolled": false
   },
   "outputs": [],
   "source": [
    "standard_deviation(num_friends)"
   ]
  },
  {
   "cell_type": "code",
   "execution_count": null,
   "metadata": {},
   "outputs": [],
   "source": [
    "## numpy\n",
    "\n",
    "np.var(num_friends), np.std(num_friends)"
   ]
  },
  {
   "cell_type": "code",
   "execution_count": null,
   "metadata": {
    "ExecuteTime": {
     "end_time": "2018-09-06T14:24:18.484063Z",
     "start_time": "2018-09-06T14:24:18.464775Z"
    }
   },
   "outputs": [],
   "source": [
    "# [2, 4, 6, 8, 10, 12, 14] 의 표준편차를 구해보세요 (손으로)"
   ]
  },
  {
   "cell_type": "code",
   "execution_count": null,
   "metadata": {},
   "outputs": [],
   "source": []
  },
  {
   "cell_type": "markdown",
   "metadata": {},
   "source": [
    "# 4. 공분산\n",
    "- 평균을 중심으로 각 자료들이 어떻게 분포되어 있는지 크기와 방향성을 같이 보여준다"
   ]
  },
  {
   "cell_type": "markdown",
   "metadata": {},
   "source": [
    "- ### $s_{xy} = \\frac {1} {N} \\sum _{ i=1 }^{N }{ (x_i-m_x)(y_i-m_y) } $\n",
    "    - 위 공식을 벡터로 표현하면 아래와 같이 나타낼 수 있다. ( $\\sum _{ i=1 }^{N }{ (x_i-m_x)(y_i-m_y) }$ = 두 벡터의 내적 )\n",
    "    - ### $Cov(X, Y) = \\frac {1} {N} (X-\\bar{X})(Y-\\bar{Y}) $\n",
    "\n",
    "- 각 데이터의 평균과의 편차를 같은 위치에 있는 편차끼리 곱하고 더한 값 ($\\sum _{ i=1 }^{N }{ (x_i-m_x)(y_i-m_y) }$)을 데이터의 개수로 나눠준다. ($\\frac {1} {N}$)"
   ]
  },
  {
   "cell_type": "code",
   "execution_count": null,
   "metadata": {
    "ExecuteTime": {
     "end_time": "2018-09-06T14:39:42.323374Z",
     "start_time": "2018-09-06T14:39:42.311666Z"
    }
   },
   "outputs": [],
   "source": [
    "def covariance(x, y):\n",
    "    n = len(x)\n",
    "    return np.dot(de_mean(x), de_mean(y)) / n"
   ]
  },
  {
   "cell_type": "code",
   "execution_count": null,
   "metadata": {
    "ExecuteTime": {
     "end_time": "2018-09-06T14:39:42.667303Z",
     "start_time": "2018-09-06T14:39:42.654621Z"
    },
    "scrolled": false
   },
   "outputs": [],
   "source": [
    "covariance(num_friends, daily_minutes)"
   ]
  },
  {
   "cell_type": "code",
   "execution_count": null,
   "metadata": {
    "ExecuteTime": {
     "end_time": "2018-09-06T14:39:49.842357Z",
     "start_time": "2018-09-06T14:39:49.805737Z"
    }
   },
   "outputs": [],
   "source": [
    "## numpy \n",
    "## [[var_num_frends, cov]\n",
    "## [cov, var_daily_minutes]]\n",
    "\n",
    "np.cov(num_friends, daily_minutes)"
   ]
  },
  {
   "cell_type": "code",
   "execution_count": null,
   "metadata": {
    "ExecuteTime": {
     "end_time": "2018-09-06T15:24:39.803444Z",
     "start_time": "2018-09-06T15:24:39.798188Z"
    }
   },
   "outputs": [],
   "source": [
    "# [2, 4, 6, 8, 10, 12, 14], [13, 11, 9, 7, 5, 3, 1] 두 자료의 공분산을 구해보세요."
   ]
  },
  {
   "cell_type": "code",
   "execution_count": null,
   "metadata": {},
   "outputs": [],
   "source": []
  },
  {
   "cell_type": "markdown",
   "metadata": {},
   "source": [
    "# 5. 상관관계\n",
    "- 공분산에서 방향성만 분리한 값이다."
   ]
  },
  {
   "cell_type": "code",
   "execution_count": null,
   "metadata": {
    "ExecuteTime": {
     "end_time": "2018-09-06T15:16:44.944635Z",
     "start_time": "2018-09-06T15:16:44.938881Z"
    }
   },
   "outputs": [],
   "source": [
    "# 데이터를 표준편차로 나눠준다면 벌어지는 일\n",
    "\n",
    "raw_data = np.array([2, 4, 6, 8])\n",
    "raw_data_std = np.array([2, 4, 6, 8]).std()\n",
    "raw_data_normalized = (raw_data/raw_data_std)"
   ]
  },
  {
   "cell_type": "code",
   "execution_count": null,
   "metadata": {
    "ExecuteTime": {
     "end_time": "2018-09-06T15:17:25.245657Z",
     "start_time": "2018-09-06T15:17:25.236091Z"
    }
   },
   "outputs": [],
   "source": [
    "print('Before : ', raw_data_std)\n",
    "print('After : ', raw_data_normalized.std())"
   ]
  },
  {
   "cell_type": "markdown",
   "metadata": {},
   "source": [
    "- ### $r_{xy} = \\frac {s_{xy}} {\\sqrt{s_x^2 \\bullet s_y^2}} $\n",
    "    - 표준편차로 나눠버리면 -1, 1 사이의 값으로 만들어준다.\n",
    "    - scale이 다른 데이터들의 상관관계를 비교하기가 아주 좋아진다.\n",
    "    \n",
    "- -1 <= $r_{xy}$ <= 1\n",
    "    "
   ]
  },
  {
   "cell_type": "code",
   "execution_count": null,
   "metadata": {
    "ExecuteTime": {
     "end_time": "2018-09-06T15:21:18.052311Z",
     "start_time": "2018-09-06T15:21:18.047291Z"
    }
   },
   "outputs": [],
   "source": [
    "d1 = np.array([2, 4, 6, 8])\n",
    "d2 = np.array([7, 5, 3, 1])"
   ]
  },
  {
   "cell_type": "code",
   "execution_count": null,
   "metadata": {
    "ExecuteTime": {
     "end_time": "2018-09-06T15:21:18.065323Z",
     "start_time": "2018-09-06T15:21:18.056144Z"
    }
   },
   "outputs": [],
   "source": [
    "np.cov(d1, d2)"
   ]
  },
  {
   "cell_type": "code",
   "execution_count": null,
   "metadata": {
    "ExecuteTime": {
     "end_time": "2018-09-06T15:21:18.075764Z",
     "start_time": "2018-09-06T15:21:18.069385Z"
    }
   },
   "outputs": [],
   "source": [
    "d100 = np.array([2, 4, 6, 8])*100\n",
    "d200 = np.array([7, 5, 3, 1])*100"
   ]
  },
  {
   "cell_type": "code",
   "execution_count": null,
   "metadata": {
    "ExecuteTime": {
     "end_time": "2018-09-06T15:21:18.089660Z",
     "start_time": "2018-09-06T15:21:18.080328Z"
    }
   },
   "outputs": [],
   "source": [
    "np.cov(d100, d200)"
   ]
  },
  {
   "cell_type": "markdown",
   "metadata": {},
   "source": [
    "- 상관관계를 이용하면 서로 scale이 다른 두 자료의 방향성을 비교할 수 있다."
   ]
  },
  {
   "cell_type": "code",
   "execution_count": null,
   "metadata": {
    "ExecuteTime": {
     "end_time": "2018-09-06T15:22:23.748751Z",
     "start_time": "2018-09-06T15:22:23.739704Z"
    }
   },
   "outputs": [],
   "source": [
    "np.corrcoef(d1, d2)[0][1], np.corrcoef(d100, d200)[0][1]"
   ]
  },
  {
   "cell_type": "code",
   "execution_count": null,
   "metadata": {},
   "outputs": [],
   "source": [
    "def correlation(x, y):\n",
    "    stdev_x = standard_deviation(x)\n",
    "    stdev_y = standard_deviation(y)\n",
    "    if stdev_x > 0 and stdev_y > 0:\n",
    "        return covariance(x, y) / stdev_x / stdev_y\n",
    "    else:\n",
    "        return 0"
   ]
  },
  {
   "cell_type": "code",
   "execution_count": null,
   "metadata": {
    "scrolled": true
   },
   "outputs": [],
   "source": [
    "correlation(num_friends, daily_minutes)"
   ]
  },
  {
   "cell_type": "code",
   "execution_count": null,
   "metadata": {
    "scrolled": true
   },
   "outputs": [],
   "source": [
    "## numpy \n",
    "\n",
    "import numpy as np\n",
    "np.corrcoef(num_friends,daily_minutes)[0][1]"
   ]
  },
  {
   "cell_type": "code",
   "execution_count": null,
   "metadata": {
    "ExecuteTime": {
     "end_time": "2018-09-06T15:24:46.714329Z",
     "start_time": "2018-09-06T15:24:46.710777Z"
    }
   },
   "outputs": [],
   "source": [
    "# [2, 4, 6, 8, 10, 12, 14], [13, 11, 9, 7, 5, 3, 1] 두 자료의 상관관계를 구해보세요."
   ]
  },
  {
   "cell_type": "markdown",
   "metadata": {},
   "source": [
    "### 상관관계 해석시 주의 사항\n",
    "> - 상관관계가 0이라는 것은 두 변수 사이에 선형적인 관계가 없다는 것만을 의미한다.\n",
    "- 상관관계가 인과관계를 말하지 않는다.\n",
    "    - 인과관계를 밝혀 내는 일은 많은 노력과 시간이 소요되는 일이므로, 상관관계를 통해 빠르게 확인하고 의사결정을 하는 편이 더 낫다."
   ]
  },
  {
   "cell_type": "markdown",
   "metadata": {},
   "source": [
    "# 판다스를 활용한 상관 분석"
   ]
  },
  {
   "cell_type": "code",
   "execution_count": null,
   "metadata": {},
   "outputs": [],
   "source": [
    "import pandas as pd\n",
    "from sklearn.datasets import load_boston\n",
    "\n",
    "boston = load_boston()"
   ]
  },
  {
   "cell_type": "code",
   "execution_count": null,
   "metadata": {},
   "outputs": [],
   "source": [
    "print(boston['DESCR'])"
   ]
  },
  {
   "cell_type": "code",
   "execution_count": null,
   "metadata": {},
   "outputs": [],
   "source": [
    "df = pd.DataFrame(boston.data, columns=boston.feature_names)\n",
    "df.loc[:, 'House_Price'] = boston.target"
   ]
  },
  {
   "cell_type": "code",
   "execution_count": null,
   "metadata": {
    "scrolled": false
   },
   "outputs": [],
   "source": [
    "## pandas를 활용해 빠르게 상관 분석을 할 수 있다.\n",
    "\n",
    "df.corr()"
   ]
  },
  {
   "cell_type": "code",
   "execution_count": null,
   "metadata": {},
   "outputs": [],
   "source": []
  },
  {
   "cell_type": "code",
   "execution_count": null,
   "metadata": {},
   "outputs": [],
   "source": []
  },
  {
   "cell_type": "code",
   "execution_count": null,
   "metadata": {},
   "outputs": [],
   "source": []
  },
  {
   "cell_type": "code",
   "execution_count": null,
   "metadata": {},
   "outputs": [],
   "source": []
  },
  {
   "cell_type": "code",
   "execution_count": null,
   "metadata": {},
   "outputs": [],
   "source": []
  },
  {
   "cell_type": "code",
   "execution_count": null,
   "metadata": {},
   "outputs": [],
   "source": []
  }
 ],
 "metadata": {
  "anaconda-cloud": {},
  "hide_input": false,
  "kernelspec": {
   "display_name": "Python [default]",
   "language": "python",
   "name": "python3"
  },
  "language_info": {
   "codemirror_mode": {
    "name": "ipython",
    "version": 3
   },
   "file_extension": ".py",
   "mimetype": "text/x-python",
   "name": "python",
   "nbconvert_exporter": "python",
   "pygments_lexer": "ipython3",
   "version": "3.5.4"
  }
 },
 "nbformat": 4,
 "nbformat_minor": 1
}
