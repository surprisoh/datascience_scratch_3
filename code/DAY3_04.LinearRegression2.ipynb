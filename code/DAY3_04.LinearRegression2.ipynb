{
 "cells": [
  {
   "cell_type": "code",
   "execution_count": null,
   "metadata": {
    "ExecuteTime": {
     "end_time": "2018-09-08T04:29:15.619965Z",
     "start_time": "2018-09-08T04:29:12.386788Z"
    }
   },
   "outputs": [],
   "source": [
    "import warnings\n",
    "warnings.filterwarnings('ignore')\n",
    "import numpy as np\n",
    "import pandas as pd\n",
    "import seaborn as sns\n",
    "import matplotlib.pyplot as plt\n",
    "from matplotlib import style\n",
    "style.use('ggplot')\n",
    "%matplotlib inline"
   ]
  },
  {
   "cell_type": "code",
   "execution_count": null,
   "metadata": {
    "ExecuteTime": {
     "end_time": "2018-09-08T04:29:15.675690Z",
     "start_time": "2018-09-08T04:29:15.627848Z"
    }
   },
   "outputs": [],
   "source": [
    "# [1(beta_0), 친구수, 근무시간, 박사학위 취득 여부]\n",
    "X = [[1,49,4,0],[1,41,9,0],[1,40,8,0],[1,25,6,0],[1,21,1,0],[1,21,0,0],[1,19,3,0],[1,19,0,0],[1,18,9,0],[1,18,8,0],[1,16,4,0],[1,15,3,0],[1,15,0,0],[1,15,2,0],[1,15,7,0],[1,14,0,0],[1,14,1,0],[1,13,1,0],[1,13,7,0],[1,13,4,0],[1,13,2,0],[1,12,5,0],[1,12,0,0],[1,11,9,0],[1,10,9,0],[1,10,1,0],[1,10,1,0],[1,10,7,0],[1,10,9,0],[1,10,1,0],[1,10,6,0],[1,10,6,0],[1,10,8,0],[1,10,10,0],[1,10,6,0],[1,10,0,0],[1,10,5,0],[1,10,3,0],[1,10,4,0],[1,9,9,0],[1,9,9,0],[1,9,0,0],[1,9,0,0],[1,9,6,0],[1,9,10,0],[1,9,8,0],[1,9,5,0],[1,9,2,0],[1,9,9,0],[1,9,10,0],[1,9,7,0],[1,9,2,0],[1,9,0,0],[1,9,4,0],[1,9,6,0],[1,9,4,0],[1,9,7,0],[1,8,3,0],[1,8,2,0],[1,8,4,0],[1,8,9,0],[1,8,2,0],[1,8,3,0],[1,8,5,0],[1,8,8,0],[1,8,0,0],[1,8,9,0],[1,8,10,0],[1,8,5,0],[1,8,5,0],[1,7,5,0],[1,7,5,0],[1,7,0,0],[1,7,2,0],[1,7,8,0],[1,7,10,0],[1,7,5,0],[1,7,3,0],[1,7,3,0],[1,7,6,0],[1,7,7,0],[1,7,7,0],[1,7,9,0],[1,7,3,0],[1,7,8,0],[1,6,4,0],[1,6,6,0],[1,6,4,0],[1,6,9,0],[1,6,0,0],[1,6,1,0],[1,6,4,0],[1,6,1,0],[1,6,0,0],[1,6,7,0],[1,6,0,0],[1,6,8,0],[1,6,4,0],[1,6,2,1],[1,6,1,1],[1,6,3,1],[1,6,6,1],[1,6,4,1],[1,6,4,1],[1,6,1,1],[1,6,3,1],[1,6,4,1],[1,5,1,1],[1,5,9,1],[1,5,4,1],[1,5,6,1],[1,5,4,1],[1,5,4,1],[1,5,10,1],[1,5,5,1],[1,5,2,1],[1,5,4,1],[1,5,4,1],[1,5,9,1],[1,5,3,1],[1,5,10,1],[1,5,2,1],[1,5,2,1],[1,5,9,1],[1,4,8,1],[1,4,6,1],[1,4,0,1],[1,4,10,1],[1,4,5,1],[1,4,10,1],[1,4,9,1],[1,4,1,1],[1,4,4,1],[1,4,4,1],[1,4,0,1],[1,4,3,1],[1,4,1,1],[1,4,3,1],[1,4,2,1],[1,4,4,1],[1,4,4,1],[1,4,8,1],[1,4,2,1],[1,4,4,1],[1,3,2,1],[1,3,6,1],[1,3,4,1],[1,3,7,1],[1,3,4,1],[1,3,1,1],[1,3,10,1],[1,3,3,1],[1,3,4,1],[1,3,7,1],[1,3,5,1],[1,3,6,1],[1,3,1,1],[1,3,6,1],[1,3,10,1],[1,3,2,1],[1,3,4,1],[1,3,2,1],[1,3,1,1],[1,3,5,1],[1,2,4,1],[1,2,2,1],[1,2,8,1],[1,2,3,1],[1,2,1,1],[1,2,9,1],[1,2,10,1],[1,2,9,1],[1,2,4,1],[1,2,5,1],[1,2,0,1],[1,2,9,1],[1,2,9,1],[1,2,0,1],[1,2,1,1],[1,2,1,1],[1,2,4,1],[1,1,0,1],[1,1,2,1],[1,1,2,1],[1,1,5,1],[1,1,3,1],[1,1,10,1],[1,1,6,1],[1,1,0,1],[1,1,8,1],[1,1,6,1],[1,1,4,1],[1,1,9,1],[1,1,9,1],[1,1,4,1],[1,1,2,1],[1,1,9,1],[1,1,0,1],[1,1,8,1],[1,1,6,1],[1,1,1,1],[1,1,1,1],[1,1,5,1]]\n",
    "\n",
    "# 사이트에서 보내는 시간(분)\n",
    "Y = [68.77,51.25,52.08,38.36,44.54,57.13,51.4,41.42,31.22,34.76,54.01,38.79,47.59,49.1,27.66,41.03,36.73,48.65,28.12,46.62,35.57,32.98,35,26.07,23.77,39.73,40.57,31.65,31.21,36.32,20.45,21.93,26.02,27.34,23.49,46.94,30.5,33.8,24.23,21.4,27.94,32.24,40.57,25.07,19.42,22.39,18.42,46.96,23.72,26.41,26.97,36.76,40.32,35.02,29.47,30.2,31,38.11,38.18,36.31,21.03,30.86,36.07,28.66,29.08,37.28,15.28,24.17,22.31,30.17,25.53,19.85,35.37,44.6,17.23,13.47,26.33,35.02,32.09,24.81,19.33,28.77,24.26,31.98,25.73,24.86,16.28,34.51,15.23,39.72,40.8,26.06,35.76,34.76,16.13,44.04,18.03,19.65,32.62,35.59,39.43,14.18,35.24,40.13,41.82,35.45,36.07,43.67,24.61,20.9,21.9,18.79,27.61,27.21,26.61,29.77,20.59,27.53,13.82,33.2,25,33.1,36.65,18.63,14.87,22.2,36.81,25.53,24.62,26.25,18.21,28.08,19.42,29.79,32.8,35.99,28.32,27.79,35.88,29.06,36.28,14.1,36.63,37.49,26.9,18.58,38.48,24.48,18.95,33.55,14.24,29.04,32.51,25.63,22.22,19,32.73,15.16,13.9,27.2,32.01,29.27,33,13.74,20.42,27.32,18.23,35.35,28.48,9.08,24.62,20.12,35.26,19.92,31.02,16.49,12.16,30.7,31.22,34.65,13.13,27.51,33.2,31.57,14.1,33.42,17.44,10.12,24.42,9.82,23.39,30.93,15.03,21.67,31.09,33.29,22.61,26.89,23.48,8.38,27.81,32.35,23.84]"
   ]
  },
  {
   "cell_type": "code",
   "execution_count": null,
   "metadata": {
    "ExecuteTime": {
     "end_time": "2018-09-08T04:29:15.686244Z",
     "start_time": "2018-09-08T04:29:15.680026Z"
    }
   },
   "outputs": [],
   "source": [
    "X = np.array(X)\n",
    "Y = np.array(Y)"
   ]
  },
  {
   "cell_type": "markdown",
   "metadata": {},
   "source": [
    "# 선형회귀"
   ]
  },
  {
   "cell_type": "markdown",
   "metadata": {},
   "source": [
    "## 1. OLS\n",
    "- 예제 데이터 활용 \n",
    "    - X : [1, 친구수, 근무시간, 박사학위 취득여부]\n",
    "    - Y : 웹사이트에서 보내는 시간 \n",
    "- ### $ Y = Xw $\n",
    "- ### $w^ *=(X^TX)^ { -1} X^ Ty$"
   ]
  },
  {
   "cell_type": "markdown",
   "metadata": {},
   "source": [
    "### (1) numpy를 이용한 선형회귀 분석"
   ]
  },
  {
   "cell_type": "code",
   "execution_count": null,
   "metadata": {
    "ExecuteTime": {
     "end_time": "2018-09-08T04:29:15.706790Z",
     "start_time": "2018-09-08T04:29:15.690493Z"
    },
    "scrolled": true
   },
   "outputs": [],
   "source": [
    "# 최적 가중치 벡터를 구한다.\n",
    "\n",
    "w = np.dot(np.dot(np.linalg.inv(np.dot(X.T, X)), X.T), Y)\n",
    "w"
   ]
  },
  {
   "cell_type": "code",
   "execution_count": null,
   "metadata": {
    "ExecuteTime": {
     "end_time": "2018-09-08T04:29:15.715696Z",
     "start_time": "2018-09-08T04:29:15.710784Z"
    }
   },
   "outputs": [],
   "source": [
    "# 예측값 연산\n",
    "\n",
    "y_predicted = np.dot(X, w)"
   ]
  },
  {
   "cell_type": "code",
   "execution_count": null,
   "metadata": {
    "ExecuteTime": {
     "end_time": "2018-09-08T04:29:16.243670Z",
     "start_time": "2018-09-08T04:29:15.718821Z"
    }
   },
   "outputs": [],
   "source": [
    "## 시각화\n",
    "plt.figure(figsize = (10, 5))\n",
    "plt.scatter(X[:, 1], Y, label = 'real', alpha = 0.8)\n",
    "plt.scatter(X[:, 1], y_predicted, label = 'predicted', alpha = 0.8) ## \n",
    "plt.legend()"
   ]
  },
  {
   "cell_type": "markdown",
   "metadata": {},
   "source": [
    "### (2) sklearn"
   ]
  },
  {
   "cell_type": "code",
   "execution_count": null,
   "metadata": {
    "ExecuteTime": {
     "end_time": "2018-09-08T04:29:16.440123Z",
     "start_time": "2018-09-08T04:29:16.256161Z"
    }
   },
   "outputs": [],
   "source": [
    "from sklearn.linear_model import LinearRegression"
   ]
  },
  {
   "cell_type": "code",
   "execution_count": null,
   "metadata": {
    "ExecuteTime": {
     "end_time": "2018-09-08T04:29:16.567701Z",
     "start_time": "2018-09-08T04:29:16.443284Z"
    }
   },
   "outputs": [],
   "source": [
    "sk_model = LinearRegression().fit(X, Y)"
   ]
  },
  {
   "cell_type": "code",
   "execution_count": null,
   "metadata": {
    "ExecuteTime": {
     "end_time": "2018-09-08T04:29:16.582275Z",
     "start_time": "2018-09-08T04:29:16.572856Z"
    }
   },
   "outputs": [],
   "source": [
    "## 가중치 벡터 (w2 ~ w4)\n",
    "sk_model.coef_"
   ]
  },
  {
   "cell_type": "code",
   "execution_count": null,
   "metadata": {
    "ExecuteTime": {
     "end_time": "2018-09-08T04:29:16.594058Z",
     "start_time": "2018-09-08T04:29:16.586516Z"
    }
   },
   "outputs": [],
   "source": [
    "## 상수항 (w1)\n",
    "sk_model.intercept_"
   ]
  },
  {
   "cell_type": "code",
   "execution_count": null,
   "metadata": {
    "ExecuteTime": {
     "end_time": "2018-09-08T04:29:16.605970Z",
     "start_time": "2018-09-08T04:29:16.598012Z"
    }
   },
   "outputs": [],
   "source": [
    "print('결정계수 : ', sk_model.score(X, Y))"
   ]
  },
  {
   "cell_type": "markdown",
   "metadata": {},
   "source": [
    "## (3) statsmodels\n",
    "- 통계 및 회귀 분석이나 시계열 분석을 위한 라이브러리"
   ]
  },
  {
   "cell_type": "code",
   "execution_count": null,
   "metadata": {
    "ExecuteTime": {
     "end_time": "2018-09-08T04:29:16.996520Z",
     "start_time": "2018-09-08T04:29:16.616419Z"
    }
   },
   "outputs": [],
   "source": [
    "import statsmodels.api as sm"
   ]
  },
  {
   "cell_type": "code",
   "execution_count": null,
   "metadata": {
    "ExecuteTime": {
     "end_time": "2018-09-08T04:29:17.014332Z",
     "start_time": "2018-09-08T04:29:17.000431Z"
    }
   },
   "outputs": [],
   "source": [
    "st_model = sm.OLS(Y, X).fit() ## y먼저 입력한다."
   ]
  },
  {
   "cell_type": "code",
   "execution_count": null,
   "metadata": {
    "ExecuteTime": {
     "end_time": "2018-09-08T04:29:17.049972Z",
     "start_time": "2018-09-08T04:29:17.018933Z"
    },
    "scrolled": false
   },
   "outputs": [],
   "source": [
    "st_model.summary()"
   ]
  },
  {
   "cell_type": "markdown",
   "metadata": {},
   "source": [
    "-----"
   ]
  },
  {
   "cell_type": "code",
   "execution_count": null,
   "metadata": {
    "ExecuteTime": {
     "end_time": "2018-09-08T04:29:17.059452Z",
     "start_time": "2018-09-08T04:29:17.053396Z"
    }
   },
   "outputs": [],
   "source": [
    "# 결정계수  : 1 - RSS/TSS\n",
    "# RSS : ( 실제값 - 예측값)\n",
    "# TSS : ( 실제값 - 평균 )\n",
    "\n",
    "def RSS(w):\n",
    "    residual = Y - np.dot(X, w)\n",
    "    rss = np.dot(residual, residual)\n",
    "    return rss\n",
    "\n",
    "def TSS(y):\n",
    "    diff =  y - y.mean()\n",
    "    tss = np.dot(diff, diff)\n",
    "    return tss\n",
    "\n",
    "def r_squared(y, x, w):\n",
    "    return 1 - RSS(w)/TSS(y)"
   ]
  },
  {
   "cell_type": "code",
   "execution_count": null,
   "metadata": {
    "ExecuteTime": {
     "end_time": "2018-09-08T04:29:17.069249Z",
     "start_time": "2018-09-08T04:29:17.062778Z"
    }
   },
   "outputs": [],
   "source": [
    "print( '결정계수 : ', r_squared(Y, X, w))"
   ]
  },
  {
   "cell_type": "code",
   "execution_count": null,
   "metadata": {},
   "outputs": [],
   "source": []
  },
  {
   "cell_type": "code",
   "execution_count": null,
   "metadata": {},
   "outputs": [],
   "source": []
  },
  {
   "cell_type": "markdown",
   "metadata": {},
   "source": [
    "## 2. 수치적 최적화\n",
    "- scipy를 활용한 수치적 최적화\n",
    "- RSS\n",
    "- optimization"
   ]
  },
  {
   "cell_type": "code",
   "execution_count": null,
   "metadata": {
    "ExecuteTime": {
     "end_time": "2018-09-08T04:29:17.081896Z",
     "start_time": "2018-09-08T04:29:17.076308Z"
    }
   },
   "outputs": [],
   "source": [
    "from scipy import optimize"
   ]
  },
  {
   "cell_type": "code",
   "execution_count": null,
   "metadata": {
    "ExecuteTime": {
     "end_time": "2018-09-08T04:29:17.094430Z",
     "start_time": "2018-09-08T04:29:17.087432Z"
    }
   },
   "outputs": [],
   "source": [
    "## 초기값 설정\n",
    "\n",
    "import random\n",
    "random.seed(10)\n",
    "w0 = np.array([random.random() for i in range(4)])"
   ]
  },
  {
   "cell_type": "code",
   "execution_count": null,
   "metadata": {
    "ExecuteTime": {
     "end_time": "2018-09-08T04:29:17.126707Z",
     "start_time": "2018-09-08T04:29:17.097629Z"
    },
    "scrolled": true
   },
   "outputs": [],
   "source": [
    "# 목적함수 : RSS\n",
    "optimization = optimize.minimize(RSS, w0, \n",
    "                                method='nelder-mead',    ## gradient를 알 수 없을 때 사용할 수 있는 방법\n",
    "                                options={'xtol': 1e-8,   ## step size\n",
    "                                    'disp': True})"
   ]
  },
  {
   "cell_type": "code",
   "execution_count": null,
   "metadata": {
    "ExecuteTime": {
     "end_time": "2018-09-08T04:29:17.138234Z",
     "start_time": "2018-09-08T04:29:17.130708Z"
    }
   },
   "outputs": [],
   "source": [
    "optimization.x"
   ]
  },
  {
   "cell_type": "code",
   "execution_count": null,
   "metadata": {
    "ExecuteTime": {
     "end_time": "2018-09-08T04:29:17.148172Z",
     "start_time": "2018-09-08T04:29:17.141449Z"
    }
   },
   "outputs": [],
   "source": [
    "## OLS로 구한 w와 거의 같다\n",
    "w"
   ]
  },
  {
   "cell_type": "markdown",
   "metadata": {},
   "source": [
    "-----"
   ]
  },
  {
   "cell_type": "markdown",
   "metadata": {},
   "source": [
    "## 3. 모델 해석하기\n",
    "- x : [1(beta_0), 친구수, 근무시간, 박사학위 취득 여부]\n",
    "- y : 사이트에서 보내는 시간\n",
    "> ### y = 30.57 + 0.97 \\* 친구수 + (-1.86) \\* 근무시간 + 0.92 \\* 박사 취득여부"
   ]
  },
  {
   "cell_type": "markdown",
   "metadata": {},
   "source": [
    "-----"
   ]
  },
  {
   "cell_type": "markdown",
   "metadata": {},
   "source": [
    "## 4. 부트스트래핑(Bootstrapping)\n",
    "- 중복 허용 데이터 추출\n",
    "- 연산된 계수 값 저장\n",
    "- 통계치 확인"
   ]
  },
  {
   "cell_type": "code",
   "execution_count": null,
   "metadata": {
    "ExecuteTime": {
     "end_time": "2018-09-08T04:29:17.158083Z",
     "start_time": "2018-09-08T04:29:17.151793Z"
    }
   },
   "outputs": [],
   "source": [
    "def bootstrap_sample(x, y):\n",
    "    import random\n",
    "    \"\"\"중복허용 데이터 추출\"\"\"\n",
    "    idx = np.random.choice(len(x), len(x), replace=True) # 0 ~ len(x)까지의 숫자 중 len(x) 개수 만큼 중복 재추출한다.\n",
    "    x_sample = x[idx] # 중복 재추출된 숫자를 인덱스로 정의하고 슬라이싱함\n",
    "    y_sample = y[idx]    \n",
    "    \n",
    "    return x_sample, y_sample"
   ]
  },
  {
   "cell_type": "code",
   "execution_count": null,
   "metadata": {
    "ExecuteTime": {
     "end_time": "2018-09-08T04:29:17.167384Z",
     "start_time": "2018-09-08T04:29:17.160979Z"
    }
   },
   "outputs": [],
   "source": [
    "def estimate_w(x, y):\n",
    "    \"\"\"각 데이터에 대해 w 계산\"\"\"\n",
    "    w = np.dot(np.dot(np.linalg.inv(np.dot(x.T, x)), x.T), y)\n",
    "    return w"
   ]
  },
  {
   "cell_type": "code",
   "execution_count": null,
   "metadata": {
    "ExecuteTime": {
     "end_time": "2018-09-08T04:29:17.183137Z",
     "start_time": "2018-09-08T04:29:17.171699Z"
    }
   },
   "outputs": [],
   "source": [
    "def bootstrapping(N, x, y):\n",
    "    \"\"\"부트스트래핑\"\"\"\n",
    "    params = []\n",
    "    for _ in range(N):\n",
    "        x_sample, y_sample = bootstrap_sample(x, y)\n",
    "        w = estimate_w(x_sample, y_sample)\n",
    "        params.append(w)\n",
    "    return np.array(params)"
   ]
  },
  {
   "cell_type": "code",
   "execution_count": null,
   "metadata": {
    "ExecuteTime": {
     "end_time": "2018-09-08T04:29:17.268439Z",
     "start_time": "2018-09-08T04:29:17.186903Z"
    }
   },
   "outputs": [],
   "source": [
    "bootstrap_statics = bootstrapping(1000, X, Y)"
   ]
  },
  {
   "cell_type": "code",
   "execution_count": null,
   "metadata": {
    "ExecuteTime": {
     "end_time": "2018-09-08T04:29:18.803053Z",
     "start_time": "2018-09-08T04:29:17.271004Z"
    }
   },
   "outputs": [],
   "source": [
    "## 시각화\n",
    "plt.figure(figsize=(15, 8))\n",
    "for i in range(len(bootstrap_statics[0])):\n",
    "    ax = plt.subplot(221 + i)\n",
    "    plt.title('w %s' % (i+1))\n",
    "    sns.distplot(bootstrap_statics[:, i])\n",
    "    plt.axvline(bootstrap_statics[:, i].mean(), c = 'green', label = 'mean')\n",
    "    plt.legend()"
   ]
  },
  {
   "cell_type": "code",
   "execution_count": null,
   "metadata": {
    "ExecuteTime": {
     "end_time": "2018-09-08T04:29:18.836857Z",
     "start_time": "2018-09-08T04:29:18.821020Z"
    }
   },
   "outputs": [],
   "source": [
    "print('평균 :' ,bootstrap_statics.mean(axis=0))\n",
    "print('표준오차 :',bootstrap_statics.std(axis=0)) # 표준 오차 = 표본평균의 표준편차"
   ]
  },
  {
   "cell_type": "markdown",
   "metadata": {},
   "source": [
    "> ## 그렇다면 각 가중치들이 안정적인 값들인지는 어떻게 확인할 수 있을까?\n",
    "- 각 변수들에 대한 가설검정을 통해 확인할 수 있다.\n",
    "    - 귀무가설($H_0$) : $w_i = 0$\n",
    "    - 귀무가설을 기각할 수 없다면 w_i는 회귀모델에 영향을 미치지 못하는 가중치가 된다.\n",
    "\n",
    "- ## 가설 검정을 실시하기위한 준비\n",
    "    - bootstrapping으로 만들어진 w의 분포에 대한 가정\n",
    "        - ***w의 분포는 n-k (변수의 개수)의 자유도를 가진 t 분포를 따른다.***\n",
    "    - 자유도가 n-k 인 t 분포에서 부트스트래핑으로 구한 가중치의 t검정통계량이 어디에 위치해있는지 살펴본다."
   ]
  },
  {
   "cell_type": "code",
   "execution_count": null,
   "metadata": {
    "ExecuteTime": {
     "end_time": "2018-09-08T04:30:35.940524Z",
     "start_time": "2018-09-08T04:30:35.936721Z"
    }
   },
   "outputs": [],
   "source": [
    "from scipy import stats"
   ]
  },
  {
   "cell_type": "code",
   "execution_count": null,
   "metadata": {
    "ExecuteTime": {
     "end_time": "2018-09-08T04:30:36.581240Z",
     "start_time": "2018-09-08T04:30:36.576581Z"
    }
   },
   "outputs": [],
   "source": [
    "def t_p_value(w_hat_i, sigma_i):\n",
    "    rv = stats.t(199) # 199 = 203(n) - 4(k)\n",
    "    if w_hat_i > 0:\n",
    "        return 2*(1-rv.cdf(w_hat_i/sigma_i))\n",
    "    else:\n",
    "        return 2*(rv.cdf(w_hat_i/sigma_i))"
   ]
  },
  {
   "cell_type": "code",
   "execution_count": null,
   "metadata": {
    "ExecuteTime": {
     "end_time": "2018-09-08T04:30:37.130029Z",
     "start_time": "2018-09-08T04:30:37.116019Z"
    }
   },
   "outputs": [],
   "source": [
    "for i in range(4):\n",
    "    w_mean = bootstrap_statics[:, i].mean()\n",
    "    w_std = bootstrap_statics[:, i].std()\n",
    "    print('w_{0}의 p-value : '.format(i+1), round(t_p_value(w_mean, w_std), 4))"
   ]
  },
  {
   "cell_type": "code",
   "execution_count": null,
   "metadata": {
    "ExecuteTime": {
     "end_time": "2018-09-08T04:30:39.503360Z",
     "start_time": "2018-09-08T04:30:39.498087Z"
    }
   },
   "outputs": [],
   "source": [
    "## 4번째 변수는 p - value가 0.05이상이므로 w_i = 0이라는 사실을 기각할 수 없다."
   ]
  },
  {
   "cell_type": "code",
   "execution_count": null,
   "metadata": {
    "ExecuteTime": {
     "end_time": "2018-09-08T04:30:40.049688Z",
     "start_time": "2018-09-08T04:30:40.042153Z"
    }
   },
   "outputs": [],
   "source": [
    "w"
   ]
  },
  {
   "cell_type": "markdown",
   "metadata": {},
   "source": [
    "## statsmodel 결과와 비교"
   ]
  },
  {
   "cell_type": "code",
   "execution_count": null,
   "metadata": {
    "ExecuteTime": {
     "end_time": "2018-09-08T04:30:43.366659Z",
     "start_time": "2018-09-08T04:30:43.362112Z"
    }
   },
   "outputs": [],
   "source": [
    "import statsmodels.api as sm"
   ]
  },
  {
   "cell_type": "code",
   "execution_count": null,
   "metadata": {
    "ExecuteTime": {
     "end_time": "2018-09-08T04:30:43.777812Z",
     "start_time": "2018-09-08T04:30:43.772208Z"
    }
   },
   "outputs": [],
   "source": [
    "st_model = sm.OLS(Y, X).fit() ## y먼저 입력한다."
   ]
  },
  {
   "cell_type": "code",
   "execution_count": null,
   "metadata": {
    "ExecuteTime": {
     "end_time": "2018-09-08T04:30:44.430658Z",
     "start_time": "2018-09-08T04:30:44.405651Z"
    },
    "scrolled": false
   },
   "outputs": [],
   "source": [
    "st_model.summary()"
   ]
  },
  {
   "cell_type": "code",
   "execution_count": null,
   "metadata": {},
   "outputs": [],
   "source": []
  },
  {
   "cell_type": "markdown",
   "metadata": {},
   "source": [
    "-----"
   ]
  },
  {
   "cell_type": "markdown",
   "metadata": {},
   "source": [
    "## 5. Regularization"
   ]
  },
  {
   "cell_type": "markdown",
   "metadata": {},
   "source": [
    "> ## Ridge\n",
    "- ## $\\hat { w } ^{ ridge* }=(X^{ T }X+\\lambda { I })^{ { -1 } }X^{ T }Y$"
   ]
  },
  {
   "cell_type": "code",
   "execution_count": null,
   "metadata": {
    "ExecuteTime": {
     "end_time": "2018-09-08T04:31:08.868395Z",
     "start_time": "2018-09-08T04:31:08.846077Z"
    }
   },
   "outputs": [],
   "source": [
    "ridge_w_list = []\n",
    "for i in range(1, 20):\n",
    "    alpha = i ## alpha = 람다\n",
    "    lm = alpha*np.identity(X.shape[1])\n",
    "    lm[0] = lm[0] * 0  ## 상수항에는 제약을 가하지 않기 때문에 0으로 만든다.\n",
    "    \n",
    "    c = np.dot(X.T, X) + lm\n",
    "    ridge_w = np.dot(np.linalg.inv(c), np.dot(X.T, Y))\n",
    "    ridge_w_list.append(ridge_w)\n",
    "    print('lambda :', i, ', 최적 가중치 : ', ridge_w, '결정계수 :', r_squared(Y, X, ridge_w))"
   ]
  },
  {
   "cell_type": "markdown",
   "metadata": {},
   "source": [
    "> ## sklearn\n",
    "- ridge, lasso 계수 비교"
   ]
  },
  {
   "cell_type": "code",
   "execution_count": null,
   "metadata": {
    "ExecuteTime": {
     "end_time": "2018-09-08T04:31:14.823365Z",
     "start_time": "2018-09-08T04:31:14.819528Z"
    }
   },
   "outputs": [],
   "source": [
    "from sklearn.linear_model import Ridge, Lasso"
   ]
  },
  {
   "cell_type": "code",
   "execution_count": null,
   "metadata": {
    "ExecuteTime": {
     "end_time": "2018-09-08T04:31:15.327882Z",
     "start_time": "2018-09-08T04:31:15.269869Z"
    }
   },
   "outputs": [],
   "source": [
    "data = []\n",
    "for a in range(20):\n",
    "    ridge = Ridge(alpha=a).fit(X, Y)\n",
    "    data.append(pd.Series(np.hstack([ridge.intercept_, ridge.coef_[1:], ridge.score(X, Y)])))\n",
    "    \n",
    "df_ridge = pd.DataFrame(data, index=range(20))\n",
    "df_ridge.columns = ['w0', 'w1', 'w2', 'w3', 'r_squared']"
   ]
  },
  {
   "cell_type": "code",
   "execution_count": null,
   "metadata": {
    "ExecuteTime": {
     "end_time": "2018-09-08T04:31:16.686955Z",
     "start_time": "2018-09-08T04:31:16.653385Z"
    }
   },
   "outputs": [],
   "source": [
    "data = []\n",
    "for a in range(20):\n",
    "    lasso = Lasso(alpha=a).fit(X, Y)\n",
    "    data.append(pd.Series(np.hstack([lasso.intercept_, lasso.coef_[1:], lasso.score(X, Y)])))\n",
    "    \n",
    "df_lasso = pd.DataFrame(data, index=range(20))\n",
    "df_lasso.columns = ['w0', 'w1', 'w2', 'w3', 'r_squared']"
   ]
  },
  {
   "cell_type": "code",
   "execution_count": null,
   "metadata": {
    "ExecuteTime": {
     "end_time": "2018-09-08T04:31:17.059387Z",
     "start_time": "2018-09-08T04:31:17.021123Z"
    }
   },
   "outputs": [],
   "source": [
    "pd.concat([df_ridge, df_lasso], axis=1)"
   ]
  },
  {
   "cell_type": "markdown",
   "metadata": {},
   "source": [
    "> ## lasso는 중요하지 않는 회귀계수들을 감소시킴으로써, 변수를 선택하는 효과를 낸다.\n",
    "> ### 이런 효과 때문에 lasso도 마치 차원을 축소하는 효과를 낸다."
   ]
  },
  {
   "cell_type": "code",
   "execution_count": null,
   "metadata": {},
   "outputs": [],
   "source": []
  },
  {
   "cell_type": "code",
   "execution_count": null,
   "metadata": {},
   "outputs": [],
   "source": []
  },
  {
   "cell_type": "code",
   "execution_count": null,
   "metadata": {},
   "outputs": [],
   "source": []
  },
  {
   "cell_type": "code",
   "execution_count": null,
   "metadata": {},
   "outputs": [],
   "source": []
  }
 ],
 "metadata": {
  "anaconda-cloud": {},
  "hide_input": false,
  "kernelspec": {
   "display_name": "Python [conda root]",
   "language": "python",
   "name": "conda-root-py"
  },
  "language_info": {
   "codemirror_mode": {
    "name": "ipython",
    "version": 3
   },
   "file_extension": ".py",
   "mimetype": "text/x-python",
   "name": "python",
   "nbconvert_exporter": "python",
   "pygments_lexer": "ipython3",
   "version": "3.5.4"
  }
 },
 "nbformat": 4,
 "nbformat_minor": 2
}
