{
 "cells": [
  {
   "cell_type": "code",
   "execution_count": null,
   "metadata": {
    "ExecuteTime": {
     "end_time": "2018-09-25T04:20:06.149542Z",
     "start_time": "2018-09-25T04:20:03.951891Z"
    }
   },
   "outputs": [],
   "source": [
    "import numpy as np\n",
    "import pandas as pd\n",
    "import seaborn as sns\n",
    "import matplotlib.pyplot as plt\n",
    "from matplotlib import style\n",
    "from collections import Counter, defaultdict\n",
    "from functools import partial\n",
    "import math, random\n",
    "style.use('ggplot')\n",
    "import warnings\n",
    "warnings.filterwarnings('ignore')\n",
    "%matplotlib inline"
   ]
  },
  {
   "cell_type": "code",
   "execution_count": null,
   "metadata": {
    "ExecuteTime": {
     "end_time": "2018-09-25T04:20:06.160440Z",
     "start_time": "2018-09-25T04:20:06.152499Z"
    }
   },
   "outputs": [],
   "source": [
    "from IPython.core.display import display, HTML\n",
    "display(HTML(\"<style>.container { width:90% !important; }</style>\"))"
   ]
  },
  {
   "cell_type": "code",
   "execution_count": null,
   "metadata": {},
   "outputs": [],
   "source": [
    "# dataset\n",
    "data = [\n",
    "        ({'level':'Senior','lang':'Java','tweets':'no','phd':'no'},   False),\n",
    "        ({'level':'Senior','lang':'Java','tweets':'no','phd':'yes'},  False),\n",
    "        ({'level':'Mid','lang':'Python','tweets':'no','phd':'no'},     True),\n",
    "        ({'level':'Junior','lang':'Python','tweets':'no','phd':'no'},  True),\n",
    "        ({'level':'Junior','lang':'R','tweets':'yes','phd':'no'},      True),\n",
    "        ({'level':'Junior','lang':'R','tweets':'yes','phd':'yes'},    False),\n",
    "        ({'level':'Mid','lang':'R','tweets':'yes','phd':'yes'},        True),\n",
    "        ({'level':'Senior','lang':'Python','tweets':'no','phd':'no'}, False),\n",
    "        ({'level':'Senior','lang':'R','tweets':'yes','phd':'no'},      True),\n",
    "        ({'level':'Junior','lang':'Python','tweets':'yes','phd':'no'}, True),\n",
    "        ({'level':'Senior','lang':'Python','tweets':'yes','phd':'yes'},True),\n",
    "        ({'level':'Mid','lang':'Python','tweets':'no','phd':'yes'},    True),\n",
    "        ({'level':'Mid','lang':'Java','tweets':'yes','phd':'no'},      True),\n",
    "        ({'level':'Junior','lang':'Python','tweets':'no','phd':'yes'},False)\n",
    "    ]"
   ]
  },
  {
   "cell_type": "markdown",
   "metadata": {},
   "source": [
    "# 의사결정나무\n",
    "- 엔트로피 계산\n",
    "- 파티션의 엔트로피 계산\n",
    "- 재귀적 분할"
   ]
  },
  {
   "cell_type": "markdown",
   "metadata": {},
   "source": [
    "## 1. 엔트로피 계산"
   ]
  },
  {
   "cell_type": "code",
   "execution_count": null,
   "metadata": {},
   "outputs": [],
   "source": [
    "def class_probabilities(labels):\n",
    "    \"\"\"라벨 수를 계산하고 각 클래스의 확률 계산\"\"\"\n",
    "    total_count = len(labels)\n",
    "    return [count / total_count\n",
    "            for count in Counter(labels).values()]"
   ]
  },
  {
   "cell_type": "code",
   "execution_count": null,
   "metadata": {},
   "outputs": [],
   "source": [
    "def entropy(class_probabilities):\n",
    "    \"\"\"클래스에 속할 확률을 입력하면 엔트로피 계산\n",
    "    if p : 확률이 0인 경우는 제외함 \"\"\"\n",
    "    return sum(-p * math.log(p, 2) for p in class_probabilities if p)"
   ]
  },
  {
   "cell_type": "code",
   "execution_count": null,
   "metadata": {},
   "outputs": [],
   "source": [
    "def data_entropy(labeled_data):\n",
    "    \"\"\"클래스 비율을 토대로 데이터 전체 엔트로피 계산\"\"\"\n",
    "    labels = [label for _, label in labeled_data] # 데이터를 받아서 레이블 정보만 뺀 뒤 리스트로 저장\n",
    "    probabilities = class_probabilities(labels)   # 클래스 비율 계산\n",
    "    return entropy(probabilities)                 # 클래스 비율을 토대로 엔트로피 계산"
   ]
  },
  {
   "cell_type": "markdown",
   "metadata": {},
   "source": [
    "## 2. 파티션의 엔트로피 계산\n",
    "- 의사결정나무의 각 단계는 데이터를 여러 개의 파티션으로 분할하기 때문에 데이터가 여러 개의 작은 셋으로 나뉘게 된다.\n",
    "- 하나의 데이터 셋을 여러 개의 파티션으로 나뉘더라도 데이터셋 전체에 대한 엔트로피를 계산해야된다.\n",
    "    - 파티션 하나하나가 낮은 엔트로피를 갖는 경우 전반적으로 엔트로피도 낮아야한다.\n",
    "- 데이터 S를 $q_1, q_2, q_3..$의 비율을 가지는 파티션 $s_1, s_2, s_3 ...$으로 나누는 경우, 전체 엔트로피는 각 파티션 엔트로피의 가중합으로 구한다.\n",
    "    - $H=q_1H(s_1)+...+q_mH(s_m)$"
   ]
  },
  {
   "cell_type": "code",
   "execution_count": null,
   "metadata": {},
   "outputs": [],
   "source": [
    "def partition_entropy(subsets):\n",
    "    \"\"\"subset은 레이블이 있는 데이터의 list의 list\n",
    "        그에 대한 엔트로피를 계산한 뒤 모든 subset의 엔트로피 합친 값 반환\"\"\"\n",
    "    total_count = sum(len(subset) for subset in subsets)\n",
    "    return sum(data_entropy(subset) * len(subset) / total_count for subset in subsets)   # subset A의 엔트로피는 A 요소별 엔트로피의 합 * A의 영역 비율"
   ]
  },
  {
   "cell_type": "code",
   "execution_count": null,
   "metadata": {},
   "outputs": [],
   "source": [
    "def partition_by(inputs, attribute):\n",
    "    \"\"\"attribute 기준으로 inputs를 부분 집합으로 분리\"\"\"\n",
    "    # attribute 변수 내에 3개 값이 있다면 그룹수 = 3\n",
    "    groups = defaultdict(list)\n",
    "    for input in inputs:\n",
    "        key = input[0][attribute]  # 특정 attribute의 값을 불러옴\n",
    "        groups[key].append(input) # 이 input을 올바른 list에 추가\n",
    "    return groups"
   ]
  },
  {
   "cell_type": "code",
   "execution_count": null,
   "metadata": {},
   "outputs": [],
   "source": [
    "def partition_entropy_by(inputs, attribute):\n",
    "    \"\"\"주어진 파티션에 대응되는 엔트로피를 계산\"\"\"\n",
    "    partitions = partition_by(inputs, attribute)\n",
    "    return partition_entropy(partitions.values())"
   ]
  },
  {
   "cell_type": "markdown",
   "metadata": {},
   "source": [
    "## 3. 재귀적 분할을 이용한 의사결정나무\n",
    "### (1) 재귀용법\n",
    "- 하나의 함수에서 자신을 다시 호출하여 작업을 수행하는 방식으로 주어진 문제를 푸는 방법.\n",
    "\n",
    "\n",
    "- #### 예시\n",
    "\n",
    "```\n",
    "어느 한 컴퓨터공학과 학생이 유명한 교수님을 찾아가 물었다.\n",
    "\n",
    "\"재귀함수가 뭔가요?\"\n",
    "\"잘 들어보게. 옛날옛날 한 산 꼭대기에 이세상 모든 지식을 통달한 선인이 있었어. 마을 사람들은 모두 그 선인에게 수많은 질문을 했고, 모두 지혜롭게 대답해 주었지. 그의 답은 대부분 옳았다고 하네.\n",
    "그런데 어느날, 그 선인에게 한 선비가 찾아와서 물었어.\n",
    "    \"재귀함수가 뭔가요?\"\n",
    "     \"잘 들어보게. 옛날옛날 한 산 꼭대기에 이세상 모든 지식을 통달한 선인이 있었어. 마을 사람들은 모두 그 선인에게 수많은 질문을 했고, 모두 지혜롭게 대답해 주었지. \n",
    "     그의 답은 대부분 옳았다고 하네.\n",
    "     그런데 어느날, 그 선인에게 한 선비가 찾아와서 물었어.\n",
    "            \"재귀함수가 뭔가요?\"\n",
    "            \"잘 들어보게. 옛날옛날 한 산 꼭대기에...\n",
    "\n",
    "```"
   ]
  },
  {
   "cell_type": "code",
   "execution_count": null,
   "metadata": {},
   "outputs": [],
   "source": [
    "def countdown(n):\n",
    "    if n == 0:\n",
    "        print(\"KO!\")\n",
    "    else:\n",
    "        print(n)\n",
    "        countdown(n-1)"
   ]
  },
  {
   "cell_type": "code",
   "execution_count": null,
   "metadata": {
    "scrolled": false
   },
   "outputs": [],
   "source": [
    "countdown(10)"
   ]
  },
  {
   "cell_type": "code",
   "execution_count": null,
   "metadata": {},
   "outputs": [],
   "source": [
    "def factorial(num):\n",
    "    # n!\n",
    "    if num == 0:\n",
    "        return 1\n",
    "    else:\n",
    "        return num * factorial(num - 1)"
   ]
  },
  {
   "cell_type": "code",
   "execution_count": null,
   "metadata": {},
   "outputs": [],
   "source": [
    "factorial(3)"
   ]
  },
  {
   "cell_type": "markdown",
   "metadata": {},
   "source": [
    "### (2) ID3 알고리즘\n",
    "- 모든 데이터 포인트의 클래스 레이블이 동일하다면, 그 예측값이 해당 클래스 레이블인 자식 노드를 만들고 종료하라.\n",
    "- 파티션을 나눌 수 있는 변수가 남아 있지 않다면, 가장 빈도 수가 높은 클래스 레이블로 예측하는 자식 노드를 만들고 종료하라.\n",
    "- 그게 아니면, 각 변수로 데이터의 파티션을 나눠라.\n",
    "- 파티션을 나눴을 때 엔트로피가 가장 낮은 변수를 택하라.\n",
    "- 선택된 변수에 대한 결정 노드를 추가하라.\n",
    "- 남아 있는 변수들로 각 파티션에 대한 위 과정을 반복하라.\n",
    "\n",
    "> - 매 순간에만 최적의 선택을 한다. (greedy 알고리즘)\n",
    "- 범주형 속성에만 사용 가능하다.\n",
    "- 상위 노드에서 사용된 속성은 사용하지 않는다.\n",
    "- 이해하기 쉽고, 구현하기도 쉽다."
   ]
  },
  {
   "cell_type": "code",
   "execution_count": null,
   "metadata": {},
   "outputs": [],
   "source": [
    "data"
   ]
  },
  {
   "cell_type": "code",
   "execution_count": null,
   "metadata": {
    "ExecuteTime": {
     "end_time": "2018-09-29T05:23:04.023485Z",
     "start_time": "2018-09-29T05:23:04.013481Z"
    }
   },
   "outputs": [],
   "source": [
    "from functools import partial"
   ]
  },
  {
   "cell_type": "code",
   "execution_count": null,
   "metadata": {},
   "outputs": [],
   "source": [
    "partial()"
   ]
  },
  {
   "cell_type": "code",
   "execution_count": null,
   "metadata": {},
   "outputs": [],
   "source": [
    "def build_tree(inputs, split_candidates=None):\n",
    "    \"\"\"ID3 알고리즘\"\"\"\n",
    "    from functools import partial\n",
    "    # 첫 분할라면 입력 데이터의 모든 변수가 분할 후보\n",
    "    if split_candidates is None:\n",
    "        # 'lang', 'tweets', 'phd', 'level' 모두 후보\n",
    "        split_candidates = inputs[0][0].keys()\n",
    "\n",
    "    num_inputs = len(inputs)                                  # 입력 데이터에서 범주별 개수를 세어 본다\n",
    "    num_class0 = len([label for _, label in inputs if label]) # label이 True인 경우만 센다.\n",
    "    num_class1 = num_inputs - num_class0                      # label이 False인 경우만 센다.\n",
    "\n",
    "    # class0(true)이 하나도 없으면 False leaf 반환\n",
    "    if num_class0 == 0: return False\n",
    "    \n",
    "    # class1(false)이 하나도 없으면 Ture leaf 반환\n",
    "    if num_class1 == 0: return True\n",
    "\n",
    "    # 파티션 기준으로 사용할 변수가 없다면\n",
    "    if not split_candidates:\n",
    "        # 다수결로 결정\n",
    "        # class0(true)가 같거나 많으면 true,\n",
    "        # class1(false)가 많으면 false 반환\n",
    "        return num_class0 >= num_class1\n",
    "\n",
    "    # 아니면 가장 적합한 변수를 기준으로 분할\n",
    "    best_attribute = min(split_candidates, key=partial(partition_entropy_by, inputs))\n",
    "    # partial(partition_entropy_by, inputs) -> partition_entropy_by(inputs, 변수), inputs를 고정시키고 attributes만 변수로 받는 새로운 함수로 변형\n",
    "    \n",
    "    partitions = partition_by(inputs, best_attribute)\n",
    "    new_candidates = [a for a in split_candidates if a != best_attribute]\n",
    "    \n",
    "    # 재귀적으로 서브트리를 구축\n",
    "    subtrees = { attribute_value : build_tree(subset, new_candidates)\n",
    "                 for attribute_value, subset in partitions.items()}\n",
    "    # 기본값\n",
    "    subtrees[None] = num_class0 > num_class1\n",
    "    return (best_attribute, subtrees)"
   ]
  },
  {
   "cell_type": "code",
   "execution_count": null,
   "metadata": {},
   "outputs": [],
   "source": [
    "build_tree(data)"
   ]
  },
  {
   "cell_type": "markdown",
   "metadata": {},
   "source": [
    "<img src=\"https://minzzzy.github.io/images/dt_1.png\" alt=\"Drawing\" style=\"width: 400px;\" align = \"left\"/>"
   ]
  },
  {
   "cell_type": "markdown",
   "metadata": {},
   "source": [
    "### 4. 분류"
   ]
  },
  {
   "cell_type": "code",
   "execution_count": null,
   "metadata": {},
   "outputs": [],
   "source": [
    "def classify(tree, input):\n",
    "    \"\"\"주어진 tree를 기준으로 input을 분류\"\"\"\n",
    "    # 잎 노드이면 값 반환\n",
    "    if tree in [True, False]:\n",
    "        return tree\n",
    "\n",
    "    # 그게 아니면 데이터의 변수로 분할\n",
    "    # 키로 변수값, 값으로 서브트리를 나타내는 dict 사용\n",
    "    attribute, subtree_dict = tree\n",
    "\n",
    "    # 만약 입력된 데이터 변수 가운데 하나가\n",
    "    # 기존에 관찰되지 않았다면 None\n",
    "    ## input은 dict이므로 get 함수를 사용하면 key값이 존재하지 않을 때 에러가 나지 않도록 한다.\n",
    "    subtree_key = input.get(attribute)\n",
    "\n",
    "    # 키에 해당하는 서브트리가 존재하지 않을 때\n",
    "    if subtree_key not in subtree_dict:\n",
    "        # None 서브트리를 사용\n",
    "        subtree_key = None\n",
    "\n",
    "    # 적절한 서브트리를 선택\n",
    "    subtree = subtree_dict[subtree_key]\n",
    "    # 그리고 입력된 데이터를 분류\n",
    "    return classify(subtree, input)"
   ]
  },
  {
   "cell_type": "code",
   "execution_count": null,
   "metadata": {},
   "outputs": [],
   "source": [
    "tree = build_tree(data)\n",
    "print(classify(tree,\n",
    "        { \"level\" : \"Junior\",\n",
    "          \"lang\" : \"Java\",\n",
    "          \"tweets\" : \"yes\",\n",
    "          \"phd\" : \"no\"} ))\n",
    "\n",
    "print(classify(tree,\n",
    "        { \"level\" : \"Junior\",\n",
    "          \"lang\" : \"Java\",\n",
    "          \"tweets\" : \"yes\",\n",
    "          \"phd\" : \"yes\"} ))\n"
   ]
  },
  {
   "cell_type": "markdown",
   "metadata": {},
   "source": [
    "# #sklearn을 활용한 의사결정나무"
   ]
  },
  {
   "cell_type": "markdown",
   "metadata": {},
   "source": [
    "- iris 데이터 활용\n",
    "- decision tree 그림\n",
    "    - conda install python-graphviz"
   ]
  },
  {
   "cell_type": "code",
   "execution_count": null,
   "metadata": {},
   "outputs": [],
   "source": [
    "from sklearn import datasets\n",
    "iris = datasets.load_iris()\n",
    "x = iris.data\n",
    "y = iris.target"
   ]
  },
  {
   "cell_type": "code",
   "execution_count": null,
   "metadata": {},
   "outputs": [],
   "source": [
    "from sklearn.tree import DecisionTreeClassifier"
   ]
  },
  {
   "cell_type": "code",
   "execution_count": null,
   "metadata": {},
   "outputs": [],
   "source": [
    "dt = DecisionTreeClassifier(criterion='entropy', max_depth=2).fit(x, y)"
   ]
  },
  {
   "cell_type": "code",
   "execution_count": null,
   "metadata": {},
   "outputs": [],
   "source": [
    "def draw_decision_tree(model, features):\n",
    "    import io\n",
    "    import pydot\n",
    "    from IPython.core.display import Image \n",
    "    from sklearn.tree import export_graphviz\n",
    "    \n",
    "    dot_buf = io.StringIO() \n",
    "    export_graphviz(model, out_file=dot_buf, feature_names=features)\n",
    "    graph = pydot.graph_from_dot_data(dot_buf.getvalue())[0] \n",
    "    image = graph.create_png()\n",
    "    return Image(image)\n"
   ]
  },
  {
   "cell_type": "code",
   "execution_count": null,
   "metadata": {
    "scrolled": true
   },
   "outputs": [],
   "source": [
    "draw_decision_tree(dt, iris.feature_names)"
   ]
  },
  {
   "cell_type": "code",
   "execution_count": null,
   "metadata": {},
   "outputs": [],
   "source": []
  },
  {
   "cell_type": "code",
   "execution_count": null,
   "metadata": {},
   "outputs": [],
   "source": []
  },
  {
   "cell_type": "code",
   "execution_count": null,
   "metadata": {},
   "outputs": [],
   "source": []
  },
  {
   "cell_type": "code",
   "execution_count": null,
   "metadata": {},
   "outputs": [],
   "source": []
  }
 ],
 "metadata": {
  "anaconda-cloud": {},
  "hide_input": false,
  "kernelspec": {
   "display_name": "Python [conda root]",
   "language": "python",
   "name": "conda-root-py"
  },
  "language_info": {
   "codemirror_mode": {
    "name": "ipython",
    "version": 3
   },
   "file_extension": ".py",
   "mimetype": "text/x-python",
   "name": "python",
   "nbconvert_exporter": "python",
   "pygments_lexer": "ipython3",
   "version": "3.5.4"
  }
 },
 "nbformat": 4,
 "nbformat_minor": 2
}
