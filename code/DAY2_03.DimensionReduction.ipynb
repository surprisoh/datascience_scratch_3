{
 "cells": [
  {
   "cell_type": "code",
   "execution_count": null,
   "metadata": {
    "ExecuteTime": {
     "end_time": "2018-08-25T04:52:35.471107Z",
     "start_time": "2018-08-25T04:52:32.551794Z"
    }
   },
   "outputs": [],
   "source": [
    "from sklearn.decomposition import PCA\n",
    "import numpy as np\n",
    "from sklearn import datasets\n",
    "import matplotlib.pyplot as plt\n",
    "from matplotlib import style\n",
    "style.use('ggplot')"
   ]
  },
  {
   "cell_type": "markdown",
   "metadata": {},
   "source": [
    "## Iris 데이터\n",
    "- 3개의 클래스, 4개의 특징(feature)를 가지는 데이터\n",
    "    - 각 클래스는 Iris의 종류를 나타낸다"
   ]
  },
  {
   "cell_type": "code",
   "execution_count": null,
   "metadata": {
    "ExecuteTime": {
     "end_time": "2018-08-25T04:52:35.496855Z",
     "start_time": "2018-08-25T04:52:35.477035Z"
    }
   },
   "outputs": [],
   "source": [
    "iris = datasets.load_iris()"
   ]
  },
  {
   "cell_type": "code",
   "execution_count": null,
   "metadata": {
    "ExecuteTime": {
     "end_time": "2018-08-25T04:52:35.510680Z",
     "start_time": "2018-08-25T04:52:35.502751Z"
    }
   },
   "outputs": [],
   "source": [
    "y = iris.target\n",
    "x = iris.data"
   ]
  },
  {
   "cell_type": "code",
   "execution_count": null,
   "metadata": {
    "ExecuteTime": {
     "end_time": "2018-08-25T04:52:35.537357Z",
     "start_time": "2018-08-25T04:52:35.526973Z"
    }
   },
   "outputs": [],
   "source": [
    "x[:10]"
   ]
  },
  {
   "cell_type": "code",
   "execution_count": null,
   "metadata": {
    "ExecuteTime": {
     "end_time": "2018-08-25T04:52:35.553586Z",
     "start_time": "2018-08-25T04:52:35.542920Z"
    },
    "scrolled": true
   },
   "outputs": [],
   "source": [
    "x.shape"
   ]
  },
  {
   "cell_type": "markdown",
   "metadata": {},
   "source": [
    "### iris data 각 차원별 시각화"
   ]
  },
  {
   "cell_type": "code",
   "execution_count": null,
   "metadata": {
    "ExecuteTime": {
     "end_time": "2018-08-25T04:52:38.932741Z",
     "start_time": "2018-08-25T04:52:37.805348Z"
    },
    "scrolled": false
   },
   "outputs": [],
   "source": [
    "plt.figure(figsize=(20, 10))\n",
    "plt.subplot(2, 2, 1)\n",
    "plt.title('1, 2 D')\n",
    "plt.scatter(x[:, 0], x[:, 1], c=y)\n",
    "\n",
    "plt.subplot(2, 2, 2)\n",
    "plt.title('2, 3 D')\n",
    "plt.scatter(x[:, 1], x[:, 2], c=y)\n",
    "\n",
    "plt.subplot(2, 2, 3)\n",
    "plt.title('3, 4 D')\n",
    "plt.scatter(x[:, 2], x[:, 3], c=y)\n",
    "plt.show()"
   ]
  },
  {
   "cell_type": "markdown",
   "metadata": {},
   "source": [
    "# PCA 계산\n",
    "- 공분산 행렬\n",
    "- eigen value, eigen vector"
   ]
  },
  {
   "cell_type": "markdown",
   "metadata": {},
   "source": [
    "## 1. 공분산 행렬"
   ]
  },
  {
   "cell_type": "markdown",
   "metadata": {},
   "source": [
    "### - x를 centering 한 후, 곱해준다.\n",
    "- centering : 평균을 0으로 만들어줌"
   ]
  },
  {
   "cell_type": "code",
   "execution_count": null,
   "metadata": {
    "ExecuteTime": {
     "end_time": "2018-08-25T04:52:48.976241Z",
     "start_time": "2018-08-25T04:52:48.969999Z"
    }
   },
   "outputs": [],
   "source": [
    "cov = np.dot((x - x.mean(axis=0)).T, (x - x.mean(axis=0)))"
   ]
  },
  {
   "cell_type": "code",
   "execution_count": null,
   "metadata": {
    "ExecuteTime": {
     "end_time": "2018-08-25T04:52:52.947944Z",
     "start_time": "2018-08-25T04:52:52.938844Z"
    }
   },
   "outputs": [],
   "source": [
    "## 4 x 4 행렬\n",
    "\n",
    "cov"
   ]
  },
  {
   "cell_type": "markdown",
   "metadata": {},
   "source": [
    "## 2. eigen value, eigen vector를 구한다."
   ]
  },
  {
   "cell_type": "code",
   "execution_count": null,
   "metadata": {
    "ExecuteTime": {
     "end_time": "2018-08-25T04:52:57.720358Z",
     "start_time": "2018-08-25T04:52:57.709650Z"
    },
    "scrolled": true
   },
   "outputs": [],
   "source": [
    "ev, eig = np.linalg.eig(cov)"
   ]
  },
  {
   "cell_type": "code",
   "execution_count": null,
   "metadata": {
    "ExecuteTime": {
     "end_time": "2018-08-25T04:52:58.221957Z",
     "start_time": "2018-08-25T04:52:58.212826Z"
    }
   },
   "outputs": [],
   "source": [
    "ev"
   ]
  },
  {
   "cell_type": "code",
   "execution_count": null,
   "metadata": {
    "ExecuteTime": {
     "end_time": "2018-08-25T04:52:58.678385Z",
     "start_time": "2018-08-25T04:52:58.670770Z"
    }
   },
   "outputs": [],
   "source": [
    "eig"
   ]
  },
  {
   "cell_type": "markdown",
   "metadata": {},
   "source": [
    "## 3. 분산이 큰 ( eigen value가 큰 ) eigen vector만 선택한다.\n",
    "- 2개를 선택해보자"
   ]
  },
  {
   "cell_type": "code",
   "execution_count": null,
   "metadata": {
    "ExecuteTime": {
     "end_time": "2018-08-25T04:53:02.245860Z",
     "start_time": "2018-08-25T04:53:02.242004Z"
    }
   },
   "outputs": [],
   "source": [
    "eig_pca = eig[:, :2]"
   ]
  },
  {
   "cell_type": "code",
   "execution_count": null,
   "metadata": {
    "ExecuteTime": {
     "end_time": "2018-08-25T04:53:02.865456Z",
     "start_time": "2018-08-25T04:53:02.857846Z"
    }
   },
   "outputs": [],
   "source": [
    "eig_pca"
   ]
  },
  {
   "cell_type": "markdown",
   "metadata": {},
   "source": [
    "## 4. 위에서 선택한 eigen vector로 (centerting된 ) 원래 데이터를 투영시킨다."
   ]
  },
  {
   "cell_type": "code",
   "execution_count": null,
   "metadata": {
    "ExecuteTime": {
     "end_time": "2018-08-25T04:53:04.623340Z",
     "start_time": "2018-08-25T04:53:04.614878Z"
    },
    "scrolled": true
   },
   "outputs": [],
   "source": [
    "(x - x.mean(axis=0)).dot(eig_pca)[:10]"
   ]
  },
  {
   "cell_type": "markdown",
   "metadata": {},
   "source": [
    "## 5. 3에서 선택한 개수만큼의 차원으로 축소된 데이터를 갖게된다."
   ]
  },
  {
   "cell_type": "code",
   "execution_count": null,
   "metadata": {
    "ExecuteTime": {
     "end_time": "2018-08-25T04:53:05.306454Z",
     "start_time": "2018-08-25T04:53:05.297976Z"
    },
    "scrolled": true
   },
   "outputs": [],
   "source": [
    "(x - x.mean(axis=0)).dot(eig[:2].T)[:10]"
   ]
  },
  {
   "cell_type": "code",
   "execution_count": null,
   "metadata": {
    "ExecuteTime": {
     "end_time": "2018-08-25T04:53:07.922644Z",
     "start_time": "2018-08-25T04:53:07.914094Z"
    }
   },
   "outputs": [],
   "source": [
    "eig_pca"
   ]
  },
  {
   "cell_type": "markdown",
   "metadata": {},
   "source": [
    "# sklearn PCA 모듈과 비교"
   ]
  },
  {
   "cell_type": "code",
   "execution_count": null,
   "metadata": {
    "ExecuteTime": {
     "end_time": "2018-08-25T04:53:10.009403Z",
     "start_time": "2018-08-25T04:53:09.892245Z"
    }
   },
   "outputs": [],
   "source": [
    "pca = PCA(n_components=2).fit(x)"
   ]
  },
  {
   "cell_type": "markdown",
   "metadata": {},
   "source": [
    "- 주성분 비교"
   ]
  },
  {
   "cell_type": "code",
   "execution_count": null,
   "metadata": {
    "ExecuteTime": {
     "end_time": "2018-08-25T04:54:05.045317Z",
     "start_time": "2018-08-25T04:54:05.038074Z"
    }
   },
   "outputs": [],
   "source": [
    "## 주성분 \n",
    "\n",
    "pca.components_.T"
   ]
  },
  {
   "cell_type": "code",
   "execution_count": null,
   "metadata": {
    "ExecuteTime": {
     "end_time": "2018-08-25T04:53:10.982258Z",
     "start_time": "2018-08-25T04:53:10.975392Z"
    }
   },
   "outputs": [],
   "source": [
    "eig_pca"
   ]
  },
  {
   "cell_type": "markdown",
   "metadata": {},
   "source": [
    "- 차원 축소 결과"
   ]
  },
  {
   "cell_type": "code",
   "execution_count": null,
   "metadata": {
    "ExecuteTime": {
     "end_time": "2018-08-25T04:53:18.271659Z",
     "start_time": "2018-08-25T04:53:18.261356Z"
    },
    "scrolled": false
   },
   "outputs": [],
   "source": [
    "pca.transform(x)[:10]"
   ]
  },
  {
   "cell_type": "code",
   "execution_count": null,
   "metadata": {
    "ExecuteTime": {
     "end_time": "2018-08-25T04:53:18.695283Z",
     "start_time": "2018-08-25T04:53:18.686439Z"
    }
   },
   "outputs": [],
   "source": [
    "(x - x.mean(axis=0)).dot(eig_pca)[:10]"
   ]
  },
  {
   "cell_type": "markdown",
   "metadata": {},
   "source": [
    "# 시각화"
   ]
  },
  {
   "cell_type": "code",
   "execution_count": null,
   "metadata": {
    "ExecuteTime": {
     "end_time": "2018-08-25T04:53:21.574431Z",
     "start_time": "2018-08-25T04:53:21.570830Z"
    }
   },
   "outputs": [],
   "source": [
    "import matplotlib.pyplot as plt"
   ]
  },
  {
   "cell_type": "code",
   "execution_count": null,
   "metadata": {
    "ExecuteTime": {
     "end_time": "2018-08-25T04:53:22.222235Z",
     "start_time": "2018-08-25T04:53:21.991211Z"
    },
    "scrolled": false
   },
   "outputs": [],
   "source": [
    "plt.title('sklearn PCA result')\n",
    "plt.scatter(pca.transform(x)[:, 0], pca.transform(x)[:, 1], c=y)\n",
    "plt.show()"
   ]
  },
  {
   "cell_type": "code",
   "execution_count": null,
   "metadata": {
    "ExecuteTime": {
     "end_time": "2018-08-25T04:53:22.674068Z",
     "start_time": "2018-08-25T04:53:22.430123Z"
    },
    "scrolled": true
   },
   "outputs": [],
   "source": [
    "eig_result = (x - x.mean(axis=0)).dot(eig_pca)\n",
    "plt.title('eigen vector PCA result')\n",
    "plt.scatter(eig_result[:, 0], eig_result[:, 1], c=y)\n",
    "plt.show()"
   ]
  },
  {
   "cell_type": "markdown",
   "metadata": {},
   "source": [
    "## PCA 단점\n",
    "- PCA를 시행할 데이터는 방향적으로 의미가 있어야 PCA의 결과도 의미가 있다."
   ]
  },
  {
   "cell_type": "code",
   "execution_count": null,
   "metadata": {},
   "outputs": [],
   "source": []
  },
  {
   "cell_type": "code",
   "execution_count": null,
   "metadata": {},
   "outputs": [],
   "source": []
  },
  {
   "cell_type": "code",
   "execution_count": null,
   "metadata": {},
   "outputs": [],
   "source": []
  }
 ],
 "metadata": {
  "anaconda-cloud": {},
  "hide_input": false,
  "kernelspec": {
   "display_name": "Python [conda root]",
   "language": "python",
   "name": "conda-root-py"
  },
  "language_info": {
   "codemirror_mode": {
    "name": "ipython",
    "version": 3
   },
   "file_extension": ".py",
   "mimetype": "text/x-python",
   "name": "python",
   "nbconvert_exporter": "python",
   "pygments_lexer": "ipython3",
   "version": "3.5.4"
  }
 },
 "nbformat": 4,
 "nbformat_minor": 2
}
