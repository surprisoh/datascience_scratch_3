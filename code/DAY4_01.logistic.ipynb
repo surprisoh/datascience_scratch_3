{
 "cells": [
  {
   "cell_type": "code",
   "execution_count": null,
   "metadata": {
    "ExecuteTime": {
     "end_time": "2018-09-15T04:53:31.271745Z",
     "start_time": "2018-09-15T04:53:28.412173Z"
    }
   },
   "outputs": [],
   "source": [
    "import numpy as np\n",
    "import pandas as pd\n",
    "import seaborn as sns\n",
    "import matplotlib.pyplot as plt\n",
    "from matplotlib import style\n",
    "style.use('ggplot')\n",
    "%matplotlib inline"
   ]
  },
  {
   "cell_type": "code",
   "execution_count": null,
   "metadata": {
    "ExecuteTime": {
     "end_time": "2018-09-15T04:53:31.307237Z",
     "start_time": "2018-09-15T04:53:31.275881Z"
    }
   },
   "outputs": [],
   "source": [
    "data = [(0.7,48000,1),(1.9,48000,0),(2.5,60000,1),(4.2,63000,0),(6,76000,0),(6.5,69000,0),(7.5,76000,0),(8.1,88000,0),(8.7,83000,1),(10,83000,1),(0.8,43000,0),(1.8,60000,0),(10,79000,1),(6.1,76000,0),(1.4,50000,0),(9.1,92000,0),(5.8,75000,0),(5.2,69000,0),(1,56000,0),(6,67000,0),(4.9,74000,0),(6.4,63000,1),(6.2,82000,0),(3.3,58000,0),(9.3,90000,1),(5.5,57000,1),(9.1,102000,0),(2.4,54000,0),(8.2,65000,1),(5.3,82000,0),(9.8,107000,0),(1.8,64000,0),(0.6,46000,1),(0.8,48000,0),(8.6,84000,1),(0.6,45000,0),(0.5,30000,1),(7.3,89000,0),(2.5,48000,1),(5.6,76000,0),(7.4,77000,0),(2.7,56000,0),(0.7,48000,0),(1.2,42000,0),(0.2,32000,1),(4.7,56000,1),(2.8,44000,1),(7.6,78000,0),(1.1,63000,0),(8,79000,1),(2.7,56000,0),(6,52000,1),(4.6,56000,0),(2.5,51000,0),(5.7,71000,0),(2.9,65000,0),(1.1,33000,1),(3,62000,0),(4,71000,0),(2.4,61000,0),(7.5,75000,0),(9.7,81000,1),(3.2,62000,0),(7.9,88000,0),(4.7,44000,1),(2.5,55000,0),(1.6,41000,0),(6.7,64000,1),(6.9,66000,1),(7.9,78000,1),(8.1,102000,0),(5.3,48000,1),(8.5,66000,1),(0.2,56000,0),(6,69000,0),(7.5,77000,0),(8,86000,0),(4.4,68000,0),(4.9,75000,0),(1.5,60000,0),(2.2,50000,0),(3.4,49000,1),(4.2,70000,0),(7.7,98000,0),(8.2,85000,0),(5.4,88000,0),(0.1,46000,0),(1.5,37000,0),(6.3,86000,0),(3.7,57000,0),(8.4,85000,0),(2,42000,0),(5.8,69000,1),(2.7,64000,0),(3.1,63000,0),(1.9,48000,0),(10,72000,1),(0.2,45000,0),(8.6,95000,0),(1.5,64000,0),(9.8,95000,0),(5.3,65000,0),(7.5,80000,0),(9.9,91000,0),(9.7,50000,1),(2.8,68000,0),(3.6,58000,0),(3.9,74000,0),(4.4,76000,0),(2.5,49000,0),(7.2,81000,0),(5.2,60000,1),(2.4,62000,0),(8.9,94000,0),(2.4,63000,0),(6.8,69000,1),(6.5,77000,0),(7,86000,0),(9.4,94000,0),(7.8,72000,1),(0.2,53000,0),(10,97000,0),(5.5,65000,0),(7.7,71000,1),(8.1,66000,1),(9.8,91000,0),(8,84000,0),(2.7,55000,0),(2.8,62000,0),(9.4,79000,0),(2.5,57000,0),(7.4,70000,1),(2.1,47000,0),(5.3,62000,1),(6.3,79000,0),(6.8,58000,1),(5.7,80000,0),(2.2,61000,0),(4.8,62000,0),(3.7,64000,0),(4.1,85000,0),(2.3,51000,0),(3.5,58000,0),(0.9,43000,0),(0.9,54000,0),(4.5,74000,0),(6.5,55000,1),(4.1,41000,1),(7.1,73000,0),(1.1,66000,0),(9.1,81000,1),(8,69000,1),(7.3,72000,1),(3.3,50000,0),(3.9,58000,0),(2.6,49000,0),(1.6,78000,0),(0.7,56000,0),(2.1,36000,1),(7.5,90000,0),(4.8,59000,1),(8.9,95000,0),(6.2,72000,0),(6.3,63000,0),(9.1,100000,0),(7.3,61000,1),(5.6,74000,0),(0.5,66000,0),(1.1,59000,0),(5.1,61000,0),(6.2,70000,0),(6.6,56000,1),(6.3,76000,0),(6.5,78000,0),(5.1,59000,0),(9.5,74000,1),(4.5,64000,0),(2,54000,0),(1,52000,0),(4,69000,0),(6.5,76000,0),(3,60000,0),(4.5,63000,0),(7.8,70000,0),(3.9,60000,1),(0.8,51000,0),(4.2,78000,0),(1.1,54000,0),(6.2,60000,0),(2.9,59000,0),(2.1,52000,0),(8.2,87000,0),(4.8,73000,0),(2.2,42000,1),(9.1,98000,0),(6.5,84000,0),(6.9,73000,0),(5.1,72000,0),(9.1,69000,1),(9.8,79000,1),]\n",
    "data = list(map(list, data)) # change tuples to lists\n",
    "data = sorted(data, key = lambda x: x[0])\n",
    "\n",
    "X = np.array([[1] + row[:2] for row in data]) # each element is [1, experience, salary]\n",
    "Y = np.array([row[2] for row in data])        # each element is paid_account"
   ]
  },
  {
   "cell_type": "markdown",
   "metadata": {},
   "source": [
    "## y값이 0과 1 두개만 있는 경우"
   ]
  },
  {
   "cell_type": "code",
   "execution_count": null,
   "metadata": {
    "ExecuteTime": {
     "end_time": "2018-09-15T04:53:31.507305Z",
     "start_time": "2018-09-15T04:53:31.496071Z"
    }
   },
   "outputs": [],
   "source": [
    "Y"
   ]
  },
  {
   "cell_type": "code",
   "execution_count": null,
   "metadata": {
    "ExecuteTime": {
     "end_time": "2018-09-15T04:53:31.524366Z",
     "start_time": "2018-09-15T04:53:31.510912Z"
    }
   },
   "outputs": [],
   "source": [
    "# OLS로 y값을 예측해보자\n",
    "\n",
    "w = np.dot(np.dot(np.linalg.inv(np.dot(X.T, X)), X.T), Y)\n",
    "y_predicted = np.dot(X, w)"
   ]
  },
  {
   "cell_type": "code",
   "execution_count": null,
   "metadata": {
    "ExecuteTime": {
     "end_time": "2018-09-15T04:53:31.983724Z",
     "start_time": "2018-09-15T04:53:31.528326Z"
    }
   },
   "outputs": [],
   "source": [
    "## 시각화\n",
    "plt.figure(figsize = (10, 5))\n",
    "plt.scatter(X[:, 1], Y, label = 'actual', alpha = 0.8)\n",
    "plt.scatter(X[:, 1], y_predicted, label = 'predicted', alpha = 0.8)\n",
    "plt.legend()"
   ]
  },
  {
   "cell_type": "code",
   "execution_count": null,
   "metadata": {
    "ExecuteTime": {
     "end_time": "2018-09-15T04:53:36.175935Z",
     "start_time": "2018-09-15T04:53:35.789004Z"
    },
    "scrolled": true
   },
   "outputs": [],
   "source": [
    "plt.figure(figsize = (10, 5))\n",
    "sns.regplot(X[:, 1], Y, scatter_kws={\"color\": \"red\"}, line_kws={\"color\": \"#0072B2\"})"
   ]
  },
  {
   "cell_type": "markdown",
   "metadata": {},
   "source": [
    "# 로지스틱 회귀\n",
    "- $LL=\\sum  y_{ i }ln\\{ \\theta (w^{ T }x_{ i })^{ y_{ i } }\\} +\\sum  (1-y_{ i })ln\\{ 1-\\theta (w^{ T }x_{ i })\\} ^{ 1-y_{ i } }$\n",
    "    - 로지스틱 함수\n",
    "        - ### $\\theta(x;w)=\\frac{1}{1+exp(-w^Tx)}$"
   ]
  },
  {
   "cell_type": "code",
   "execution_count": null,
   "metadata": {
    "ExecuteTime": {
     "end_time": "2018-09-15T04:55:05.967671Z",
     "start_time": "2018-09-15T04:55:05.596750Z"
    },
    "scrolled": true
   },
   "outputs": [],
   "source": [
    "import statsmodels.api as sm"
   ]
  },
  {
   "cell_type": "code",
   "execution_count": null,
   "metadata": {
    "ExecuteTime": {
     "end_time": "2018-09-15T04:55:06.001854Z",
     "start_time": "2018-09-15T04:55:05.972922Z"
    },
    "scrolled": true
   },
   "outputs": [],
   "source": [
    "logit_mod = sm.Logit(Y, X)\n",
    "logit_res = logit_mod.fit(disp=True)\n",
    "print(logit_res.summary())"
   ]
  },
  {
   "cell_type": "code",
   "execution_count": null,
   "metadata": {
    "ExecuteTime": {
     "end_time": "2018-09-15T04:55:12.605533Z",
     "start_time": "2018-09-15T04:55:12.123773Z"
    }
   },
   "outputs": [],
   "source": [
    "## 시각화\n",
    "y_predicted_logit = logit_res.predict(X)\n",
    "\n",
    "plt.figure(figsize = (10, 5))\n",
    "plt.xlabel('predicted outcome')\n",
    "plt.ylabel('actual outcome')\n",
    "plt.scatter(y_predicted_logit, Y, label = 'real', alpha = 0.8)\n",
    "plt.legend()"
   ]
  },
  {
   "cell_type": "markdown",
   "metadata": {},
   "source": [
    "## 모델 해석하기"
   ]
  },
  {
   "cell_type": "code",
   "execution_count": null,
   "metadata": {
    "ExecuteTime": {
     "end_time": "2018-09-15T04:55:15.360694Z",
     "start_time": "2018-09-15T04:55:15.356072Z"
    }
   },
   "outputs": [],
   "source": [
    "def interpret_model(experience, salary):\n",
    "    prob = round(logit_res.predict((1, experience, salary))[0] * 100, 2)\n",
    "    return print('유료 계정 확률 : ', prob, '%')"
   ]
  },
  {
   "cell_type": "code",
   "execution_count": null,
   "metadata": {
    "ExecuteTime": {
     "end_time": "2018-09-15T04:55:18.703290Z",
     "start_time": "2018-09-15T04:55:18.694360Z"
    },
    "scrolled": true
   },
   "outputs": [],
   "source": [
    "interpret_model(1, 40000)"
   ]
  },
  {
   "cell_type": "markdown",
   "metadata": {},
   "source": [
    "## 성능 평가"
   ]
  },
  {
   "cell_type": "code",
   "execution_count": null,
   "metadata": {
    "ExecuteTime": {
     "end_time": "2018-09-15T04:55:25.309813Z",
     "start_time": "2018-09-15T04:55:25.304669Z"
    }
   },
   "outputs": [],
   "source": [
    "# 0.5 이상이면 1이라고 하자.\n",
    "\n",
    "y_predicted = np.array([1 if predicted >= 0.5 else 0 for predicted in y_predicted_logit])"
   ]
  },
  {
   "cell_type": "code",
   "execution_count": null,
   "metadata": {
    "ExecuteTime": {
     "end_time": "2018-09-15T04:55:25.428927Z",
     "start_time": "2018-09-15T04:55:25.314290Z"
    }
   },
   "outputs": [],
   "source": [
    "from sklearn.metrics import classification_report\n",
    "\n",
    "print(classification_report(Y, y_predicted))"
   ]
  },
  {
   "cell_type": "code",
   "execution_count": null,
   "metadata": {
    "ExecuteTime": {
     "end_time": "2018-09-15T04:57:23.515771Z",
     "start_time": "2018-09-15T04:57:23.507551Z"
    }
   },
   "outputs": [],
   "source": [
    "print('precision : ' , 0.83)\n",
    "print('유료계정 유저인데 유료계정 유저라고 맞춘 수 / (유료계정 유저인데 유료계정 유저라고 맞춘 수 + 유료계정 유저가 아닌데 유료계정 유저라고 맞춘 수)')"
   ]
  },
  {
   "cell_type": "code",
   "execution_count": null,
   "metadata": {
    "ExecuteTime": {
     "end_time": "2018-09-15T04:57:23.787647Z",
     "start_time": "2018-09-15T04:57:23.781177Z"
    }
   },
   "outputs": [],
   "source": [
    "print('recall : ' , 0.75)\n",
    "print('유료계정 유저인데 유료계정 유저라고 맞춘 수 / (유료계정 유저인데 유료계정 유저라고 맞춘 수 + 유료계정 유저인데 유료계정 유저가 아니라고 맞춘 수)')"
   ]
  },
  {
   "cell_type": "markdown",
   "metadata": {},
   "source": [
    "# 실제 모델 활용\n",
    "\n",
    "> ## 1. 예측 확률값을 기반으로 운영 의사결정\n",
    "    - 자동 타겟팅 시스템은 없지만, 그래도 어떻게서든 유료 계정으로 가입할 가능성이 높은 유저들을 분류해서 프로모션을 하고 싶다."
   ]
  },
  {
   "cell_type": "code",
   "execution_count": null,
   "metadata": {
    "ExecuteTime": {
     "end_time": "2018-09-15T05:06:48.892209Z",
     "start_time": "2018-09-15T05:06:48.872032Z"
    }
   },
   "outputs": [],
   "source": [
    "data_df = pd.DataFrame(np.hstack((X, y_predicted_logit.reshape(len(y_predicted_logit), 1))), \n",
    "                      columns = [['bias', 'experience', 'salary', 'paid_proba']])"
   ]
  },
  {
   "cell_type": "code",
   "execution_count": null,
   "metadata": {
    "ExecuteTime": {
     "end_time": "2018-09-15T05:07:44.584396Z",
     "start_time": "2018-09-15T05:07:44.577847Z"
    }
   },
   "outputs": [],
   "source": [
    "data_df.sort_values('paid_proba', ascending=False, inplace=True)"
   ]
  },
  {
   "cell_type": "code",
   "execution_count": null,
   "metadata": {
    "ExecuteTime": {
     "end_time": "2018-09-15T05:08:21.746143Z",
     "start_time": "2018-09-15T05:08:21.719671Z"
    }
   },
   "outputs": [],
   "source": [
    "data_df[data_df.paid_proba >= 0.9]"
   ]
  },
  {
   "cell_type": "markdown",
   "metadata": {},
   "source": [
    "> ## 2. 예측 확률값을 기반으로 지표 생성\n",
    "    - 매달 유료 계정으로 가입할 가능성이 있는 유저들이 어느 정도되는지 트랙킹하고 싶다."
   ]
  },
  {
   "cell_type": "code",
   "execution_count": null,
   "metadata": {
    "ExecuteTime": {
     "end_time": "2018-09-15T05:15:21.708502Z",
     "start_time": "2018-09-15T05:15:21.695341Z"
    }
   },
   "outputs": [],
   "source": [
    "# 지정한 범위로 구간을 나누는 메서드\n",
    "\n",
    "data_df.loc[:, 'proba_cut'] = pd.cut(data_df.paid_proba, \n",
    "                                     [0, 0.3, 0.5, 0.7, 0.9, 1], # 구간\n",
    "                                     labels=[0, 0.3, 0.5, 0.7, 0.9] # 구간을 정의한 라벨\n",
    "                                    )"
   ]
  },
  {
   "cell_type": "code",
   "execution_count": null,
   "metadata": {
    "ExecuteTime": {
     "end_time": "2018-09-15T05:18:09.565040Z",
     "start_time": "2018-09-15T05:18:09.294487Z"
    }
   },
   "outputs": [],
   "source": [
    "data_df.proba_cut.value_counts(normalize=True, sort=False).plot(kind='bar', title='paid_cut_hit')"
   ]
  },
  {
   "cell_type": "code",
   "execution_count": null,
   "metadata": {},
   "outputs": [],
   "source": []
  },
  {
   "cell_type": "code",
   "execution_count": null,
   "metadata": {},
   "outputs": [],
   "source": []
  },
  {
   "cell_type": "code",
   "execution_count": null,
   "metadata": {},
   "outputs": [],
   "source": []
  },
  {
   "cell_type": "code",
   "execution_count": null,
   "metadata": {},
   "outputs": [],
   "source": []
  }
 ],
 "metadata": {
  "anaconda-cloud": {},
  "hide_input": false,
  "kernelspec": {
   "display_name": "Python [conda root]",
   "language": "python",
   "name": "conda-root-py"
  },
  "language_info": {
   "codemirror_mode": {
    "name": "ipython",
    "version": 3
   },
   "file_extension": ".py",
   "mimetype": "text/x-python",
   "name": "python",
   "nbconvert_exporter": "python",
   "pygments_lexer": "ipython3",
   "version": "3.5.4"
  }
 },
 "nbformat": 4,
 "nbformat_minor": 2
}
