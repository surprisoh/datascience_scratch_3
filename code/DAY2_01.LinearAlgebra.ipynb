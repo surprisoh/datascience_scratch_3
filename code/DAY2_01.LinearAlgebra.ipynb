{
 "cells": [
  {
   "cell_type": "markdown",
   "metadata": {},
   "source": [
    "# 1. 파이썬에서의 벡터\n",
    ">- 가장 쉽게 표현하는 방법은 list로 표현하는 방법이다."
   ]
  },
  {
   "cell_type": "code",
   "execution_count": null,
   "metadata": {
    "ExecuteTime": {
     "end_time": "2018-08-24T13:30:33.499430Z",
     "start_time": "2018-08-24T13:30:33.372008Z"
    }
   },
   "outputs": [],
   "source": [
    "a = [1, 2, 3]"
   ]
  },
  {
   "cell_type": "code",
   "execution_count": null,
   "metadata": {
    "ExecuteTime": {
     "end_time": "2018-08-24T13:30:34.259665Z",
     "start_time": "2018-08-24T13:30:34.253757Z"
    }
   },
   "outputs": [],
   "source": [
    "height_weight_age = [\n",
    "    180, # 키\n",
    "    73,  # 몸무게\n",
    "    40   # 나이\n",
    "]"
   ]
  },
  {
   "cell_type": "markdown",
   "metadata": {},
   "source": [
    "# 2. 파이썬 list는 벡터 연산이 가능한가?\n",
    ">- 파이썬의 list는 실제로 벡터가 아니므로, 벡터 연산이 불가능하다.\n",
    "    - list가 벡터 연산이 되도록 하기 위해서는 따로 작업을 해줘야한다.\n",
    "- 벡터 연산 ?\n",
    "    - 각 벡터 상에서 같은 위치에 있는 성분끼리 연산하는 것. ( element-wise 연산 )\n",
    "    - ex. [1, 2] + [2, 1] = [1 + 2, 2 + 1]\n",
    "    - 두 벡터의 길이가 다르다면 연산이 불가능하다.\n",
    "    - 파이썬에서 벡터 연산을 하기 위해서는 Numpy 를 사용한다."
   ]
  },
  {
   "cell_type": "markdown",
   "metadata": {},
   "source": [
    "# 3. Numpy\n",
    "- C와 fotran으로 짜여진 파이썬 배열연산 패키지 (매우 빠름)\n",
    "    - 모든 머신러닝, 딥러닝 알고리즘에 활용되고 있고, numpy 이후부터 python이 과학계산에 널리 사용되었음."
   ]
  },
  {
   "cell_type": "code",
   "execution_count": null,
   "metadata": {
    "ExecuteTime": {
     "end_time": "2018-08-24T13:30:39.962053Z",
     "start_time": "2018-08-24T13:30:39.642991Z"
    }
   },
   "outputs": [],
   "source": [
    "import numpy as np"
   ]
  },
  {
   "cell_type": "code",
   "execution_count": null,
   "metadata": {
    "ExecuteTime": {
     "end_time": "2018-08-24T13:30:39.970231Z",
     "start_time": "2018-08-24T13:30:39.965052Z"
    }
   },
   "outputs": [],
   "source": [
    "# array creation\n",
    "\n",
    "a_arr = np.array([1, 2, 3])\n",
    "b_arr = np.array([2, 3, 4])\n",
    "\n",
    "a_list = [1, 2, 3]\n",
    "b_list = [2, 3, 4]"
   ]
  },
  {
   "cell_type": "code",
   "execution_count": null,
   "metadata": {
    "ExecuteTime": {
     "end_time": "2018-08-24T13:30:39.985277Z",
     "start_time": "2018-08-24T13:30:39.975011Z"
    }
   },
   "outputs": [],
   "source": [
    "a_arr"
   ]
  },
  {
   "cell_type": "code",
   "execution_count": null,
   "metadata": {
    "ExecuteTime": {
     "end_time": "2018-08-24T13:30:39.998922Z",
     "start_time": "2018-08-24T13:30:39.988785Z"
    }
   },
   "outputs": [],
   "source": [
    "a_list"
   ]
  },
  {
   "cell_type": "markdown",
   "metadata": {},
   "source": [
    "# 4. 벡터 연산"
   ]
  },
  {
   "cell_type": "markdown",
   "metadata": {},
   "source": [
    "## (1) 벡터 덧셈\n",
    "> ### pure python\n",
    "> - 벡터 덧셈은 zip을 사용해서 두 벡터를 묶은 뒤, 두 배열의 각 성분끼리 더하는 list comprehension을 적용한다."
   ]
  },
  {
   "cell_type": "code",
   "execution_count": null,
   "metadata": {
    "ExecuteTime": {
     "end_time": "2018-08-24T13:30:40.017080Z",
     "start_time": "2018-08-24T13:30:40.002709Z"
    }
   },
   "outputs": [],
   "source": [
    "def vector_add(v, w):\n",
    "    \"\"\"각 성분끼리 더한다.\"\"\"\n",
    "    return [v_i + w_i for v_i, w_i in zip(v, w)]"
   ]
  },
  {
   "cell_type": "code",
   "execution_count": null,
   "metadata": {
    "ExecuteTime": {
     "end_time": "2018-08-24T13:30:40.041158Z",
     "start_time": "2018-08-24T13:30:40.022480Z"
    },
    "scrolled": true
   },
   "outputs": [],
   "source": [
    "vector_add(a_list, b_list)"
   ]
  },
  {
   "cell_type": "code",
   "execution_count": null,
   "metadata": {
    "ExecuteTime": {
     "end_time": "2018-08-24T13:30:40.052114Z",
     "start_time": "2018-08-24T13:30:40.045885Z"
    }
   },
   "outputs": [],
   "source": [
    "def vector_subtract(v, w):\n",
    "    \"\"\"각 성분끼리 뺀다.\"\"\"\n",
    "    return [v_i - w_i for v_i, w_i in zip(v, w)]"
   ]
  },
  {
   "cell_type": "code",
   "execution_count": null,
   "metadata": {
    "ExecuteTime": {
     "end_time": "2018-08-24T13:30:40.062139Z",
     "start_time": "2018-08-24T13:30:40.055747Z"
    }
   },
   "outputs": [],
   "source": [
    "def vector_sum(vectors):\n",
    "    \"\"\"모든 벡터의 각 성분들끼리 더한다.\"\"\"\n",
    "    result = vectors[0]\n",
    "    for vector in vectors[1:]:\n",
    "        result = vector_add(result, vector)\n",
    "    return result"
   ]
  },
  {
   "cell_type": "code",
   "execution_count": null,
   "metadata": {
    "ExecuteTime": {
     "end_time": "2018-08-24T13:30:40.075718Z",
     "start_time": "2018-08-24T13:30:40.066268Z"
    },
    "scrolled": false
   },
   "outputs": [],
   "source": [
    "vector_sum([[1, 2, 3], [1, 2, 3], [1, 2, 3]])"
   ]
  },
  {
   "cell_type": "markdown",
   "metadata": {},
   "source": [
    "> ### numpy"
   ]
  },
  {
   "cell_type": "code",
   "execution_count": null,
   "metadata": {
    "ExecuteTime": {
     "end_time": "2018-08-24T13:30:40.086568Z",
     "start_time": "2018-08-24T13:30:40.079397Z"
    },
    "scrolled": false
   },
   "outputs": [],
   "source": [
    "## 덧셈\n",
    "\n",
    "a_arr + b_arr"
   ]
  },
  {
   "cell_type": "code",
   "execution_count": null,
   "metadata": {
    "ExecuteTime": {
     "end_time": "2018-08-24T13:30:40.097664Z",
     "start_time": "2018-08-24T13:30:40.089917Z"
    },
    "scrolled": true
   },
   "outputs": [],
   "source": [
    "## 뺄셈\n",
    "\n",
    "a_arr - b_arr"
   ]
  },
  {
   "cell_type": "markdown",
   "metadata": {},
   "source": [
    "## (2) 스칼라 곱\n",
    "> ### pure python"
   ]
  },
  {
   "cell_type": "code",
   "execution_count": null,
   "metadata": {
    "ExecuteTime": {
     "end_time": "2018-08-24T13:30:40.106975Z",
     "start_time": "2018-08-24T13:30:40.101098Z"
    }
   },
   "outputs": [],
   "source": [
    "def scalar_multiply(c, v):\n",
    "    \"\"\"c는 숫자, v는 벡터\"\"\"\n",
    "    return [c * v_i for v_i in v]"
   ]
  },
  {
   "cell_type": "code",
   "execution_count": null,
   "metadata": {
    "ExecuteTime": {
     "end_time": "2018-08-24T13:30:40.118577Z",
     "start_time": "2018-08-24T13:30:40.111066Z"
    }
   },
   "outputs": [],
   "source": [
    "scalar_multiply(5, [1, 2, 3])"
   ]
  },
  {
   "cell_type": "markdown",
   "metadata": {},
   "source": [
    "> ### numpy"
   ]
  },
  {
   "cell_type": "code",
   "execution_count": null,
   "metadata": {
    "ExecuteTime": {
     "end_time": "2018-08-24T13:30:40.129779Z",
     "start_time": "2018-08-24T13:30:40.122523Z"
    },
    "scrolled": true
   },
   "outputs": [],
   "source": [
    "5 * a_arr"
   ]
  },
  {
   "cell_type": "markdown",
   "metadata": {},
   "source": [
    "## (3) 벡터 내적\n",
    "> ### pure python"
   ]
  },
  {
   "cell_type": "code",
   "execution_count": null,
   "metadata": {
    "ExecuteTime": {
     "end_time": "2018-08-24T13:30:40.139629Z",
     "start_time": "2018-08-24T13:30:40.132860Z"
    }
   },
   "outputs": [],
   "source": [
    "## zip을 사용해서 두 벡터를 묶은 뒤, 두 배열의 각 성분끼리 곱하는 list comprehension을 적용하고, 마지막 결과를 모두 더해준다.\n",
    "\n",
    "def dot(v, w):\n",
    "    \"\"\"v_1*w_1 + v_2*w_2 + ...\"\"\"\n",
    "    return sum(v_i * w_i for v_i, w_i in zip(v, w))"
   ]
  },
  {
   "cell_type": "code",
   "execution_count": null,
   "metadata": {
    "ExecuteTime": {
     "end_time": "2018-08-24T13:30:40.151253Z",
     "start_time": "2018-08-24T13:30:40.143268Z"
    },
    "scrolled": true
   },
   "outputs": [],
   "source": [
    "dot(a_list, b_list)"
   ]
  },
  {
   "cell_type": "markdown",
   "metadata": {},
   "source": [
    "> ### numpy"
   ]
  },
  {
   "cell_type": "code",
   "execution_count": null,
   "metadata": {
    "ExecuteTime": {
     "end_time": "2018-08-24T13:30:40.165638Z",
     "start_time": "2018-08-24T13:30:40.154696Z"
    },
    "scrolled": true
   },
   "outputs": [],
   "source": [
    "## 곱셈 (내적이 아님)\n",
    "\n",
    "a_arr * b_arr"
   ]
  },
  {
   "cell_type": "code",
   "execution_count": null,
   "metadata": {
    "ExecuteTime": {
     "end_time": "2018-08-24T13:30:40.178225Z",
     "start_time": "2018-08-24T13:30:40.169898Z"
    }
   },
   "outputs": [],
   "source": [
    "## 내적 1\n",
    "\n",
    "a_arr.dot(b_arr)"
   ]
  },
  {
   "cell_type": "code",
   "execution_count": null,
   "metadata": {
    "ExecuteTime": {
     "end_time": "2018-08-24T13:30:40.202362Z",
     "start_time": "2018-08-24T13:30:40.192870Z"
    },
    "scrolled": true
   },
   "outputs": [],
   "source": [
    "## 내적 2\n",
    "\n",
    "np.dot(a_arr,b_arr)"
   ]
  },
  {
   "cell_type": "markdown",
   "metadata": {},
   "source": [
    "## (4) 벡터 크기\n",
    "> ### pure python"
   ]
  },
  {
   "cell_type": "code",
   "execution_count": null,
   "metadata": {
    "ExecuteTime": {
     "end_time": "2018-08-24T13:30:40.220147Z",
     "start_time": "2018-08-24T13:30:40.212644Z"
    }
   },
   "outputs": [],
   "source": [
    "def sum_of_squares(v):\n",
    "    \"\"\"v_1*v_1 + v_2*v_2 + ... + v_n*v_n\"\"\"\n",
    "    return dot(v, v)"
   ]
  },
  {
   "cell_type": "code",
   "execution_count": null,
   "metadata": {
    "ExecuteTime": {
     "end_time": "2018-08-24T13:30:40.259596Z",
     "start_time": "2018-08-24T13:30:40.252096Z"
    }
   },
   "outputs": [],
   "source": [
    "def magnitude(v):\n",
    "    import math\n",
    "    return math.sqrt(sum_of_squares(v))"
   ]
  },
  {
   "cell_type": "code",
   "execution_count": null,
   "metadata": {
    "ExecuteTime": {
     "end_time": "2018-08-24T13:30:40.272139Z",
     "start_time": "2018-08-24T13:30:40.263982Z"
    }
   },
   "outputs": [],
   "source": [
    "magnitude(a_list)"
   ]
  },
  {
   "cell_type": "markdown",
   "metadata": {},
   "source": [
    "> ### numpy"
   ]
  },
  {
   "cell_type": "code",
   "execution_count": null,
   "metadata": {
    "ExecuteTime": {
     "end_time": "2018-08-24T13:30:40.285831Z",
     "start_time": "2018-08-24T13:30:40.276530Z"
    }
   },
   "outputs": [],
   "source": [
    "## 벡터 크기\n",
    "\n",
    "np.linalg.norm(a_arr)"
   ]
  },
  {
   "cell_type": "markdown",
   "metadata": {},
   "source": [
    "# 5. 행렬"
   ]
  },
  {
   "cell_type": "markdown",
   "metadata": {},
   "source": [
    "> ### pure python"
   ]
  },
  {
   "cell_type": "code",
   "execution_count": null,
   "metadata": {
    "ExecuteTime": {
     "end_time": "2018-08-24T13:30:40.295323Z",
     "start_time": "2018-08-24T13:30:40.289296Z"
    }
   },
   "outputs": [],
   "source": [
    "## 행렬을 list로 표현\n",
    "\n",
    "A = [[1, 2, 3], \n",
    "     [4, 5, 6]]\n",
    "\n",
    "B = [[1, 2], \n",
    "     [3, 4],\n",
    "     [5, 6]]"
   ]
  },
  {
   "cell_type": "code",
   "execution_count": null,
   "metadata": {
    "ExecuteTime": {
     "end_time": "2018-08-24T13:30:40.306463Z",
     "start_time": "2018-08-24T13:30:40.299709Z"
    }
   },
   "outputs": [],
   "source": [
    "## 행렬의 shape를 확인하는 함수 (n, m)\n",
    "\n",
    "def shape(A):\n",
    "    num_rows = len(A)\n",
    "    num_cols = len(A[0]) if A else 0 ## A의 첫번째 행의 element의 갯수\n",
    "    return num_rows, num_cols"
   ]
  },
  {
   "cell_type": "markdown",
   "metadata": {},
   "source": [
    "> ### numpy"
   ]
  },
  {
   "cell_type": "code",
   "execution_count": null,
   "metadata": {
    "ExecuteTime": {
     "end_time": "2018-08-24T13:30:40.316693Z",
     "start_time": "2018-08-24T13:30:40.311070Z"
    }
   },
   "outputs": [],
   "source": [
    "matrix_a = np.array([[1, 2, 3], [2, 3, 4]])\n",
    "matrix_b = np.array([[10, 20, 30], [20, 30, 40]])"
   ]
  },
  {
   "cell_type": "code",
   "execution_count": null,
   "metadata": {
    "ExecuteTime": {
     "end_time": "2018-08-24T13:30:40.329172Z",
     "start_time": "2018-08-24T13:30:40.320493Z"
    }
   },
   "outputs": [],
   "source": [
    "## 행렬 shape\n",
    "\n",
    "matrix_a.shape"
   ]
  },
  {
   "cell_type": "code",
   "execution_count": null,
   "metadata": {
    "ExecuteTime": {
     "end_time": "2018-08-24T13:30:40.342753Z",
     "start_time": "2018-08-24T13:30:40.332880Z"
    }
   },
   "outputs": [],
   "source": [
    "## 행렬 slicing\n",
    "## 행 선택\n",
    "\n",
    "matrix_a[1]"
   ]
  },
  {
   "cell_type": "code",
   "execution_count": null,
   "metadata": {
    "ExecuteTime": {
     "end_time": "2018-08-24T13:30:40.356826Z",
     "start_time": "2018-08-24T13:30:40.346631Z"
    }
   },
   "outputs": [],
   "source": [
    "matrix_a"
   ]
  },
  {
   "cell_type": "code",
   "execution_count": null,
   "metadata": {
    "ExecuteTime": {
     "end_time": "2018-08-24T13:30:40.372060Z",
     "start_time": "2018-08-24T13:30:40.360705Z"
    },
    "scrolled": true
   },
   "outputs": [],
   "source": [
    "## 2행의 2번째 열까지\n",
    "\n",
    "matrix_a[1, :2]"
   ]
  },
  {
   "cell_type": "code",
   "execution_count": null,
   "metadata": {
    "ExecuteTime": {
     "end_time": "2018-08-24T13:30:40.385215Z",
     "start_time": "2018-08-24T13:30:40.376816Z"
    }
   },
   "outputs": [],
   "source": [
    "## 모든 행의 2번째 열까지\n",
    "matrix_a[:, :2]"
   ]
  },
  {
   "cell_type": "code",
   "execution_count": null,
   "metadata": {
    "ExecuteTime": {
     "end_time": "2018-08-24T13:30:40.397333Z",
     "start_time": "2018-08-24T13:30:40.389371Z"
    },
    "scrolled": true
   },
   "outputs": [],
   "source": [
    "## 전치 행렬\n",
    "\n",
    "matrix_a.T"
   ]
  },
  {
   "cell_type": "code",
   "execution_count": null,
   "metadata": {
    "ExecuteTime": {
     "end_time": "2018-08-24T13:30:40.797323Z",
     "start_time": "2018-08-24T13:30:40.400446Z"
    },
    "scrolled": true
   },
   "outputs": [],
   "source": [
    "## 행렬곱\n",
    "\n",
    "np.dot(matrix_a, matrix_b)"
   ]
  },
  {
   "cell_type": "code",
   "execution_count": null,
   "metadata": {
    "ExecuteTime": {
     "end_time": "2018-08-24T13:30:43.691512Z",
     "start_time": "2018-08-24T13:30:43.684552Z"
    },
    "scrolled": true
   },
   "outputs": [],
   "source": [
    "## 행렬의 내적을 위해서는 곱이 가능한 shape으로 바꾸어 주어야된다.\n",
    "\n",
    "np.dot(matrix_a.T, matrix_b)"
   ]
  },
  {
   "cell_type": "markdown",
   "metadata": {},
   "source": [
    "# 보충자료\n",
    "> - numpy tutorial\n",
    "    - https://docs.scipy.org/doc/numpy/user/quickstart.html\n",
    "-  Matlab 사용자를 위한 numpy\n",
    "    - https://docs.scipy.org/doc/numpy-1.13.0/user/numpy-for-matlab-users.html\n",
    "- numpy tutorial 한글버전\n",
    "    - python 2.7로 작성되어있어서 python3.x 에서는 작동하지 않는 코드도 있음.\n",
    "        - print \"object\" 형태를 print(\"object\") 형태로만 바꿔주면 된다.\n",
    "    - http://ishuca.tistory.com/373"
   ]
  },
  {
   "cell_type": "code",
   "execution_count": null,
   "metadata": {},
   "outputs": [],
   "source": []
  },
  {
   "cell_type": "code",
   "execution_count": null,
   "metadata": {},
   "outputs": [],
   "source": []
  }
 ],
 "metadata": {
  "anaconda-cloud": {},
  "hide_input": false,
  "kernelspec": {
   "display_name": "Python [default]",
   "language": "python",
   "name": "python3"
  },
  "language_info": {
   "codemirror_mode": {
    "name": "ipython",
    "version": 3
   },
   "file_extension": ".py",
   "mimetype": "text/x-python",
   "name": "python",
   "nbconvert_exporter": "python",
   "pygments_lexer": "ipython3",
   "version": "3.5.4"
  }
 },
 "nbformat": 4,
 "nbformat_minor": 1
}
