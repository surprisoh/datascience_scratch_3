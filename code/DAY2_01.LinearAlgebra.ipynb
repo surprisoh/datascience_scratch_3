{
 "cells": [
  {
   "cell_type": "markdown",
   "metadata": {},
   "source": [
    "# 1. 파이썬에서의 벡터\n",
    ">- 가장 쉽게 표현하는 방법은 list로 표현하는 방법이다."
   ]
  },
  {
   "cell_type": "code",
   "execution_count": 1,
   "metadata": {
    "ExecuteTime": {
     "end_time": "2018-08-25T07:29:35.827285Z",
     "start_time": "2018-08-25T07:29:35.777659Z"
    }
   },
   "outputs": [],
   "source": [
    "a = [1, 2, 3]"
   ]
  },
  {
   "cell_type": "code",
   "execution_count": 2,
   "metadata": {
    "ExecuteTime": {
     "end_time": "2018-08-25T07:30:09.109483Z",
     "start_time": "2018-08-25T07:30:09.105549Z"
    }
   },
   "outputs": [],
   "source": [
    "height_weight_age = [\n",
    "    180, # 키\n",
    "    73,  # 몸무게\n",
    "    40   # 나이\n",
    "]"
   ]
  },
  {
   "cell_type": "markdown",
   "metadata": {},
   "source": [
    "# 2. 파이썬 list는 벡터 연산이 가능한가?\n",
    ">- 파이썬의 list는 실제로 벡터가 아니므로, 벡터 연산이 불가능하다.\n",
    "    - list가 벡터 연산이 되도록 하기 위해서는 따로 작업을 해줘야한다.\n",
    "- 벡터 연산 ?\n",
    "    - 각 벡터 상에서 같은 위치에 있는 성분끼리 연산하는 것. ( element-wise 연산 )\n",
    "    - ex. [1, 2] + [2, 1] = [1 + 2, 2 + 1]\n",
    "    - 두 벡터의 길이가 다르다면 연산이 불가능하다.\n",
    "    - 파이썬에서 벡터 연산을 하기 위해서는 Numpy 를 사용한다."
   ]
  },
  {
   "cell_type": "markdown",
   "metadata": {},
   "source": [
    "# 3. Numpy\n",
    "- C와 fotran으로 짜여진 파이썬 배열연산 패키지 (매우 빠름)\n",
    "    - 모든 머신러닝, 딥러닝 알고리즘에 활용되고 있고, numpy 이후부터 python이 과학계산에 널리 사용되었음."
   ]
  },
  {
   "cell_type": "code",
   "execution_count": 3,
   "metadata": {
    "ExecuteTime": {
     "end_time": "2018-08-25T07:32:07.840726Z",
     "start_time": "2018-08-25T07:32:07.536161Z"
    }
   },
   "outputs": [],
   "source": [
    "import numpy as np"
   ]
  },
  {
   "cell_type": "code",
   "execution_count": 4,
   "metadata": {
    "ExecuteTime": {
     "end_time": "2018-08-25T07:32:55.698958Z",
     "start_time": "2018-08-25T07:32:55.693198Z"
    }
   },
   "outputs": [],
   "source": [
    "# array creation\n",
    "\n",
    "a_arr = np.array([1, 2, 3])\n",
    "b_arr = np.array([2, 3, 4])\n",
    "\n",
    "a_list = [1, 2, 3]\n",
    "b_list = [2, 3, 4]"
   ]
  },
  {
   "cell_type": "code",
   "execution_count": 5,
   "metadata": {
    "ExecuteTime": {
     "end_time": "2018-08-25T07:32:58.182088Z",
     "start_time": "2018-08-25T07:32:58.147921Z"
    }
   },
   "outputs": [
    {
     "data": {
      "text/plain": [
       "array([1, 2, 3])"
      ]
     },
     "execution_count": 5,
     "metadata": {},
     "output_type": "execute_result"
    }
   ],
   "source": [
    "a_arr"
   ]
  },
  {
   "cell_type": "code",
   "execution_count": 6,
   "metadata": {
    "ExecuteTime": {
     "end_time": "2018-08-25T07:32:59.028296Z",
     "start_time": "2018-08-25T07:32:59.018608Z"
    }
   },
   "outputs": [
    {
     "data": {
      "text/plain": [
       "[1, 2, 3]"
      ]
     },
     "execution_count": 6,
     "metadata": {},
     "output_type": "execute_result"
    }
   ],
   "source": [
    "a_list"
   ]
  },
  {
   "cell_type": "markdown",
   "metadata": {},
   "source": [
    "# 4. 벡터 연산"
   ]
  },
  {
   "cell_type": "markdown",
   "metadata": {},
   "source": [
    "## (1) 벡터 덧셈\n",
    "> ### pure python\n",
    "> - 벡터 덧셈은 zip을 사용해서 두 벡터를 묶은 뒤, 두 배열의 각 성분끼리 더하는 list comprehension을 적용한다."
   ]
  },
  {
   "cell_type": "code",
   "execution_count": 7,
   "metadata": {
    "ExecuteTime": {
     "end_time": "2018-08-25T07:35:05.407116Z",
     "start_time": "2018-08-25T07:35:05.397610Z"
    }
   },
   "outputs": [
    {
     "data": {
      "text/plain": [
       "[(1, 2), (2, 3), (3, 4)]"
      ]
     },
     "execution_count": 7,
     "metadata": {},
     "output_type": "execute_result"
    }
   ],
   "source": [
    "list(zip(a_list, b_list))"
   ]
  },
  {
   "cell_type": "code",
   "execution_count": 8,
   "metadata": {
    "ExecuteTime": {
     "end_time": "2018-08-25T07:35:47.575823Z",
     "start_time": "2018-08-25T07:35:47.569566Z"
    }
   },
   "outputs": [],
   "source": [
    "def vector_add(v, w):\n",
    "    \"\"\"각 성분끼리 더한다.\"\"\"\n",
    "    return [v_i + w_i for v_i, w_i in zip(v, w)]"
   ]
  },
  {
   "cell_type": "code",
   "execution_count": 9,
   "metadata": {
    "ExecuteTime": {
     "end_time": "2018-08-25T07:35:54.667574Z",
     "start_time": "2018-08-25T07:35:54.661255Z"
    },
    "scrolled": true
   },
   "outputs": [
    {
     "data": {
      "text/plain": [
       "[3, 5, 7]"
      ]
     },
     "execution_count": 9,
     "metadata": {},
     "output_type": "execute_result"
    }
   ],
   "source": [
    "vector_add(a_list, b_list)"
   ]
  },
  {
   "cell_type": "code",
   "execution_count": 10,
   "metadata": {
    "ExecuteTime": {
     "end_time": "2018-08-25T07:36:03.749261Z",
     "start_time": "2018-08-25T07:36:03.741694Z"
    }
   },
   "outputs": [
    {
     "data": {
      "text/plain": [
       "array([3, 5, 7])"
      ]
     },
     "execution_count": 10,
     "metadata": {},
     "output_type": "execute_result"
    }
   ],
   "source": [
    "a_arr + b_arr"
   ]
  },
  {
   "cell_type": "code",
   "execution_count": 11,
   "metadata": {
    "ExecuteTime": {
     "end_time": "2018-08-25T07:36:48.493014Z",
     "start_time": "2018-08-25T07:36:48.486249Z"
    }
   },
   "outputs": [],
   "source": [
    "def vector_subtract(v, w):\n",
    "    \"\"\"각 성분끼리 뺀다.\"\"\"\n",
    "    return [v_i - w_i for v_i, w_i in zip(v, w)]"
   ]
  },
  {
   "cell_type": "code",
   "execution_count": 14,
   "metadata": {
    "ExecuteTime": {
     "end_time": "2018-08-25T07:37:27.947177Z",
     "start_time": "2018-08-25T07:37:27.940439Z"
    }
   },
   "outputs": [],
   "source": [
    "def vector_sum(vectors):\n",
    "    \"\"\"모든 벡터의 각 성분들끼리 더한다.\"\"\"\n",
    "    result = vectors[0]\n",
    "    for vector in vectors[1:]:\n",
    "        result = vector_add(result, vector)\n",
    "    return result"
   ]
  },
  {
   "cell_type": "code",
   "execution_count": 15,
   "metadata": {
    "ExecuteTime": {
     "end_time": "2018-08-25T07:37:50.898566Z",
     "start_time": "2018-08-25T07:37:50.891021Z"
    },
    "scrolled": false
   },
   "outputs": [
    {
     "data": {
      "text/plain": [
       "[3, 6, 9]"
      ]
     },
     "execution_count": 15,
     "metadata": {},
     "output_type": "execute_result"
    }
   ],
   "source": [
    "vector_sum([[1, 2, 3], [1, 2, 3], [1, 2, 3]])"
   ]
  },
  {
   "cell_type": "markdown",
   "metadata": {},
   "source": [
    "> ### numpy"
   ]
  },
  {
   "cell_type": "code",
   "execution_count": 17,
   "metadata": {
    "ExecuteTime": {
     "end_time": "2018-08-25T07:39:44.278215Z",
     "start_time": "2018-08-25T07:39:44.271287Z"
    },
    "scrolled": false
   },
   "outputs": [
    {
     "data": {
      "text/plain": [
       "array([3, 5, 7])"
      ]
     },
     "execution_count": 17,
     "metadata": {},
     "output_type": "execute_result"
    }
   ],
   "source": [
    "## 덧셈\n",
    "\n",
    "a_arr + b_arr"
   ]
  },
  {
   "cell_type": "code",
   "execution_count": 18,
   "metadata": {
    "ExecuteTime": {
     "end_time": "2018-08-25T07:39:44.636068Z",
     "start_time": "2018-08-25T07:39:44.629839Z"
    },
    "scrolled": true
   },
   "outputs": [
    {
     "data": {
      "text/plain": [
       "array([-1, -1, -1])"
      ]
     },
     "execution_count": 18,
     "metadata": {},
     "output_type": "execute_result"
    }
   ],
   "source": [
    "## 뺄셈\n",
    "\n",
    "a_arr - b_arr"
   ]
  },
  {
   "cell_type": "markdown",
   "metadata": {},
   "source": [
    "## (2) 스칼라 곱\n",
    "> ### pure python"
   ]
  },
  {
   "cell_type": "code",
   "execution_count": 19,
   "metadata": {
    "ExecuteTime": {
     "end_time": "2018-08-25T07:40:09.591003Z",
     "start_time": "2018-08-25T07:40:09.586126Z"
    }
   },
   "outputs": [],
   "source": [
    "def scalar_multiply(c, v):\n",
    "    \"\"\"c는 숫자, v는 벡터\"\"\"\n",
    "    return [c * v_i for v_i in v]"
   ]
  },
  {
   "cell_type": "code",
   "execution_count": 20,
   "metadata": {
    "ExecuteTime": {
     "end_time": "2018-08-25T07:40:39.290538Z",
     "start_time": "2018-08-25T07:40:39.281870Z"
    }
   },
   "outputs": [
    {
     "data": {
      "text/plain": [
       "[5, 10, 15]"
      ]
     },
     "execution_count": 20,
     "metadata": {},
     "output_type": "execute_result"
    }
   ],
   "source": [
    "scalar_multiply(5, [1, 2, 3])"
   ]
  },
  {
   "cell_type": "markdown",
   "metadata": {},
   "source": [
    "> ### numpy"
   ]
  },
  {
   "cell_type": "code",
   "execution_count": 22,
   "metadata": {
    "ExecuteTime": {
     "end_time": "2018-08-25T07:41:06.729470Z",
     "start_time": "2018-08-25T07:41:06.719878Z"
    },
    "scrolled": true
   },
   "outputs": [
    {
     "data": {
      "text/plain": [
       "array([ 5, 10, 15])"
      ]
     },
     "execution_count": 22,
     "metadata": {},
     "output_type": "execute_result"
    }
   ],
   "source": [
    "5 * a_arr"
   ]
  },
  {
   "cell_type": "markdown",
   "metadata": {},
   "source": [
    "## (3) 벡터 내적\n",
    "> ### pure python"
   ]
  },
  {
   "cell_type": "code",
   "execution_count": 23,
   "metadata": {
    "ExecuteTime": {
     "end_time": "2018-08-25T07:42:18.018521Z",
     "start_time": "2018-08-25T07:42:18.013204Z"
    }
   },
   "outputs": [],
   "source": [
    "## zip을 사용해서 두 벡터를 묶은 뒤, 두 배열의 각 성분끼리 곱하는 list comprehension을 적용하고, 마지막 결과를 모두 더해준다.\n",
    "\n",
    "def dot(v, w):\n",
    "    \"\"\"v_1*w_1 + v_2*w_2 + ...\"\"\"\n",
    "    return sum(v_i * w_i for v_i, w_i in zip(v, w))"
   ]
  },
  {
   "cell_type": "code",
   "execution_count": 24,
   "metadata": {
    "ExecuteTime": {
     "end_time": "2018-08-25T07:42:18.846676Z",
     "start_time": "2018-08-25T07:42:18.840202Z"
    },
    "scrolled": true
   },
   "outputs": [
    {
     "data": {
      "text/plain": [
       "20"
      ]
     },
     "execution_count": 24,
     "metadata": {},
     "output_type": "execute_result"
    }
   ],
   "source": [
    "dot(a_list, b_list)"
   ]
  },
  {
   "cell_type": "markdown",
   "metadata": {},
   "source": [
    "> ### numpy"
   ]
  },
  {
   "cell_type": "code",
   "execution_count": 25,
   "metadata": {
    "ExecuteTime": {
     "end_time": "2018-08-25T07:42:27.551958Z",
     "start_time": "2018-08-25T07:42:27.545742Z"
    },
    "scrolled": true
   },
   "outputs": [
    {
     "data": {
      "text/plain": [
       "array([ 2,  6, 12])"
      ]
     },
     "execution_count": 25,
     "metadata": {},
     "output_type": "execute_result"
    }
   ],
   "source": [
    "## 곱셈 (내적이 아님)\n",
    "\n",
    "a_arr * b_arr"
   ]
  },
  {
   "cell_type": "code",
   "execution_count": 26,
   "metadata": {
    "ExecuteTime": {
     "end_time": "2018-08-25T07:42:42.490870Z",
     "start_time": "2018-08-25T07:42:42.483756Z"
    }
   },
   "outputs": [
    {
     "data": {
      "text/plain": [
       "20"
      ]
     },
     "execution_count": 26,
     "metadata": {},
     "output_type": "execute_result"
    }
   ],
   "source": [
    "## 내적 1\n",
    "\n",
    "a_arr.dot(b_arr)"
   ]
  },
  {
   "cell_type": "code",
   "execution_count": 27,
   "metadata": {
    "ExecuteTime": {
     "end_time": "2018-08-25T07:42:43.395135Z",
     "start_time": "2018-08-25T07:42:43.388398Z"
    },
    "scrolled": true
   },
   "outputs": [
    {
     "data": {
      "text/plain": [
       "20"
      ]
     },
     "execution_count": 27,
     "metadata": {},
     "output_type": "execute_result"
    }
   ],
   "source": [
    "## 내적 2\n",
    "\n",
    "np.dot(a_arr,b_arr)"
   ]
  },
  {
   "cell_type": "markdown",
   "metadata": {},
   "source": [
    "## (4) 벡터 크기\n",
    "> ### pure python"
   ]
  },
  {
   "cell_type": "code",
   "execution_count": 28,
   "metadata": {
    "ExecuteTime": {
     "end_time": "2018-08-25T07:43:17.665560Z",
     "start_time": "2018-08-25T07:43:17.658301Z"
    }
   },
   "outputs": [],
   "source": [
    "def sum_of_squares(v):\n",
    "    \"\"\"v_1*v_1 + v_2*v_2 + ... + v_n*v_n\"\"\"\n",
    "    return dot(v, v)"
   ]
  },
  {
   "cell_type": "code",
   "execution_count": 31,
   "metadata": {
    "ExecuteTime": {
     "end_time": "2018-08-25T07:44:46.245482Z",
     "start_time": "2018-08-25T07:44:46.240790Z"
    }
   },
   "outputs": [],
   "source": [
    "def magnitude(v):\n",
    "    import math\n",
    "    return math.sqrt(sum_of_squares(v))\n",
    "#     return sum_of_squares(v)**(1/2)\n"
   ]
  },
  {
   "cell_type": "code",
   "execution_count": 32,
   "metadata": {
    "ExecuteTime": {
     "end_time": "2018-08-25T07:44:47.803436Z",
     "start_time": "2018-08-25T07:44:47.793977Z"
    }
   },
   "outputs": [
    {
     "data": {
      "text/plain": [
       "3.7416573867739413"
      ]
     },
     "execution_count": 32,
     "metadata": {},
     "output_type": "execute_result"
    }
   ],
   "source": [
    "magnitude(a_list)"
   ]
  },
  {
   "cell_type": "markdown",
   "metadata": {},
   "source": [
    "> ### numpy"
   ]
  },
  {
   "cell_type": "code",
   "execution_count": 33,
   "metadata": {
    "ExecuteTime": {
     "end_time": "2018-08-25T07:45:00.700167Z",
     "start_time": "2018-08-25T07:45:00.692876Z"
    }
   },
   "outputs": [
    {
     "data": {
      "text/plain": [
       "3.7416573867739413"
      ]
     },
     "execution_count": 33,
     "metadata": {},
     "output_type": "execute_result"
    }
   ],
   "source": [
    "## 벡터 크기\n",
    "\n",
    "np.linalg.norm(a_arr)"
   ]
  },
  {
   "cell_type": "markdown",
   "metadata": {},
   "source": [
    "# 5. 행렬"
   ]
  },
  {
   "cell_type": "markdown",
   "metadata": {},
   "source": [
    "> ### pure python"
   ]
  },
  {
   "cell_type": "code",
   "execution_count": 35,
   "metadata": {
    "ExecuteTime": {
     "end_time": "2018-08-25T07:46:38.269608Z",
     "start_time": "2018-08-25T07:46:38.264560Z"
    }
   },
   "outputs": [],
   "source": [
    "## 행렬을 list로 표현\n",
    "\n",
    "A = [[1, 2, 3], \n",
    "     [4, 5, 6]]\n",
    "\n",
    "B = [[1, 2], \n",
    "     [3, 4],\n",
    "     [5, 6]]"
   ]
  },
  {
   "cell_type": "code",
   "execution_count": 36,
   "metadata": {
    "ExecuteTime": {
     "end_time": "2018-08-25T07:47:09.395394Z",
     "start_time": "2018-08-25T07:47:09.389359Z"
    }
   },
   "outputs": [],
   "source": [
    "## 행렬의 shape를 확인하는 함수 (n, m)\n",
    "\n",
    "def shape(A):\n",
    "    num_rows = len(A)\n",
    "    num_cols = len(A[0]) if A else 0 ## A의 첫번째 행의 element의 갯수\n",
    "    return num_rows, num_cols"
   ]
  },
  {
   "cell_type": "code",
   "execution_count": null,
   "metadata": {},
   "outputs": [],
   "source": [
    "# A = 2x3, B = 3x2"
   ]
  },
  {
   "cell_type": "markdown",
   "metadata": {},
   "source": [
    "> ### numpy"
   ]
  },
  {
   "cell_type": "code",
   "execution_count": 39,
   "metadata": {
    "ExecuteTime": {
     "end_time": "2018-08-25T07:48:50.829161Z",
     "start_time": "2018-08-25T07:48:50.825018Z"
    }
   },
   "outputs": [],
   "source": [
    "matrix_a = np.array([[1, 2, 3], [2, 3, 4]])\n",
    "matrix_b = np.array([[10, 20, 30], [20, 30, 40]])"
   ]
  },
  {
   "cell_type": "code",
   "execution_count": 40,
   "metadata": {
    "ExecuteTime": {
     "end_time": "2018-08-25T07:48:58.018863Z",
     "start_time": "2018-08-25T07:48:58.010325Z"
    }
   },
   "outputs": [
    {
     "data": {
      "text/plain": [
       "(2, 3)"
      ]
     },
     "execution_count": 40,
     "metadata": {},
     "output_type": "execute_result"
    }
   ],
   "source": [
    "## 행렬 shape\n",
    "\n",
    "matrix_a.shape"
   ]
  },
  {
   "cell_type": "code",
   "execution_count": 41,
   "metadata": {
    "ExecuteTime": {
     "end_time": "2018-08-25T07:49:28.962455Z",
     "start_time": "2018-08-25T07:49:28.958259Z"
    }
   },
   "outputs": [],
   "source": [
    "mat_a = [[1, 2, 3], [2, 3, 4]]"
   ]
  },
  {
   "cell_type": "code",
   "execution_count": 43,
   "metadata": {
    "ExecuteTime": {
     "end_time": "2018-08-25T07:50:01.326692Z",
     "start_time": "2018-08-25T07:50:01.320340Z"
    }
   },
   "outputs": [
    {
     "data": {
      "text/plain": [
       "array([2, 3, 4])"
      ]
     },
     "execution_count": 43,
     "metadata": {},
     "output_type": "execute_result"
    }
   ],
   "source": [
    "## 행렬 slicing\n",
    "## 행 선택\n",
    "\n",
    "matrix_a[1]"
   ]
  },
  {
   "cell_type": "code",
   "execution_count": 44,
   "metadata": {
    "ExecuteTime": {
     "end_time": "2018-08-25T07:50:08.794525Z",
     "start_time": "2018-08-25T07:50:08.786665Z"
    }
   },
   "outputs": [
    {
     "data": {
      "text/plain": [
       "array([[1, 2, 3],\n",
       "       [2, 3, 4]])"
      ]
     },
     "execution_count": 44,
     "metadata": {},
     "output_type": "execute_result"
    }
   ],
   "source": [
    "matrix_a"
   ]
  },
  {
   "cell_type": "code",
   "execution_count": 46,
   "metadata": {
    "ExecuteTime": {
     "end_time": "2018-08-25T07:50:39.271203Z",
     "start_time": "2018-08-25T07:50:39.264908Z"
    },
    "scrolled": true
   },
   "outputs": [
    {
     "data": {
      "text/plain": [
       "array([2, 3])"
      ]
     },
     "execution_count": 46,
     "metadata": {},
     "output_type": "execute_result"
    }
   ],
   "source": [
    "## 2행의 2번째 열까지\n",
    "\n",
    "matrix_a[1, :2]"
   ]
  },
  {
   "cell_type": "code",
   "execution_count": 47,
   "metadata": {
    "ExecuteTime": {
     "end_time": "2018-08-25T07:50:39.838523Z",
     "start_time": "2018-08-25T07:50:39.830357Z"
    }
   },
   "outputs": [
    {
     "data": {
      "text/plain": [
       "array([[1, 2],\n",
       "       [2, 3]])"
      ]
     },
     "execution_count": 47,
     "metadata": {},
     "output_type": "execute_result"
    }
   ],
   "source": [
    "## 모든 행의 2번째 열까지\n",
    "matrix_a[:, :2]"
   ]
  },
  {
   "cell_type": "code",
   "execution_count": 48,
   "metadata": {
    "ExecuteTime": {
     "end_time": "2018-08-25T07:50:59.473261Z",
     "start_time": "2018-08-25T07:50:59.464677Z"
    },
    "scrolled": true
   },
   "outputs": [
    {
     "data": {
      "text/plain": [
       "array([[1, 2],\n",
       "       [2, 3],\n",
       "       [3, 4]])"
      ]
     },
     "execution_count": 48,
     "metadata": {},
     "output_type": "execute_result"
    }
   ],
   "source": [
    "## 전치 행렬\n",
    "\n",
    "matrix_a.T"
   ]
  },
  {
   "cell_type": "code",
   "execution_count": 49,
   "metadata": {
    "ExecuteTime": {
     "end_time": "2018-08-25T07:51:04.150782Z",
     "start_time": "2018-08-25T07:51:04.144203Z"
    }
   },
   "outputs": [
    {
     "data": {
      "text/plain": [
       "array([[1, 2, 3],\n",
       "       [2, 3, 4]])"
      ]
     },
     "execution_count": 49,
     "metadata": {},
     "output_type": "execute_result"
    }
   ],
   "source": [
    "matrix_a"
   ]
  },
  {
   "cell_type": "code",
   "execution_count": 50,
   "metadata": {
    "ExecuteTime": {
     "end_time": "2018-08-25T07:51:19.097949Z",
     "start_time": "2018-08-25T07:51:19.083237Z"
    },
    "scrolled": true
   },
   "outputs": [
    {
     "ename": "ValueError",
     "evalue": "shapes (2,3) and (2,3) not aligned: 3 (dim 1) != 2 (dim 0)",
     "output_type": "error",
     "traceback": [
      "\u001b[0;31m---------------------------------------------------------------------------\u001b[0m",
      "\u001b[0;31mValueError\u001b[0m                                Traceback (most recent call last)",
      "\u001b[0;32m<ipython-input-50-e13fd8cf9683>\u001b[0m in \u001b[0;36m<module>\u001b[0;34m()\u001b[0m\n\u001b[1;32m      1\u001b[0m \u001b[0;31m## 행렬곱\u001b[0m\u001b[0;34m\u001b[0m\u001b[0;34m\u001b[0m\u001b[0m\n\u001b[1;32m      2\u001b[0m \u001b[0;34m\u001b[0m\u001b[0m\n\u001b[0;32m----> 3\u001b[0;31m \u001b[0mnp\u001b[0m\u001b[0;34m.\u001b[0m\u001b[0mdot\u001b[0m\u001b[0;34m(\u001b[0m\u001b[0mmatrix_a\u001b[0m\u001b[0;34m,\u001b[0m \u001b[0mmatrix_b\u001b[0m\u001b[0;34m)\u001b[0m\u001b[0;34m\u001b[0m\u001b[0m\n\u001b[0m",
      "\u001b[0;31mValueError\u001b[0m: shapes (2,3) and (2,3) not aligned: 3 (dim 1) != 2 (dim 0)"
     ]
    }
   ],
   "source": [
    "## 행렬곱\n",
    "\n",
    "np.dot(matrix_a, matrix_b)"
   ]
  },
  {
   "cell_type": "code",
   "execution_count": 51,
   "metadata": {
    "ExecuteTime": {
     "end_time": "2018-08-25T07:51:33.756089Z",
     "start_time": "2018-08-25T07:51:33.746006Z"
    },
    "scrolled": true
   },
   "outputs": [
    {
     "data": {
      "text/plain": [
       "array([[ 50,  80, 110],\n",
       "       [ 80, 130, 180],\n",
       "       [110, 180, 250]])"
      ]
     },
     "execution_count": 51,
     "metadata": {},
     "output_type": "execute_result"
    }
   ],
   "source": [
    "## 행렬의 내적을 위해서는 곱이 가능한 shape으로 바꾸어 주어야된다.\n",
    "\n",
    "np.dot(matrix_a.T, matrix_b)"
   ]
  },
  {
   "cell_type": "markdown",
   "metadata": {},
   "source": [
    "# 보충자료\n",
    "> - numpy tutorial\n",
    "    - https://docs.scipy.org/doc/numpy/user/quickstart.html\n",
    "-  Matlab 사용자를 위한 numpy\n",
    "    - https://docs.scipy.org/doc/numpy-1.13.0/user/numpy-for-matlab-users.html\n",
    "- numpy tutorial 한글버전\n",
    "    - python 2.7로 작성되어있어서 python3.x 에서는 작동하지 않는 코드도 있음.\n",
    "        - print \"object\" 형태를 print(\"object\") 형태로만 바꿔주면 된다.\n",
    "    - http://ishuca.tistory.com/373"
   ]
  },
  {
   "cell_type": "code",
   "execution_count": null,
   "metadata": {},
   "outputs": [],
   "source": []
  },
  {
   "cell_type": "code",
   "execution_count": null,
   "metadata": {},
   "outputs": [],
   "source": []
  }
 ],
 "metadata": {
  "anaconda-cloud": {},
  "hide_input": false,
  "kernelspec": {
   "display_name": "Python [default]",
   "language": "python",
   "name": "python3"
  },
  "language_info": {
   "codemirror_mode": {
    "name": "ipython",
    "version": 3
   },
   "file_extension": ".py",
   "mimetype": "text/x-python",
   "name": "python",
   "nbconvert_exporter": "python",
   "pygments_lexer": "ipython3",
   "version": "3.5.4"
  }
 },
 "nbformat": 4,
 "nbformat_minor": 1
}
